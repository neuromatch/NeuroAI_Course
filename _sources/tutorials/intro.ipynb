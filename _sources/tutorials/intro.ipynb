{
 "cells": [
  {
   "cell_type": "markdown",
   "metadata": {
    "colab_type": "text",
    "execution": {},
    "id": "view-in-github"
   },
   "source": [
    "<a href=\"https://colab.research.google.com/github/neuromatch/course-content-template/blob/main/tutorials/intro.ipynb\" target=\"_blank\"><img alt=\"Open In Colab\" src=\"https://colab.research.google.com/assets/colab-badge.svg\"/></a>   <a href=\"https://kaggle.com/kernels/welcome?src=https://raw.githubusercontent.com/neuromatch/course-content-template/main/tutorials/intro.ipynb\" target=\"_blank\"><img alt=\"Open in Kaggle\" src=\"https://kaggle.com/static/images/open-in-kaggle.svg\"/></a>"
   ]
  },
  {
   "cell_type": "markdown",
   "metadata": {
    "execution": {},
    "pycharm": {
     "name": "#%% md\n"
    }
   },
   "source": [
    "# Introduction\n",
    "\n",
    "Welcome to the Neuromatch NeuroAI Course!\n",
    "\n",
    "![Sponsors](./static/NeuroAI_sponsors_intro.png)"
   ]
  },
  {
   "cell_type": "markdown",
   "metadata": {
    "execution": {},
    "pycharm": {
     "name": "#%% md\n"
    }
   },
   "source": [
    "## Orientation Video\n",
    "\n",
    "The executive director will record an introductory video. See below last year video:"
   ]
  },
  {
   "cell_type": "markdown",
   "metadata": {},
   "source": [
    "###  Test\n"
   ]
  },
  {
   "cell_type": "code",
   "execution_count": null,
   "metadata": {
    "cellView": "form",
    "execution": {},
    "pycharm": {
     "name": "#%%\n"
    },
    "tags": [
     "remove-input"
    ]
   },
   "outputs": [],
   "source": [
    "# @title Test\n",
    "# from ipywidgets import widgets\n",
    "# from IPython.display import YouTubeVideo\n",
    "# from IPython.display import IFrame\n",
    "# from IPython.display import display\n",
    "\n",
    "\n",
    "# class PlayVideo(IFrame):\n",
    "#   def __init__(self, id, source, page=1, width=400, height=300, **kwargs):\n",
    "#     self.id = id\n",
    "#     if source == 'Bilibili':\n",
    "#       src = f'https://player.bilibili.com/player.html?bvid={id}&page={page}'\n",
    "#     elif source == 'Osf':\n",
    "#       src = f'https://mfr.ca-1.osf.io/render?url=https://osf.io/download/{id}/?direct%26mode=render'\n",
    "#     super(PlayVideo, self).__init__(src, width, height, **kwargs)\n",
    "\n",
    "\n",
    "# def display_videos(video_ids, W=400, H=300, fs=1):\n",
    "#   tab_contents = []\n",
    "#   for i, video_id in enumerate(video_ids):\n",
    "#     out = widgets.Output()\n",
    "#     with out:\n",
    "#       if video_ids[i][0] == 'Youtube':\n",
    "#         video = YouTubeVideo(id=video_ids[i][1], width=W,\n",
    "#                              height=H, fs=fs, rel=0)\n",
    "#         print(f'Video available at https://youtube.com/watch?v={video.id}')\n",
    "#       else:\n",
    "#         video = PlayVideo(id=video_ids[i][1], source=video_ids[i][0], width=W,\n",
    "#                           height=H, fs=fs, autoplay=False)\n",
    "#         if video_ids[i][0] == 'Bilibili':\n",
    "#           print(f'Video available at https://www.bilibili.com/video/{video.id}')\n",
    "#         elif video_ids[i][0] == 'Osf':\n",
    "#           print(f'Video available at https://osf.io/{video.id}')\n",
    "#       display(video)\n",
    "#     tab_contents.append(out)\n",
    "#   return tab_contents\n",
    "\n",
    "\n",
    "# video_ids = [('Youtube', 'cV2q-vpdKUA'), ('Bilibili', 'BV1Zg4y1A7tJ')]\n",
    "# tab_contents = display_videos(video_ids, W=730, H=410)\n",
    "# tabs = widgets.Tab()\n",
    "# tabs.children = tab_contents\n",
    "# for i in range(len(tab_contents)):\n",
    "#   tabs.set_title(i, video_ids[i][0])\n",
    "# display(tabs)"
   ]
  },
  {
   "cell_type": "markdown",
   "metadata": {
    "execution": {},
    "pycharm": {
     "name": "#%% md\n"
    }
   },
   "source": [
    "## Concepts map\n",
    "\n",
    "<p align='center'><img src='https://github.com/neuromatch/NeuroAI_Course/blob/main/tutorials/static/NeuroAI_concept_map.png?raw=True' alt='NeuroAI Concept Map'/></p>\n",
    "\n",
    "*Created by Patrick Mineault*"
   ]
  },
  {
   "cell_type": "markdown",
   "metadata": {
    "execution": {}
   },
   "source": [
    "## Curriculum overview\n",
    "\n",
    "Welcome to the NeuroAI Course!\n",
    "\n",
    "\n",
    "**What are common principles of natural and artificial intelligence?**\n",
    "\n",
    "The core challenge of intelligence is generalization. Neuroscience, cognitive science, and AI are all questing for principles that help generalization. Major system features that affect generalization include: task structure (multitasking, multiple inputs with same output and vice versa), microcircuitry (nonlinearities, canonical motifs and their operations, sparsity), macrocircuitry or architecture (e.g. modules for memory, information segregation, weight sharing by input symmetry or common development), learning rules (synaptic plasticity, modulation), and data stream (e.g. curriculum).\n",
    "\n",
    "We aim to present current understanding of how these issues arise in both natural and artificial intelligence, comparing how these system features affect representations, computations, and learning. We provide case studies and coding exercises that illustrate these issues in neuroscience, cognitive science and AI.\n",
    "\n",
    "- **Learning Goal 1**: A common understanding and vocabulary to describe challenges faced by naturally intelligent systems\n",
    "  - Describe core shared concepts in neuroscience, cognitive science and machine learning and how they differ from each other\n",
    "  - Describe and implement different ways in which an ANN can be compared to a BNN\n",
    "  - Describe multiple scales of computation, and multiple scales of study (e.g. Marr’s levels, what/how/why?)\n",
    "  \n",
    "  \n",
    "- **Learning Goal 2**: Experience a multiplicity of approaches and interests at the intersection of neuro and AI; be able to describe some of these approaches and interests\n",
    "- **Learning Goal 3**: Be able to practically implement NeuroAI models\n",
    "  - Coding and training models\n",
    "  - Adding more features to existing models\n",
    "  - Debugging (within guardrails)\n",
    "  - Interpreting, analyzing and critiquing existing models\n",
    "- **Learning Goal 4**: Complete research that deals with difficulties in NeuroAI\n",
    "  - Writing down a problem in a way that makes it tractable\n",
    "  - Interacting with other people from other disciplines fruitfully\n",
    "  - Do research (reading papers, implementing previous SOTA, coding new methods, evaluating diff methods) in NeuroAI\n",
    "  - Communicating their research in ways that are comprehensible to their target audience\n",
    "\n",
    "\n",
    "<p align='center'><img src='https://github.com/neuromatch/NeuroAI_Course/blob/main/tutorials/static/NeuroAI_big_tent.png?raw=True' alt='NeuroAI Big Tent image'/></p>"
   ]
  }
 ],
 "metadata": {
  "colab": {
   "collapsed_sections": [],
   "include_colab_link": true,
   "name": "intro",
   "provenance": [],
   "toc_visible": true
  },
  "kernel": {
   "display_name": "Python 3",
   "language": "python",
   "name": "python3"
  },
  "kernelspec": {
   "display_name": "Python 3 (ipykernel)",
   "language": "python",
   "name": "python3"
  },
  "language_info": {
   "codemirror_mode": {
    "name": "ipython",
    "version": 3
   },
   "file_extension": ".py",
   "mimetype": "text/x-python",
   "name": "python",
   "nbconvert_exporter": "python",
   "pygments_lexer": "ipython3",
   "version": "3.9.19"
  }
 },
 "nbformat": 4,
 "nbformat_minor": 4
}