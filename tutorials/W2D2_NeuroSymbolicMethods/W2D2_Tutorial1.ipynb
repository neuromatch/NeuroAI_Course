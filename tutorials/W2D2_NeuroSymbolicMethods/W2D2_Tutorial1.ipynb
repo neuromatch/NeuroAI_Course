{
 "cells": [
  {
   "cell_type": "markdown",
   "metadata": {
    "colab_type": "text",
    "execution": {},
    "id": "view-in-github"
   },
   "source": [
    "<a href=\"https://colab.research.google.com/github/neuromatch/NeuroAI_Course/blob/main/tutorials/W2D2_NeuroSymbolicMethods/student/W2D2_Tutorial1.ipynb\" target=\"_parent\"><img src=\"https://colab.research.google.com/assets/colab-badge.svg\" alt=\"Open In Colab\"/></a> &nbsp; <a href=\"https://kaggle.com/kernels/welcome?src=https://raw.githubusercontent.com/neuromatch/NeuroAI_Course/main/tutorials/W2D2_NeuroSymbolicMethods/student/W2D2_Tutorial1.ipynb\" target=\"_parent\"><img src=\"https://kaggle.com/static/images/open-in-kaggle.svg\" alt=\"Open in Kaggle\"/></a>"
   ]
  },
  {
   "cell_type": "markdown",
   "metadata": {
    "execution": {}
   },
   "source": [
    "# Tutorial 1: Basic operations of vector symbolic algebra \n",
    "\n",
    "**Week 2, Day 2: Neuro-Symbolic Methods**\n",
    "\n",
    "**By Neuromatch Academy**\n",
    "\n",
    "__Content creators:__ P. Michael Furlong, Chris Eliasmith\n",
    "\n",
    "__Content reviewers:__ Hlib Solodzhuk, Patrick Mineault, Aakash Agrawal, Alish Dipani, Hossein Rezaei, Yousef Ghanbari, Mostafa Abdollahi, Alex Murphy\n",
    "\n",
    "__Production editors:__ Konstantine Tsafatinos, Ella Batty, Spiros Chavlis, Samuele Bolotta, Hlib Solodzhuk, Alex Murphy\n"
   ]
  },
  {
   "cell_type": "markdown",
   "metadata": {
    "execution": {}
   },
   "source": [
    "___\n",
    "\n",
    "\n",
    "# Tutorial Objectives\n",
    "\n",
    "*Estimated timing of tutorial: 1 hour*\n",
    "\n",
    "In this tutorial we will introduce the concept of a vector symbolic algebra (VSA) and discuss its main operations and we will give you some demonstrations on a simple set of concepts (shapes and their colors) in order to let you see and play around with concept manipulations in this VSA! Let's get started!"
   ]
  },
  {
   "cell_type": "code",
   "execution_count": null,
   "metadata": {
    "cellView": "form",
    "execution": {}
   },
   "outputs": [],
   "source": [
    "# @title Tutorial slides\n",
    "# @markdown These are the slides for the videos in all tutorials today\n",
    "\n",
    "from IPython.display import IFrame\n",
    "link_id = \"jybuw\"\n",
    "\n",
    "print(f\"If you want to download the slides: 'https://osf.io/download/{link_id}'\")\n",
    "\n",
    "IFrame(src=f\"https://mfr.ca-1.osf.io/render?url=https://osf.io/download/{link_id}/?direct%26mode=render\", width=854, height=480)"
   ]
  },
  {
   "cell_type": "markdown",
   "metadata": {
    "execution": {}
   },
   "source": [
    "---\n",
    "# Setup (Colab Users: Please Read)\n",
    "\n",
    "Note that because this tutorial relies on some special Python packages, these packages have requirements for specific versions of common scientific libraries, such as `numpy`. If you're in Google Colab, then as of May 2025, this comes with a later version (2.0.2) pre-installed. We require an older version (we'll be installing `1.24.4`). This causes Colab to force a session restart and then re-running of the installation cells for the new version to take effect. When you run the cell below, you will be prompted to restart the session. This is *entirely expected* and you haven't done anything wrong. Simply click 'Restart' and then run the cells as normal. \n",
    "\n",
    "An additional error might sometimes arise where an exception is raised connected to a missing element of NumPy. If this occurs, please restart the session and re-run the cells as normal and this error will go away. Updated versions of the affected libraries are expected out soon, but sadly not in time for the preparation of this material. We thank you for your understanding."
   ]
  },
  {
   "cell_type": "code",
   "execution_count": null,
   "metadata": {
    "cellView": "form",
    "execution": {}
   },
   "outputs": [],
   "source": [
    "# @title Install and import feedback gadget\n",
    "\n",
    "!pip install git+https://github.com/neuromatch/sspspace@neuromatch --quiet\n",
    "!pip install numpy==1.24.4\n",
    "!pip install nengo_spa==2.0.0 \n",
    "!pip install --quiet matplotlib ipywidgets scipy vibecheck\n",
    "\n",
    "from vibecheck import DatatopsContentReviewContainer\n",
    "def content_review(notebook_section: str):\n",
    "    return DatatopsContentReviewContainer(\n",
    "        \"\",  # No text prompt\n",
    "        notebook_section,\n",
    "        {\n",
    "            \"url\": \"https://pmyvdlilci.execute-api.us-east-1.amazonaws.com/klab\",\n",
    "            \"name\": \"neuromatch_neuroai\",\n",
    "            \"user_key\": \"wb2cxze8\",\n",
    "        },\n",
    "    ).render()\n",
    "\n",
    "\n",
    "feedback_prefix = \"W2D2_T1\""
   ]
  },
  {
   "cell_type": "code",
   "execution_count": null,
   "metadata": {
    "cellView": "form",
    "execution": {}
   },
   "outputs": [],
   "source": [
    "# @title Imports\n",
    "\n",
    "#working with data\n",
    "import numpy as np\n",
    "\n",
    "#plotting\n",
    "import matplotlib.pyplot as plt\n",
    "import logging\n",
    "\n",
    "#interactive display\n",
    "import ipywidgets as widgets\n",
    "\n",
    "#modeling\n",
    "import sspspace\n",
    "import nengo_spa as spa\n",
    "from scipy.special import softmax"
   ]
  },
  {
   "cell_type": "code",
   "execution_count": null,
   "metadata": {
    "cellView": "form",
    "execution": {}
   },
   "outputs": [],
   "source": [
    "# @title Figure settings\n",
    "\n",
    "logging.getLogger('matplotlib.font_manager').disabled = True\n",
    "\n",
    "%matplotlib inline\n",
    "%config InlineBackend.figure_format = 'retina' # perfrom high definition rendering for images and plots\n",
    "plt.style.use(\"https://raw.githubusercontent.com/NeuromatchAcademy/course-content/main/nma.mplstyle\")"
   ]
  },
  {
   "cell_type": "code",
   "execution_count": null,
   "metadata": {
    "cellView": "form",
    "execution": {}
   },
   "outputs": [],
   "source": [
    "# @title Plotting functions\n",
    "\n",
    "def plot_vectors(concepts, labels, shape = (32, 32)):\n",
    "    \"\"\"\n",
    "    Plot vector symbols associated with the given concepts.\n",
    "\n",
    "    Inputs:\n",
    "    - concepts (list of sspspace.ssp.SSP): list of concepts which contain associated vectors.\n",
    "    - labels (list of str): list of strings which represent concepts.\n",
    "    - shape (tuple, default = (32, 32)): desired image shape.\n",
    "    \"\"\"\n",
    "    with plt.xkcd():\n",
    "        n = len(concepts)\n",
    "        for i in range(len(concepts)):\n",
    "            plt.subplot(1,n,i+1)\n",
    "            plt.imshow(concepts[i].view(dtype=float,type=np.ndarray).reshape(shape), cmap='Greys')\n",
    "            plt.xticks([])\n",
    "            plt.yticks([])\n",
    "            plt.title(labels[i])\n",
    "\n",
    "def plot_similarity_matrix(sim_mat, labels, values = False):\n",
    "    \"\"\"\n",
    "    Plot the similarity matrix between vectors.\n",
    "\n",
    "    Inputs:\n",
    "    - sim_mat (numpy.ndarray): similarity matrix between vectors.\n",
    "    - labels (list of str): list of strings which represent concepts.\n",
    "    - values (bool): True if we would like to plot values of similarity too.\n",
    "    \"\"\"\n",
    "    with plt.xkcd():\n",
    "        plt.imshow(sim_mat, cmap='Greys')\n",
    "        plt.colorbar()\n",
    "        plt.xticks(np.arange(len(labels)), labels, rotation=45, ha=\"right\", rotation_mode=\"anchor\")\n",
    "        plt.yticks(np.arange(len(labels)), labels)\n",
    "        if values:\n",
    "            for x in range(sim_mat.shape[1]):\n",
    "                for y in range(sim_mat.shape[0]):\n",
    "                    plt.text(x, y, f\"{sim_mat[y, x]:.2f}\", fontsize = 8, ha=\"center\", va=\"center\", color=\"green\")\n",
    "        plt.title('Similarity between vector-symbols')\n",
    "        plt.xlabel('Symbols')\n",
    "        plt.ylabel('Symbols')\n",
    "        plt.show()\n",
    "\n",
    "def plot_line_similarity_matrix(sim_mat, xaxis_ticks, multiple_objects = True, labels = None, title = \"Awesome title!\"):\n",
    "    \"\"\"\n",
    "    Plot similarirty matrix (or vector if multiple_objects is False) as lines.\n",
    "\n",
    "    Inputs:\n",
    "    - sim_mat (numpy.ndarray): similarity matrix between vectors.\n",
    "    - xaxis_ticks (list): list of ticks to put in x-axis.\n",
    "    - multiple_objects (bool, default = True): True if there are a couple of objects to plot similarity.\n",
    "    - labels (list, default = None): labels to plot.\n",
    "    - title (str): title of the plot.\n",
    "    \"\"\"\n",
    "    with plt.xkcd():\n",
    "        if multiple_objects:\n",
    "            for idx, integer_sims in enumerate(sim_mat):\n",
    "                if labels:\n",
    "                    plt.plot(xaxis_ticks, integer_sims.flatten(), label=f'$\\phi$[{idx+1}]', marker='o', ls='--')\n",
    "                else:\n",
    "                    plt.plot(xaxis_ticks, integer_sims.flatten(), marker='o', ls='--')\n",
    "        else:\n",
    "            plt.plot(xaxis_ticks,sim_mat.flatten(), ls='--',marker='o')\n",
    "\n",
    "    plt.ylabel('Similarity')\n",
    "    plt.xlabel('n')\n",
    "    plt.xticks(xaxis_ticks)\n",
    "    if labels:\n",
    "        plt.legend(loc='upper right')\n",
    "    plt.title(title)\n",
    "    plt.show()\n",
    "\n",
    "def plot_double_line_similarity_matrix(sim_mat, xaxis_ticks, labels, title):\n",
    "    \"\"\"\n",
    "    Plot similarirty matrix (or vector if multiple_objects is False) as lines for two different matrices.\n",
    "\n",
    "    Inputs:\n",
    "    - sim_mat (numpy.ndarray): list of similarity matrix between vectors.\n",
    "    - xaxis_ticks (list): list of ticks to put in x-axis.\n",
    "    - multiple_objects (bool, default = True): True if there are a couple of objects to plot similarity.\n",
    "    - labels (list): labels to plot.\n",
    "    - title (str): title of the plot.\n",
    "    \"\"\"\n",
    "    with plt.xkcd():\n",
    "        plt.plot(xaxis_ticks,sim_mat[0].flatten(), ls='--',marker='o', label = labels[0])\n",
    "        plt.plot(xaxis_ticks,sim_mat[1].flatten(), ls='--',marker='o', label = labels[1])\n",
    "    plt.ylabel('Similarity')\n",
    "    plt.xlabel('n')\n",
    "    plt.xticks(xaxis_ticks)\n",
    "    plt.legend(loc='upper right')\n",
    "    plt.title(title)\n",
    "    plt.show()\n",
    "\n",
    "def plot_real_valued_line_similarity(sim_mat, x_range, title):\n",
    "    \"\"\"\n",
    "    Inputs:\n",
    "    - sim_mat (numpy.ndarray): similarity matrix between vectors.\n",
    "    - x_range (numpy.ndarray): x-axis range.\n",
    "    - title (str): title of the plot.\n",
    "    \"\"\"\n",
    "    with plt.xkcd():\n",
    "        plt.plot(x_range, sims)\n",
    "    plt.xlabel('x')\n",
    "    plt.ylabel('Similarity')\n",
    "    plt.title(title)"
   ]
  },
  {
   "cell_type": "code",
   "execution_count": null,
   "metadata": {
    "cellView": "form",
    "execution": {}
   },
   "outputs": [],
   "source": [
    "# @title Set random seed\n",
    "\n",
    "import random\n",
    "import numpy as np\n",
    "\n",
    "def set_seed(seed=None):\n",
    "  if seed is None:\n",
    "    seed = np.random.choice(2 ** 32)\n",
    "  random.seed(seed)\n",
    "  np.random.seed(seed)\n",
    "\n",
    "set_seed(seed = 42)"
   ]
  },
  {
   "cell_type": "markdown",
   "metadata": {
    "execution": {}
   },
   "source": [
    "---\n",
    "\n",
    "# Section 1: High-dimensional vector symbols\n",
    "\n",
    "In this section, we are going to start our journey by representing concepts as high-dimensional vectors. "
   ]
  },
  {
   "cell_type": "code",
   "execution_count": null,
   "metadata": {
    "cellView": "form",
    "execution": {}
   },
   "outputs": [],
   "source": [
    "# @title Video 1: Similarity\n",
    "\n",
    "from ipywidgets import widgets\n",
    "from IPython.display import YouTubeVideo\n",
    "from IPython.display import IFrame\n",
    "from IPython.display import display\n",
    "\n",
    "class PlayVideo(IFrame):\n",
    "  def __init__(self, id, source, page=1, width=400, height=300, **kwargs):\n",
    "    self.id = id\n",
    "    if source == 'Bilibili':\n",
    "      src = f'https://player.bilibili.com/player.html?bvid={id}&page={page}'\n",
    "    elif source == 'Osf':\n",
    "      src = f'https://mfr.ca-1.osf.io/render?url=https://osf.io/download/{id}/?direct%26mode=render'\n",
    "    super(PlayVideo, self).__init__(src, width, height, **kwargs)\n",
    "\n",
    "def display_videos(video_ids, W=400, H=300, fs=1):\n",
    "  tab_contents = []\n",
    "  for i, video_id in enumerate(video_ids):\n",
    "    out = widgets.Output()\n",
    "    with out:\n",
    "      if video_ids[i][0] == 'Youtube':\n",
    "        video = YouTubeVideo(id=video_ids[i][1], width=W,\n",
    "                             height=H, fs=fs, rel=0)\n",
    "        print(f'Video available at https://youtube.com/watch?v={video.id}')\n",
    "      else:\n",
    "        video = PlayVideo(id=video_ids[i][1], source=video_ids[i][0], width=W,\n",
    "                          height=H, fs=fs, autoplay=False)\n",
    "        if video_ids[i][0] == 'Bilibili':\n",
    "          print(f'Video available at https://www.bilibili.com/video/{video.id}')\n",
    "        elif video_ids[i][0] == 'Osf':\n",
    "          print(f'Video available at https://osf.io/{video.id}')\n",
    "      display(video)\n",
    "    tab_contents.append(out)\n",
    "  return tab_contents\n",
    "\n",
    "video_ids = [('Youtube', 'D9VzF9AyDic'), ('Bilibili', 'BV17x4y1b7ED')]\n",
    "tab_contents = display_videos(video_ids, W=854, H=480)\n",
    "tabs = widgets.Tab()\n",
    "tabs.children = tab_contents\n",
    "for i in range(len(tab_contents)):\n",
    "  tabs.set_title(i, video_ids[i][0])\n",
    "display(tabs)"
   ]
  },
  {
   "cell_type": "code",
   "execution_count": null,
   "metadata": {
    "cellView": "form",
    "execution": {}
   },
   "outputs": [],
   "source": [
    "# @title Submit your feedback\n",
    "content_review(f\"{feedback_prefix}_high_dimensional_vector_symbols\")"
   ]
  },
  {
   "cell_type": "markdown",
   "metadata": {
    "execution": {}
   },
   "source": [
    "## Coding Exercise 1: Concepts as High-Dimensional Vectors\n",
    "\n",
    "In an arbitrary space of concepts, we will represent the ideas of `CIRCLE`, `SQUARE` and `TRIANGLE`. For that, we will make a vocabulary that map identifiers of the concepts (strings of their names in this case) into high-dimensional vectors of unit length. It means that for each `name`, we will uniquely identify $\\mathbf{v}$ where $||\\mathbf{v}|| = 1$.\n",
    "\n",
    "In this exercise, check that, indeed, vectors are of unit length."
   ]
  },
  {
   "cell_type": "code",
   "execution_count": null,
   "metadata": {},
   "outputs": [],
   "source": [
    "from nengo_spa.algebras.hrr_algebra import HrrProperties, HrrAlgebra\n",
    "from nengo_spa.vector_generation import VectorsWithProperties\n",
    "def make_vocabulary(vector_length):\n",
    "    vec_generator = VectorsWithProperties(vector_length, algebra=HrrAlgebra(), properties = [HrrProperties.UNITARY, HrrProperties.POSITIVE])\n",
    "    vocab = spa.Vocabulary(vector_length, pointer_gen=vec_generator)\n",
    "    return vocab"
   ]
  },
  {
   "cell_type": "code",
   "execution_count": null,
   "metadata": {
    "cellView": "form",
    "execution": {},
    "pycharm": {
     "name": "#%%\n"
    }
   },
   "outputs": [],
   "source": [
    "###################################################################\n",
    "## Fill out the following then remove\n",
    "raise NotImplementedError(\"Student exercise: complete check that norms of the vector representations are of unit lengths.\")\n",
    "###################################################################\n",
    "\n",
    "set_seed(42)\n",
    "\n",
    "vector_length = 1024\n",
    "symbol_names = ['CIRCLE','SQUARE','TRIANGLE']\n",
    "\n",
    "vocab = make_vocabulary(vector_length)\n",
    "vocab.populate(';'.join(symbol_names))\n",
    "print(list(vocab.keys()))\n",
    "\n",
    "circle = vocab['CIRCLE']\n",
    "square = vocab['SQUARE']\n",
    "triangle = vocab['TRIANGLE']\n",
    "\n",
    "print('|circle| =', np.linalg.norm(circle.v))\n",
    "print('|triangle| =', np.linalg.norm(square.v))\n",
    "print('|square| =', np.linalg.norm(triangle.v))"
   ]
  },
  {
   "cell_type": "code",
   "execution_count": null,
   "metadata": {
    "execution": {}
   },
   "outputs": [],
   "source": [
    "# to_remove solution\n",
    "\n",
    "set_seed(42)\n",
    "\n",
    "vector_length = 1024\n",
    "symbol_names = ['CIRCLE','SQUARE','TRIANGLE']\n",
    "\n",
    "vocab = make_vocabulary(vector_length)\n",
    "vocab.populate(';'.join(symbol_names))\n",
    "print(list(vocab.keys()))\n",
    "\n",
    "circle = vocab['CIRCLE']\n",
    "square = vocab['SQUARE']\n",
    "triangle = vocab['TRIANGLE']\n",
    "\n",
    "print('|circle| =', np.linalg.norm(circle.v))\n",
    "print('|triangle| =', np.linalg.norm(square.v))\n",
    "print('|square| =', np.linalg.norm(triangle.v))"
   ]
  },
  {
   "cell_type": "markdown",
   "metadata": {
    "execution": {}
   },
   "source": [
    "We can visualize the assigned vectors as 32x32 images (notice that the dimension is 1024; it is exactly 32 multiplied by 32)."
   ]
  },
  {
   "cell_type": "code",
   "execution_count": null,
   "metadata": {
    "execution": {}
   },
   "outputs": [],
   "source": [
    "plot_vectors([circle.v, square.v, triangle.v], symbol_names)"
   ]
  },
  {
   "cell_type": "markdown",
   "metadata": {
    "execution": {}
   },
   "source": [
    "As vectors are initialized randomly, it's perfectly expected that there is no visual connection to how we would represent or expect those concepts to be represented.\n",
    "\n",
    "One of the extremely useful properties of random high-dimensional vectors is that they are approximately orthogonal. This is an important aspect for vector symbolic algebras (VSAs), since we will use the vector dot product to measure similarity between objects encoded as random, high-dimensional vectors.\n",
    "\n",
    "Discrete objects are either the same or different, so we expect similarity would be either 1 (the same) or 0 (not the same). Given how we select the vectors that represent discrete symbols, if they are the same they will have the dot product of 1 and if they are different concepts, then they will have a dot product of (approximately) 0. This is due to the approximate orthogonality of randomly selected high-dimensional vectors.\n",
    "\n",
    "Below we use the | operator to indicate similarity. This is borrowed from the bra-ket notation in physics, i.e.,\n",
    "\n",
    "$$\n",
    "\\mathbf{a}\\cdot\\mathbf{b} = \\langle \\mathbf{a} \\mid \\mathbf{b}\\rangle\n",
    "$$\n",
    "\n",
    "Notice that this operator **| is** the **dot product** under the hood."
   ]
  },
  {
   "cell_type": "code",
   "execution_count": null,
   "metadata": {
    "execution": {}
   },
   "outputs": [],
   "source": [
    "sim_mat = np.zeros((3,3))\n",
    "\n",
    "sim_mat[0,0] = spa.dot(circle, circle)\n",
    "sim_mat[1,1] = spa.dot(square, square)\n",
    "sim_mat[2,2] = spa.dot(triangle, triangle)\n",
    "\n",
    "sim_mat[0,1] = sim_mat[1,0] = spa.dot(circle, square)\n",
    "sim_mat[0,2] = sim_mat[2,0] = spa.dot(circle, triangle)\n",
    "sim_mat[1,2] = sim_mat[2,1] = spa.dot(square, triangle)\n",
    "\n",
    "plot_similarity_matrix(sim_mat, symbol_names)"
   ]
  },
  {
   "cell_type": "markdown",
   "metadata": {
    "execution": {}
   },
   "source": [
    "As you can see from the above figure, the three randomly selected vectors are approximately orthogonal. This will be important later when we go to make more complicated objects from our vectors."
   ]
  },
  {
   "cell_type": "markdown",
   "metadata": {},
   "source": [
    "### Coding Exercise 1 Discussion\n",
    "\n",
    "1. How would you provide intuitive reasoning (or rigorous mathematical proof) behind the fact that random high-dimensional vectors (note that each of the components is drawn from uniform distribution with zero mean) approximately orthogonal?"
   ]
  },
  {
   "cell_type": "code",
   "execution_count": null,
   "metadata": {},
   "outputs": [],
   "source": [
    "#to_remove explanation\n",
    "\n",
    "\"\"\"\n",
    "Discussion: How would you provide intuitive reasoning or rigorous mathematical proof behind the fact that random high-dimensional vectors (note that each of the components is drawn from uniform distribution with zero mean) approximately orthogonal?\n",
    "\n",
    "Observe that as each of the components are independent and they are sampled from distribution with zero mean, it means that expected value of dot product E(x*y) = E(\\sum_i x_i * y_i) = (linearity of expectation) \\sum_i E(x_i * y_i) = (independence) \\sum_i (E(x_i) * E(y_i)) = 0.\n",
    "\"\"\";"
   ]
  },
  {
   "cell_type": "code",
   "execution_count": null,
   "metadata": {
    "cellView": "form",
    "execution": {}
   },
   "outputs": [],
   "source": [
    "# @title Submit your feedback\n",
    "content_review(f\"{feedback_prefix}_concepts_as_high_dimensional_vectors\")"
   ]
  },
  {
   "cell_type": "markdown",
   "metadata": {
    "execution": {}
   },
   "source": [
    "---\n",
    "\n",
    "# Section 2: Bundling\n",
    "\n",
    "Estimated timing to here from start of tutorial: 10 minutes\n",
    "\n",
    "In this section, we are going to explore the bundling operation, which allows us to construct vectors that represent something like sets. Basically, we combine two vectors into a new one that retains similarity to the previous two. We implement bundling using vector addition."
   ]
  },
  {
   "cell_type": "code",
   "execution_count": null,
   "metadata": {
    "cellView": "form",
    "execution": {}
   },
   "outputs": [],
   "source": [
    "# @title Video 2: Bundling\n",
    "\n",
    "from ipywidgets import widgets\n",
    "from IPython.display import YouTubeVideo\n",
    "from IPython.display import IFrame\n",
    "from IPython.display import display\n",
    "\n",
    "class PlayVideo(IFrame):\n",
    "  def __init__(self, id, source, page=1, width=400, height=300, **kwargs):\n",
    "    self.id = id\n",
    "    if source == 'Bilibili':\n",
    "      src = f'https://player.bilibili.com/player.html?bvid={id}&page={page}'\n",
    "    elif source == 'Osf':\n",
    "      src = f'https://mfr.ca-1.osf.io/render?url=https://osf.io/download/{id}/?direct%26mode=render'\n",
    "    super(PlayVideo, self).__init__(src, width, height, **kwargs)\n",
    "\n",
    "def display_videos(video_ids, W=400, H=300, fs=1):\n",
    "  tab_contents = []\n",
    "  for i, video_id in enumerate(video_ids):\n",
    "    out = widgets.Output()\n",
    "    with out:\n",
    "      if video_ids[i][0] == 'Youtube':\n",
    "        video = YouTubeVideo(id=video_ids[i][1], width=W,\n",
    "                             height=H, fs=fs, rel=0)\n",
    "        print(f'Video available at https://youtube.com/watch?v={video.id}')\n",
    "      else:\n",
    "        video = PlayVideo(id=video_ids[i][1], source=video_ids[i][0], width=W,\n",
    "                          height=H, fs=fs, autoplay=False)\n",
    "        if video_ids[i][0] == 'Bilibili':\n",
    "          print(f'Video available at https://www.bilibili.com/video/{video.id}')\n",
    "        elif video_ids[i][0] == 'Osf':\n",
    "          print(f'Video available at https://osf.io/{video.id}')\n",
    "      display(video)\n",
    "    tab_contents.append(out)\n",
    "  return tab_contents\n",
    "\n",
    "video_ids = [('Youtube', 'MzOjyvWTdmI'), ('Bilibili', 'BV1LS411P7pf')]\n",
    "tab_contents = display_videos(video_ids, W=854, H=480)\n",
    "tabs = widgets.Tab()\n",
    "tabs.children = tab_contents\n",
    "for i in range(len(tab_contents)):\n",
    "  tabs.set_title(i, video_ids[i][0])\n",
    "display(tabs)"
   ]
  },
  {
   "cell_type": "code",
   "execution_count": null,
   "metadata": {
    "cellView": "form",
    "execution": {}
   },
   "outputs": [],
   "source": [
    "# @title Submit your feedback\n",
    "content_review(f\"{feedback_prefix}_bundling\")"
   ]
  },
  {
   "cell_type": "markdown",
   "metadata": {
    "execution": {}
   },
   "source": [
    "## Coding Exercise 2: A Composite Object - Shape\n",
    "\n",
    "Let's start with our previous example of different shapes (circle, square, and triangle) and use them to create a new object, 'shape,' which will represent all the atomic concepts we've introduced."
   ]
  },
  {
   "cell_type": "code",
   "execution_count": null,
   "metadata": {
    "execution": {}
   },
   "outputs": [],
   "source": [
    "shape = (circle + square + triangle).normalized()"
   ]
  },
  {
   "cell_type": "markdown",
   "metadata": {
    "execution": {}
   },
   "source": [
    "Notice that we need to normalize the obtained vector. Now, let us calculate the similarity matrix for the three default concepts and the new one.\n",
    "\n",
    "In the exercise below, complete the similarity matrix calculation."
   ]
  },
  {
   "cell_type": "code",
   "execution_count": null,
   "metadata": {
    "execution": {}
   },
   "outputs": [],
   "source": [
    "###################################################################\n",
    "## Fill out the following then remove\n",
    "raise NotImplementedError(\"Student exercise: complete calcualtion of similarity matrix.\")\n",
    "###################################################################\n",
    "\n",
    "sim_mat = np.zeros((4,4))\n",
    "\n",
    "sim_mat[0,0] = spa.dot(circle, circle)\n",
    "sim_mat[1,1] = spa.dot(square, square)\n",
    "sim_mat[2,2] = spa.dot(triangle, ...)\n",
    "sim_mat[3,3] = spa.dot(shape, ...)\n",
    "\n",
    "sim_mat[0,1] = sim_mat[1,0] = spa.dot(circle, square)\n",
    "sim_mat[0,2] = sim_mat[2,0] = spa.dot(circle, triangle)\n",
    "sim_mat[0,3] = sim_mat[3,0] = spa.dot(circle, shape)\n",
    "\n",
    "sim_mat[1,2] = sim_mat[2,1] = spa.dot(square, triangle)\n",
    "sim_mat[1,3] = sim_mat[3,1] = spa.dot(square, shape)\n",
    "sim_mat[2,3] = sim_mat[3,2] = spa.dot(..., shape)"
   ]
  },
  {
   "cell_type": "code",
   "execution_count": null,
   "metadata": {
    "execution": {}
   },
   "outputs": [],
   "source": [
    "# to_remove solution\n",
    "\n",
    "sim_mat = np.zeros((4,4))\n",
    "\n",
    "sim_mat[0,0] = spa.dot(circle, circle)\n",
    "sim_mat[1,1] = spa.dot(square, square)\n",
    "sim_mat[2,2] = spa.dot(triangle, triangle)\n",
    "sim_mat[3,3] = spa.dot(shape, shape)\n",
    "\n",
    "sim_mat[0,1] = sim_mat[1,0] = spa.dot(circle, square)\n",
    "sim_mat[0,2] = sim_mat[2,0] = spa.dot(circle, triangle)\n",
    "sim_mat[0,3] = sim_mat[3,0] = spa.dot(circle, shape)\n",
    "\n",
    "sim_mat[1,2] = sim_mat[2,1] = spa.dot(square, triangle)\n",
    "sim_mat[1,3] = sim_mat[3,1] = spa.dot(square, shape)\n",
    "sim_mat[2,3] = sim_mat[3,2] = spa.dot(triangle, shape)"
   ]
  },
  {
   "cell_type": "code",
   "execution_count": null,
   "metadata": {
    "execution": {}
   },
   "outputs": [],
   "source": [
    "plot_similarity_matrix(sim_mat, symbol_names + [\"shape\"], values = True)"
   ]
  },
  {
   "cell_type": "markdown",
   "metadata": {
    "execution": {}
   },
   "source": [
    "Observe that as each of the basic concepts was included equally in the definition of the 'shape' symbol, it has the same similarity between all other vectors, pairwise."
   ]
  },
  {
   "cell_type": "markdown",
   "metadata": {
    "execution": {}
   },
   "source": [
    "### Coding Exercise 2 Discussion\n",
    "\n",
    "1. Why do we need to normalize the vector obtained as a result of the bundling operation? What length do you expect to receive without normalization?"
   ]
  },
  {
   "cell_type": "code",
   "execution_count": null,
   "metadata": {
    "execution": {}
   },
   "outputs": [],
   "source": [
    "#to_remove explanation\n",
    "\n",
    "\"\"\"\n",
    "Discussion: Why do we need to normalize the vector obtained as a result of the bundling operation? What length do you expect to receive without normalization?\n",
    "\n",
    "We would like to preserve the unitary length of the vector so it fits the rules of the vector space we've defined. If we simply add three vectors together, we can calculate the resulted length by taking the dot product with itself - it will be the sum of pairwise dot products of all vectors in the sum (with repetition of vectors with themselves), thus the sum is going to be around three (remember that <x, y> = 0 while <x, x> = 1), meaning that length of the obtained vector is sqrt(3).\n",
    "\"\"\";"
   ]
  },
  {
   "cell_type": "code",
   "execution_count": null,
   "metadata": {
    "cellView": "form",
    "execution": {}
   },
   "outputs": [],
   "source": [
    "# @title Submit your feedback\n",
    "content_review(f\"{feedback_prefix}_composite_object_shape\")"
   ]
  },
  {
   "cell_type": "markdown",
   "metadata": {
    "execution": {}
   },
   "source": [
    "---\n",
    "\n",
    "# Section 3: Binding & Unbinding\n",
    "\n",
    "Estimated timing to here from start of tutorial: 20 minutes\n",
    "\n",
    "In this section we will talk about binding - an operation that takes two vectors and produces a new vector that is *not* similar to either of it's constituent elements.\n",
    "\n",
    "Binding and unbinding are implemented using circular convolution.  Luckily, that is implemented for you inside the SSPSpace library. If you would like a refresher on convolution, this [Three Blue One Brown video](https://www.youtube.com/watch?v=KuXjwB4LzSA) is a good place to start."
   ]
  },
  {
   "cell_type": "code",
   "execution_count": null,
   "metadata": {
    "cellView": "form",
    "execution": {}
   },
   "outputs": [],
   "source": [
    "# @title Video 3: Binding\n",
    "\n",
    "from ipywidgets import widgets\n",
    "from IPython.display import YouTubeVideo\n",
    "from IPython.display import IFrame\n",
    "from IPython.display import display\n",
    "\n",
    "class PlayVideo(IFrame):\n",
    "  def __init__(self, id, source, page=1, width=400, height=300, **kwargs):\n",
    "    self.id = id\n",
    "    if source == 'Bilibili':\n",
    "      src = f'https://player.bilibili.com/player.html?bvid={id}&page={page}'\n",
    "    elif source == 'Osf':\n",
    "      src = f'https://mfr.ca-1.osf.io/render?url=https://osf.io/download/{id}/?direct%26mode=render'\n",
    "    super(PlayVideo, self).__init__(src, width, height, **kwargs)\n",
    "\n",
    "def display_videos(video_ids, W=400, H=300, fs=1):\n",
    "  tab_contents = []\n",
    "  for i, video_id in enumerate(video_ids):\n",
    "    out = widgets.Output()\n",
    "    with out:\n",
    "      if video_ids[i][0] == 'Youtube':\n",
    "        video = YouTubeVideo(id=video_ids[i][1], width=W,\n",
    "                             height=H, fs=fs, rel=0)\n",
    "        print(f'Video available at https://youtube.com/watch?v={video.id}')\n",
    "      else:\n",
    "        video = PlayVideo(id=video_ids[i][1], source=video_ids[i][0], width=W,\n",
    "                          height=H, fs=fs, autoplay=False)\n",
    "        if video_ids[i][0] == 'Bilibili':\n",
    "          print(f'Video available at https://www.bilibili.com/video/{video.id}')\n",
    "        elif video_ids[i][0] == 'Osf':\n",
    "          print(f'Video available at https://osf.io/{video.id}')\n",
    "      display(video)\n",
    "    tab_contents.append(out)\n",
    "  return tab_contents\n",
    "\n",
    "video_ids = [('Youtube', 'pSWjd3EcrXI'), ('Bilibili', 'BV19n4y197jt')]\n",
    "tab_contents = display_videos(video_ids, W=854, H=480)\n",
    "tabs = widgets.Tab()\n",
    "tabs.children = tab_contents\n",
    "for i in range(len(tab_contents)):\n",
    "  tabs.set_title(i, video_ids[i][0])\n",
    "display(tabs)"
   ]
  },
  {
   "cell_type": "code",
   "execution_count": null,
   "metadata": {
    "cellView": "form",
    "execution": {}
   },
   "outputs": [],
   "source": [
    "# @title Submit your feedback\n",
    "content_review(f\"{feedback_prefix}_binding\")"
   ]
  },
  {
   "cell_type": "markdown",
   "metadata": {
    "execution": {}
   },
   "source": [
    "## Coding Exercise 3: Colorful Shapes\n",
    "\n",
    "We can think of binding as an \"and\"-like operation. Both arguments need to be the same to produce a similar vector. In this example, let's think about colors and shapes:"
   ]
  },
  {
   "cell_type": "code",
   "execution_count": null,
   "metadata": {
    "execution": {}
   },
   "outputs": [],
   "source": [
    "set_seed(42)\n",
    "\n",
    "symbol_names = ['CIRCLE','SQUARE','TRIANGLE', 'RED', 'BLUE', 'GREEN']\n",
    "vocab = make_vocabulary(vector_length)\n",
    "vocab.populate(';'.join(symbol_names))"
   ]
  },
  {
   "cell_type": "markdown",
   "metadata": {
    "execution": {}
   },
   "source": [
    "Now we are going to take two of the objects to make new ones: a red circle, a blue triangle and a green square.\n",
    "\n",
    "We will combine the two primitive objects using the binding operation, which for us is implemented using circular convolution, and we denote it by\n",
    "$$\n",
    " a \\circledast b\n",
    "$$\n",
    "\n",
    "In the cell below, complete the missing concepts and then observe the computed similarity matrix."
   ]
  },
  {
   "cell_type": "code",
   "execution_count": null,
   "metadata": {
    "execution": {}
   },
   "outputs": [],
   "source": [
    "###################################################################\n",
    "## Fill out the following then remove\n",
    "raise NotImplementedError(\"Student exercise: complete derivation of new objects using binding operation.\")\n",
    "###################################################################\n",
    "\n",
    "vocab.add('RED_CIRCLE', vocab['RED'] * vocab['CIRCLE'])\n",
    "vocab.add('BLUE_TRIANGLE', vocab['BLUE'] * ...)\n",
    "vocab.add('GREEN_SQUARE', ... * vocab['SQUARE'])"
   ]
  },
  {
   "cell_type": "code",
   "execution_count": null,
   "metadata": {
    "execution": {}
   },
   "outputs": [],
   "source": [
    "# to_remove solution\n",
    "\n",
    "vocab.add('RED_CIRCLE', vocab['RED'] * vocab['CIRCLE'])\n",
    "vocab.add('BLUE_TRIANGLE', vocab['BLUE'] * vocab['TRIANGLE'])\n",
    "vocab.add('GREEN_SQUARE', vocab['GREEN'] * vocab['SQUARE'])"
   ]
  },
  {
   "cell_type": "markdown",
   "metadata": {
    "execution": {}
   },
   "source": [
    "Notice how we iterate through all objects in `object_names` and calculate pairwise dot products (similarity metric)."
   ]
  },
  {
   "cell_type": "code",
   "execution_count": null,
   "metadata": {
    "execution": {}
   },
   "outputs": [],
   "source": [
    "object_names = list(vocab.keys())\n",
    "sims = np.zeros((len(object_names), len(object_names)))\n",
    "\n",
    "for name_idx, name in enumerate(object_names):\n",
    "    for other_idx in range(name_idx, len(object_names)):\n",
    "        sims[name_idx, other_idx] = sims[other_idx, name_idx] = spa.dot(vocab[name], vocab[object_names[other_idx]])\n",
    "\n",
    "plot_similarity_matrix(sims, object_names)"
   ]
  },
  {
   "cell_type": "markdown",
   "metadata": {
    "execution": {}
   },
   "source": [
    "As you can see here, not only do the shapes and colors have no similarity, but the compound objects also have no similarity with either of their constituent elements - `green * square` is not similar to either `green` or `square.`"
   ]
  },
  {
   "cell_type": "code",
   "execution_count": null,
   "metadata": {
    "cellView": "form",
    "execution": {}
   },
   "outputs": [],
   "source": [
    "# @title Submit your feedback\n",
    "content_review(f\"{feedback_prefix}_colorful_shapes\")"
   ]
  },
  {
   "cell_type": "markdown",
   "metadata": {
    "execution": {}
   },
   "source": [
    "## Coding Exercise 4: Foundations of Colorful Shapes\n",
    "\n",
    "We can also undo the binding operation, which we call unbinding. It is implemented by binding with the pseduo-inverse of the vector we wish to unbind. We denote the pseudoinverse of the vector using the ~ symbol.\n",
    "\n",
    "The SSPSpace library implements the pseudo-inverse for you, but the pseudo-inverse of a vector $\\mathbf{x} = (x_{1},\\ldots, x_{d})$ is defined:\n",
    "\n",
    "$$\\sim\\mathbf{x} = \\left(x_{1},x_{d},x_{d-1},\\ldots,x_{2}\\right)$$\n",
    "\n",
    "\n",
    "Consider the example of our red circle. If we wanted to recover the shape of the object, we will unbind from it the color:\n",
    "\n",
    "$$\n",
    "(\\mathtt{red} \\circledast \\mathtt{circle}) \\circledast \\sim \\mathtt{red} \\approx \\mathtt{circle}\n",
    "$$\n",
    "\n",
    "In the cell below unbind color and shape, and then observe the similarity matrix."
   ]
  },
  {
   "cell_type": "code",
   "execution_count": null,
   "metadata": {
    "execution": {}
   },
   "outputs": [],
   "source": [
    "object_names = ['RED','EST_RED','RED_CIRCLE','CIRCLE','EST_CIRCLE']\n",
    "\n",
    "###################################################################\n",
    "## Fill out the following then remove\n",
    "raise NotImplementedError(\"Student exercise: complete derivation of default objects using pseudoinverse.\")\n",
    "###################################################################\n",
    "\n",
    "# to_remove solution\n",
    "object_names = ['RED','EST_RED','RED_CIRCLE','CIRCLE','EST_CIRCLE']\n",
    "\n",
    "vocab.add('EST_RED', (... * ...).normalized())\n",
    "vocab.add('EST_CIRCLE', (vocab['RED_CIRCLE'] * ~vocab['RED']).normalized())"
   ]
  },
  {
   "cell_type": "code",
   "execution_count": null,
   "metadata": {
    "execution": {}
   },
   "outputs": [],
   "source": [
    "# to_remove solution\n",
    "object_names = ['RED','EST_RED','RED_CIRCLE','CIRCLE','EST_CIRCLE']\n",
    "\n",
    "vocab.add('EST_RED', (vocab['RED_CIRCLE'] * ~vocab['CIRCLE']).normalized())\n",
    "vocab.add('EST_CIRCLE', (vocab['RED_CIRCLE'] * ~vocab['RED']).normalized())"
   ]
  },
  {
   "cell_type": "code",
   "execution_count": null,
   "metadata": {},
   "outputs": [],
   "source": [
    "sims = np.zeros((len(object_names), len(object_names)))\n",
    "\n",
    "for name_idx, name in enumerate(object_names):\n",
    "    for other_idx in range(name_idx, len(object_names)):\n",
    "        sims[name_idx, other_idx] = spa.dot(vocab[name], vocab[object_names[other_idx]])\n",
    "        sims[other_idx, name_idx] = sims[name_idx, other_idx]\n",
    "\n",
    "plot_similarity_matrix(sims, object_names, values = True)"
   ]
  },
  {
   "cell_type": "markdown",
   "metadata": {
    "execution": {}
   },
   "source": [
    "Looking at the above graph, we can see that the compound red circle object is not similar to either of the elements, but the circle and the unbound circle are similar to one another, and the red and unbound red objects are similar to one another.\n",
    "\n",
    "With these elements together, we have constructed the basic tools we need to construct complex objects in vector symbolic algebra."
   ]
  },
  {
   "cell_type": "code",
   "execution_count": null,
   "metadata": {
    "cellView": "form",
    "execution": {}
   },
   "outputs": [],
   "source": [
    "# @title Submit your feedback\n",
    "content_review(f\"{feedback_prefix}_foundations_of_colorful_shapes\")"
   ]
  },
  {
   "cell_type": "markdown",
   "metadata": {
    "execution": {}
   },
   "source": [
    "---\n",
    "\n",
    "# Section 4: Cleanup\n",
    "\n",
    "Estimated timing to here from start of tutorial: 30 minutes\n",
    "\n",
    "In this section we will address the issue of vectors being corrupted with noise."
   ]
  },
  {
   "cell_type": "code",
   "execution_count": null,
   "metadata": {
    "cellView": "form",
    "execution": {}
   },
   "outputs": [],
   "source": [
    "# @title Video 4: Cleanup\n",
    "\n",
    "from ipywidgets import widgets\n",
    "from IPython.display import YouTubeVideo\n",
    "from IPython.display import IFrame\n",
    "from IPython.display import display\n",
    "\n",
    "class PlayVideo(IFrame):\n",
    "  def __init__(self, id, source, page=1, width=400, height=300, **kwargs):\n",
    "    self.id = id\n",
    "    if source == 'Bilibili':\n",
    "      src = f'https://player.bilibili.com/player.html?bvid={id}&page={page}'\n",
    "    elif source == 'Osf':\n",
    "      src = f'https://mfr.ca-1.osf.io/render?url=https://osf.io/download/{id}/?direct%26mode=render'\n",
    "    super(PlayVideo, self).__init__(src, width, height, **kwargs)\n",
    "\n",
    "def display_videos(video_ids, W=400, H=300, fs=1):\n",
    "  tab_contents = []\n",
    "  for i, video_id in enumerate(video_ids):\n",
    "    out = widgets.Output()\n",
    "    with out:\n",
    "      if video_ids[i][0] == 'Youtube':\n",
    "        video = YouTubeVideo(id=video_ids[i][1], width=W,\n",
    "                             height=H, fs=fs, rel=0)\n",
    "        print(f'Video available at https://youtube.com/watch?v={video.id}')\n",
    "      else:\n",
    "        video = PlayVideo(id=video_ids[i][1], source=video_ids[i][0], width=W,\n",
    "                          height=H, fs=fs, autoplay=False)\n",
    "        if video_ids[i][0] == 'Bilibili':\n",
    "          print(f'Video available at https://www.bilibili.com/video/{video.id}')\n",
    "        elif video_ids[i][0] == 'Osf':\n",
    "          print(f'Video available at https://osf.io/{video.id}')\n",
    "      display(video)\n",
    "    tab_contents.append(out)\n",
    "  return tab_contents\n",
    "\n",
    "video_ids = [('Youtube', 'eAdDocNOmSc'), ('Bilibili', 'BV1Jy411z7L6')]\n",
    "tab_contents = display_videos(video_ids, W=854, H=480)\n",
    "tabs = widgets.Tab()\n",
    "tabs.children = tab_contents\n",
    "for i in range(len(tab_contents)):\n",
    "  tabs.set_title(i, video_ids[i][0])\n",
    "display(tabs)"
   ]
  },
  {
   "cell_type": "code",
   "execution_count": null,
   "metadata": {
    "cellView": "form",
    "execution": {}
   },
   "outputs": [],
   "source": [
    "# @title Submit your feedback\n",
    "content_review(f\"{feedback_prefix}_cleanup\")"
   ]
  },
  {
   "cell_type": "markdown",
   "metadata": {
    "execution": {}
   },
   "source": [
    "## Coding Exercise 5: Cleanup Memories To Find The Best-Fit\n",
    "\n",
    "In the process of computing with VSAs, the vectors themselves can become corrupted, due to noise, because we implement these systems with spiking neurons, or due to the approximations like using the pseudo inverse for unbinding, or because noise gets added when we operate on complex structures.\n",
    "\n",
    "To address this problem we employ \"cleanup memories\".  There are lots of ways to implement these systems, but today we're going to do it with a single hidden layer neural network.  Lets start with a sequence of symbols, say $\\texttt{fire-fighter},\\texttt{math-teacher},\\texttt{sales-manager},$ and so on, in that fashion, and create a new vector that is a corrupted combination of all three.  We will then use a clean up memory to find the best fitting vector in our vocabulary.\n",
    "\n",
    "In the cell below you will see the definition of `noisy_vector`, your task is to complete the calculation of similarity values for this vector and all default ones.\n"
   ]
  },
  {
   "cell_type": "code",
   "execution_count": null,
   "metadata": {
    "execution": {}
   },
   "outputs": [],
   "source": [
    "###################################################################\n",
    "## Fill out the following then remove\n",
    "raise NotImplementedError(\"Student exercise: complete similarities calculation between noisy vector and given symbols.\")\n",
    "###################################################################\n",
    "\n",
    "set_seed(42)\n",
    "\n",
    "symbol_names = ['fire-fighter','math-teacher','sales-manager']\n",
    "discrete_space = sspspace.DiscreteSPSpace(symbol_names, ssp_dim=1024, optimize=False)\n",
    "\n",
    "vocab = {n:discrete_space.encode(n) for n in symbol_names}\n",
    "\n",
    "noisy_vector = 0.2 * vocab['fire-fighter'] + 0.15 * vocab['math-teacher'] + 0.3 * vocab['sales-manager']\n",
    "\n",
    "sims = np.array([noisy_vector | vocab[...] for name in ...]).squeeze()"
   ]
  },
  {
   "cell_type": "code",
   "execution_count": null,
   "metadata": {
    "execution": {}
   },
   "outputs": [],
   "source": [
    "#to_remove solution\n",
    "\n",
    "set_seed(42)\n",
    "\n",
    "symbol_names = ['fire-fighter','math-teacher','sales-manager']\n",
    "discrete_space = sspspace.DiscreteSPSpace(symbol_names, ssp_dim=1024, optimize=False)\n",
    "\n",
    "vocab = {n:discrete_space.encode(n) for n in symbol_names}\n",
    "\n",
    "noisy_vector = 0.2 * vocab['fire-fighter'] + 0.15 * vocab['math-teacher'] + 0.3 * vocab['sales-manager']\n",
    "\n",
    "sims = np.array([noisy_vector | vocab[name] for name in symbol_names]).squeeze()"
   ]
  },
  {
   "cell_type": "markdown",
   "metadata": {
    "execution": {}
   },
   "source": [
    "Now let's construct a simple neural network that does cleanup.  We will construct the network, instead of learning it.  The input weights will be the vectors in the vocabulary, and we will place a softmax function on the hidden layer (although we can use more biologically plausible activiations) and the output weights will again be the vectors representing the symbols in the vocabulary.\n",
    "\n",
    "For efficient implementation of similarity calculation inside network, we will use `np.einsum()` function. Typically, it is used as `output = np.einsum('dim_inp1, dim_inp2 -> dim_out', input1, input2)`\n",
    "\n",
    "In this notation, `nd,md->nm` is the einsum \"equation\" or \"subscript notation\" which describes what operation should be performed. In this particular case, it states that the first input tensor is of shape `(n, d)` while the second is of shape `(m, d)` and the result of operation is of shape `(n, m)` (note that `n` and `m` can coincide). The operation itself performs the following calcualtion: `output[n, m] = sum(input1[n, d] * input2[m, d])`, meaning that in our case it will calculate all pairwise dot products - exactly what we need for similarity!\n",
    "\n",
    "Your task is to complete `__call__` function. Then we calculate similarity between obtained vector and the ones in the vocabulary."
   ]
  },
  {
   "cell_type": "code",
   "execution_count": null,
   "metadata": {
    "execution": {}
   },
   "outputs": [],
   "source": [
    "###################################################################\n",
    "## Fill out the following then remove\n",
    "raise NotImplementedError(\"Student exercise: complete Cleanup class.\")\n",
    "###################################################################\n",
    "\n",
    "set_seed(42)\n",
    "\n",
    "class Cleanup:\n",
    "    def __init__(self, vocab, temperature=1e5):\n",
    "        self.weights = np.array([vocab[k] for k in vocab.keys()]).squeeze()\n",
    "        self.temp = ...\n",
    "    def __call__(self, x):\n",
    "        sims = np.einsum(...)\n",
    "        max_sim = softmax(sims * self.temp, axis=0)\n",
    "        return sspspace.SSP(np.einsum('nd,nm->md', self.weights, max_sim))\n",
    "\n",
    "\n",
    "cleanup = Cleanup(vocab)\n",
    "\n",
    "clean_vector = cleanup(noisy_vector)\n",
    "\n",
    "clean_sims = np.array([clean_vector | vocab[name] for name in symbol_names]).squeeze()"
   ]
  },
  {
   "cell_type": "code",
   "execution_count": null,
   "metadata": {
    "execution": {}
   },
   "outputs": [],
   "source": [
    "#to_remove solution\n",
    "\n",
    "set_seed(42)\n",
    "\n",
    "class Cleanup:\n",
    "    def __init__(self, vocab, temperature=1e5):\n",
    "        self.weights = np.array([vocab[k] for k in vocab.keys()]).squeeze()\n",
    "        self.temp = temperature\n",
    "    def __call__(self, x):\n",
    "        sims = np.einsum('nd,md->nm', self.weights, x)\n",
    "        max_sim = softmax(sims * self.temp, axis=0)\n",
    "        return sspspace.SSP(np.einsum('nd,nm->md', self.weights, max_sim))\n",
    "\n",
    "\n",
    "cleanup = Cleanup(vocab)\n",
    "\n",
    "clean_vector = cleanup(noisy_vector)\n",
    "\n",
    "clean_sims = np.array([clean_vector | vocab[name] for name in symbol_names]).squeeze()"
   ]
  },
  {
   "cell_type": "markdown",
   "metadata": {
    "execution": {}
   },
   "source": [
    "Observe the result with comparison to the pre cleanup metrics."
   ]
  },
  {
   "cell_type": "code",
   "execution_count": null,
   "metadata": {},
   "outputs": [],
   "source": [
    "plot_double_line_similarity_matrix([sims, clean_sims], symbol_names, ['Noisy Similarity', 'Clean Similarity'], title = 'Similarity - post cleanup')"
   ]
  },
  {
   "cell_type": "markdown",
   "metadata": {},
   "source": [
    "We can do this cleanup with a single, feed-forward network, and we don't need to learn any of the synaptic weights if we know what the appropriate vocabulary is."
   ]
  },
  {
   "cell_type": "code",
   "execution_count": null,
   "metadata": {
    "cellView": "form",
    "execution": {}
   },
   "outputs": [],
   "source": [
    "# @title Submit your feedback\n",
    "content_review(f\"{feedback_prefix}_cleanup_memories_to_find_the_best_fit\")"
   ]
  },
  {
   "cell_type": "markdown",
   "metadata": {
    "execution": {}
   },
   "source": [
    "# Section 5: Iterated Binding\n",
    "\n",
    "Estimated timing to here from start of tutorial: 45 minutes\n",
    "\n",
    "In this section, we will represent numbers with iterated binding."
   ]
  },
  {
   "cell_type": "code",
   "execution_count": null,
   "metadata": {
    "cellView": "form",
    "execution": {}
   },
   "outputs": [],
   "source": [
    "# @title Video 5: Iterated Binding\n",
    "\n",
    "from ipywidgets import widgets\n",
    "from IPython.display import YouTubeVideo\n",
    "from IPython.display import IFrame\n",
    "from IPython.display import display\n",
    "\n",
    "class PlayVideo(IFrame):\n",
    "  def __init__(self, id, source, page=1, width=400, height=300, **kwargs):\n",
    "    self.id = id\n",
    "    if source == 'Bilibili':\n",
    "      src = f'https://player.bilibili.com/player.html?bvid={id}&page={page}'\n",
    "    elif source == 'Osf':\n",
    "      src = f'https://mfr.ca-1.osf.io/render?url=https://osf.io/download/{id}/?direct%26mode=render'\n",
    "    super(PlayVideo, self).__init__(src, width, height, **kwargs)\n",
    "\n",
    "def display_videos(video_ids, W=400, H=300, fs=1):\n",
    "  tab_contents = []\n",
    "  for i, video_id in enumerate(video_ids):\n",
    "    out = widgets.Output()\n",
    "    with out:\n",
    "      if video_ids[i][0] == 'Youtube':\n",
    "        video = YouTubeVideo(id=video_ids[i][1], width=W,\n",
    "                             height=H, fs=fs, rel=0)\n",
    "        print(f'Video available at https://youtube.com/watch?v={video.id}')\n",
    "      else:\n",
    "        video = PlayVideo(id=video_ids[i][1], source=video_ids[i][0], width=W,\n",
    "                          height=H, fs=fs, autoplay=False)\n",
    "        if video_ids[i][0] == 'Bilibili':\n",
    "          print(f'Video available at https://www.bilibili.com/video/{video.id}')\n",
    "        elif video_ids[i][0] == 'Osf':\n",
    "          print(f'Video available at https://osf.io/{video.id}')\n",
    "      display(video)\n",
    "    tab_contents.append(out)\n",
    "  return tab_contents\n",
    "\n",
    "video_ids = [('Youtube', 'jUUkxnVHGnY'), ('Bilibili', 'BV1Qs421u7jj')]\n",
    "tab_contents = display_videos(video_ids, W=854, H=480)\n",
    "tabs = widgets.Tab()\n",
    "tabs.children = tab_contents\n",
    "for i in range(len(tab_contents)):\n",
    "  tabs.set_title(i, video_ids[i][0])\n",
    "display(tabs)"
   ]
  },
  {
   "cell_type": "code",
   "execution_count": null,
   "metadata": {
    "cellView": "form",
    "execution": {}
   },
   "outputs": [],
   "source": [
    "# @title Submit your feedback\n",
    "content_review(f\"{feedback_prefix}_iterated_binding\")"
   ]
  },
  {
   "cell_type": "markdown",
   "metadata": {
    "execution": {}
   },
   "source": [
    "## Coding Exercise 6: Representing Numbers\n",
    "\n",
    "It is often useful to be able to represent numbers.  For example, we may want to represent the position of an object in a list, or we may want to represent the coordinates of an object in a grid.  To do this we use the binding operator to construct a vector that represents a number.  We start by picking what we refer to as an \"axis vector\", let's call it $\\texttt{one}$, and then iteratively apply binding, like this:\n",
    "\n",
    "$$\n",
    "\\texttt{two} = \\texttt{one}\\circledast\\texttt{one}\n",
    "$$\n",
    "$$\n",
    "\\texttt{three} = \\texttt{two}\\circledast\\texttt{one} = \\texttt{one}\\circledast\\texttt{one}\\circledast\\texttt{one}\n",
    "$$\n",
    "\n",
    "and so on.  We extend that to arbitrary integers, $n$, by writing:\n",
    "\n",
    "$$\n",
    "\\phi[n] = \\underset{i=1}{\\overset{n}{\\circledast}}\\texttt{one}\n",
    "$$\n",
    "\n",
    "Let's try that now and see how similarity between iteratively bound vectors develops. In the cell below you should complete missing part which implements iterative binding mechanism."
   ]
  },
  {
   "cell_type": "code",
   "execution_count": null,
   "metadata": {
    "execution": {}
   },
   "outputs": [],
   "source": [
    "###################################################################\n",
    "## Fill out the following then remove\n",
    "raise NotImplementedError(\"Student exercise: complete iterated binding.\")\n",
    "###################################################################\n",
    "\n",
    "set_seed(42)\n",
    "\n",
    "#define axis vector\n",
    "axis_vectors = ['ONE']\n",
    "#vocabulary\n",
    "vocab = make_vocabulary(vector_length)\n",
    "# vocab = spa.Vocabulary(vector_length)\n",
    "vocab.populate(';'.join(axis_vectors))\n",
    "\n",
    "#we will add new vectors to this list\n",
    "integers = [vocab['ONE']]\n",
    "\n",
    "max_int = 5\n",
    "for i in range(2, max_int + 1):\n",
    "    #bind one more \"one\" to the previous integer to get the new one\n",
    "    integers.append((integers[-1] * vocab[...]).normalized())"
   ]
  },
  {
   "cell_type": "code",
   "execution_count": null,
   "metadata": {
    "execution": {}
   },
   "outputs": [],
   "source": [
    "set_seed(42)\n",
    "\n",
    "#define axis vector\n",
    "axis_vectors = ['ONE']\n",
    "#vocabulary\n",
    "vocab = make_vocabulary(vector_length)\n",
    "# vocab = spa.Vocabulary(vector_length)\n",
    "vocab.populate(';'.join(axis_vectors))\n",
    "\n",
    "#we will add new vectors to this list\n",
    "integers = [vocab['ONE']]\n",
    "\n",
    "max_int = 5\n",
    "for i in range(2, max_int + 1):\n",
    "    #bind one more \"one\" to the previous integer to get the new one\n",
    "    integers.append((integers[-1] * vocab['ONE']).normalized())"
   ]
  },
  {
   "cell_type": "markdown",
   "metadata": {
    "execution": {}
   },
   "source": [
    "Now, we will observe the similarity metric between the obtained vectors. In order to efficienty implement it, we will use already introduced `np.einsum` function. Notice, that in this particual notation, `sims = integers @ integers.T`"
   ]
  },
  {
   "cell_type": "code",
   "execution_count": null,
   "metadata": {
    "execution": {}
   },
   "outputs": [],
   "source": [
    "sims = np.zeros((len(integers), len(integers)))\n",
    "for i_idx, i in enumerate(integers):\n",
    "    for j_idx, j in enumerate(integers):\n",
    "        sims[i_idx, j_idx] = spa.dot(i,j)"
   ]
  },
  {
   "cell_type": "code",
   "execution_count": null,
   "metadata": {
    "execution": {}
   },
   "outputs": [],
   "source": [
    "plot_similarity_matrix(sims, [i for i in range(1, 6)], values = True)"
   ]
  },
  {
   "cell_type": "markdown",
   "metadata": {
    "execution": {}
   },
   "source": [
    "Here, we will take a look at another graphical representation of the similarity through lines (the only difference with the previous section is the fact that here, we will have a couple of them, each representing a distinct concept)."
   ]
  },
  {
   "cell_type": "code",
   "execution_count": null,
   "metadata": {
    "execution": {}
   },
   "outputs": [],
   "source": [
    "plot_line_similarity_matrix(sims, range(1, 6), multiple_objects = True, labels = [f'$\\phi$[{idx+1}]' for idx in range(5)], title = \"Similarity for digits\")"
   ]
  },
  {
   "cell_type": "markdown",
   "metadata": {},
   "source": [
    "What we can see here is that each number acts like it's own vector, they are highly dissimilar, but we can still do arithmetic with them.  Let's see what happens when we unbind $\\texttt{two}$ from $\\texttt{five}$.\n",
    "\n",
    "In the cell below you are invited to complete the missing parts (be attentive! python is zero-indexed, thus you need to choose correct indices)."
   ]
  },
  {
   "cell_type": "code",
   "execution_count": null,
   "metadata": {
    "execution": {}
   },
   "outputs": [],
   "source": [
    "###################################################################\n",
    "## Fill out the following then remove\n",
    "raise NotImplementedError(\"Student exercise: unbinding of two from five.\")\n",
    "###################################################################\n",
    "\n",
    "five_unbind_two = integers[4] * ~integers[...]\n",
    "sims = np.array([spa.dot(five_unbind_two, i) for i in ...])"
   ]
  },
  {
   "cell_type": "code",
   "execution_count": null,
   "metadata": {
    "execution": {}
   },
   "outputs": [],
   "source": [
    "#to_remove solution\n",
    "\n",
    "five_unbind_two = integers[4] * ~integers[1]\n",
    "sims = np.array([spa.dot(five_unbind_two, i) for i in integers])"
   ]
  },
  {
   "cell_type": "code",
   "execution_count": null,
   "metadata": {
    "execution": {}
   },
   "outputs": [],
   "source": [
    "plot_line_similarity_matrix(sims, range(1, 6), multiple_objects = False,  title = '$(\\phi[5]\\circledast \\phi[2]^{-1}) \\cdot \\phi[n]$')"
   ]
  },
  {
   "cell_type": "markdown",
   "metadata": {
    "execution": {}
   },
   "source": [
    "We get what we expected - when we removed $\\texttt{two}$ from $\\texttt{five}$ we get a vector that is similar to $\\texttt{three}$.  We can do arithmetic with our vector encoding!"
   ]
  },
  {
   "cell_type": "code",
   "execution_count": null,
   "metadata": {
    "cellView": "form",
    "execution": {}
   },
   "outputs": [],
   "source": [
    "# @title Submit your feedback\n",
    "content_review(f\"{feedback_prefix}_representing_numbers\")"
   ]
  },
  {
   "cell_type": "markdown",
   "metadata": {
    "execution": {}
   },
   "source": [
    "## Background Material\n",
    "### Coding Exercise 7: Beyond Binding Integers"
   ]
  },
  {
   "cell_type": "markdown",
   "metadata": {
    "execution": {}
   },
   "source": [
    "This is all well and good, but sometimes we want to encode values that are not integers.  Is there an easy way to do this?  You'll be surprised to learn that the answer is: yes.\n",
    "\n",
    "We actually use the same technique, but we recognize that iterated binding can be implemented in the Fourier domain:\n",
    "\n",
    "$$\n",
    "\\phi[n] = \\mathcal{F}^{-1}\\left\\{\\mathcal{F}\\left\\{\\texttt{one}\\right\\}^{n}\\right\\}\n",
    "$$\n",
    "\n",
    "where the power of $n$ in the Fourier domain is applied element-wise to the vector.  To encode real-valued data we simply let the integer value, $n$, be a real-valued vector, $x$, and we let the axis vector be a randomly generated vector, $X$.\n",
    "\n",
    "$$\n",
    "\\phi(x) = \\mathcal{F}^{-1}\\left\\{\\mathcal{F}\\left\\{X\\right\\}^{x}\\right\\}\n",
    "$$\n",
    "\n",
    "We call vectors that represent real-valued data Spatial Semantic Pointers (SSPs).  We can also extend this to multi-dimensional data by binding different SSPs together.\n",
    "\n",
    "$$\n",
    "\\phi(x,y) = \\phi_{X}(x) \\circledast \\phi_{Y}(y)\n",
    "$$\n",
    "\n",
    "\n",
    "In the $\\texttt{sspspace}$ library we provide an encoder for real- and integer-valued data, and we'll demonstrate it next by encoding a bunch of points in the range $[-4,4]$ and comparing their value to $0$, encoded a SSP.\n",
    "\n",
    "In the cell below you should complete similarity calculation by injecting correct index for $0$ element (observe that it is right in the middle of encoded array)."
   ]
  },
  {
   "cell_type": "code",
   "execution_count": null,
   "metadata": {
    "execution": {}
   },
   "outputs": [],
   "source": [
    "set_seed(42)\n",
    "vocab = make_vocabulary(vector_length)\n",
    "vocab.populate('X')\n",
    "\n",
    "X = vocab['X'].abs()\n",
    "xs = np.linspace(-4,4,401)[:,None] #we expect the encoded values to be two-dimensional in `encoder.encode()` so we add extra dimension\n",
    "phis = [(X**x) for x in xs]\n",
    "\n",
    "#`0` element is right in the middle of phis array! notice that we have 401 samples inside it\n",
    "sims = np.array([spa.dot(phis[200], p) for p in phis])"
   ]
  },
  {
   "cell_type": "code",
   "execution_count": null,
   "metadata": {
    "execution": {}
   },
   "outputs": [],
   "source": [
    "plot_real_valued_line_similarity(sims, xs, title = '$\\phi(x)\\cdot\\phi(0)$')"
   ]
  },
  {
   "cell_type": "markdown",
   "metadata": {
    "execution": {}
   },
   "source": [
    "As with the integers, we can update the values, post-encoding through the binding operation.  Let's look at the similarity between all the points in the range $[-4,4]$ this time with the value $\\pi/2$, but we will shift it by binding the origin with the desired shift value.\n",
    "\n",
    "In the cell below you need to provide the value by which we are going to shift the origin."
   ]
  },
  {
   "cell_type": "code",
   "execution_count": null,
   "metadata": {
    "execution": {}
   },
   "outputs": [],
   "source": [
    "###################################################################\n",
    "## Fill out the following then remove\n",
    "raise NotImplementedError(\"Student exercise: provide value to shift and observe the usage of the operation.\")\n",
    "###################################################################\n",
    "\n",
    "phi_shifted = phis[200] * X**-3.1\n",
    "sims = np.array([spa.dot(...) for p in phis])"
   ]
  },
  {
   "cell_type": "code",
   "execution_count": null,
   "metadata": {
    "execution": {}
   },
   "outputs": [],
   "source": [
    "#to_remove solution\n",
    "\n",
    "phi_shifted = phis[200] * X**-3.1\n",
    "sims = np.array([spa.dot(phi_shifted, p) for p in phis])"
   ]
  },
  {
   "cell_type": "code",
   "execution_count": null,
   "metadata": {
    "execution": {}
   },
   "outputs": [],
   "source": [
    "plot_real_valued_line_similarity(sims, xs, title = '$\\phi(x)\\cdot(\\phi(0)\\circledast\\phi(\\pi/2))$')"
   ]
  },
  {
   "cell_type": "markdown",
   "metadata": {
    "execution": {}
   },
   "source": [
    "We can then take that vector and shift it again to a new location."
   ]
  },
  {
   "cell_type": "code",
   "execution_count": null,
   "metadata": {
    "execution": {}
   },
   "outputs": [],
   "source": [
    "phi_shifted = phis[200] * X**(-1.5*np.pi)\n",
    "sims = np.array([spa.dot(phi_shifted, p) for p in phis])"
   ]
  },
  {
   "cell_type": "code",
   "execution_count": null,
   "metadata": {
    "execution": {}
   },
   "outputs": [],
   "source": [
    "plot_real_valued_line_similarity(sims, xs, title = '$\\phi(x)\\cdot(\\phi(0)\\circledast\\phi(-1.5\\pi))$')"
   ]
  },
  {
   "cell_type": "markdown",
   "metadata": {
    "execution": {}
   },
   "source": [
    "We will go on to use these encodings to build spatial maps in Tutorial 5 (Bonus)."
   ]
  },
  {
   "cell_type": "markdown",
   "metadata": {
    "execution": {}
   },
   "source": [
    "### Coding Exercise 7 Discussion\n",
    "\n",
    "1. How would you explain the usage of `d,md->m` in `np.einsum()` function in the previous coding exercise?"
   ]
  },
  {
   "cell_type": "code",
   "execution_count": null,
   "metadata": {
    "execution": {}
   },
   "outputs": [],
   "source": [
    "#to_remove explanation\n",
    "\n",
    "\"\"\"\n",
    "Discussion: How would you explain the usage of `d,md->m` in `np.einsum()` function in the previous coding exercise?\n",
    "\n",
    "`d` is the dimensionality of the vector; we compute similariy of one vector (representing `0` object) with other `m` vectors of the same dimension `d` (thus `md`); as the result we receive `m` values of similarity.\n",
    "\"\"\";"
   ]
  },
  {
   "cell_type": "code",
   "execution_count": null,
   "metadata": {
    "cellView": "form",
    "execution": {}
   },
   "outputs": [],
   "source": [
    "# @title Video 6: Iterated Binding Conclusion\n",
    "\n",
    "from ipywidgets import widgets\n",
    "from IPython.display import YouTubeVideo\n",
    "from IPython.display import IFrame\n",
    "from IPython.display import display\n",
    "\n",
    "class PlayVideo(IFrame):\n",
    "  def __init__(self, id, source, page=1, width=400, height=300, **kwargs):\n",
    "    self.id = id\n",
    "    if source == 'Bilibili':\n",
    "      src = f'https://player.bilibili.com/player.html?bvid={id}&page={page}'\n",
    "    elif source == 'Osf':\n",
    "      src = f'https://mfr.ca-1.osf.io/render?url=https://osf.io/download/{id}/?direct%26mode=render'\n",
    "    super(PlayVideo, self).__init__(src, width, height, **kwargs)\n",
    "\n",
    "def display_videos(video_ids, W=400, H=300, fs=1):\n",
    "  tab_contents = []\n",
    "  for i, video_id in enumerate(video_ids):\n",
    "    out = widgets.Output()\n",
    "    with out:\n",
    "      if video_ids[i][0] == 'Youtube':\n",
    "        video = YouTubeVideo(id=video_ids[i][1], width=W,\n",
    "                             height=H, fs=fs, rel=0)\n",
    "        print(f'Video available at https://youtube.com/watch?v={video.id}')\n",
    "      else:\n",
    "        video = PlayVideo(id=video_ids[i][1], source=video_ids[i][0], width=W,\n",
    "                          height=H, fs=fs, autoplay=False)\n",
    "        if video_ids[i][0] == 'Bilibili':\n",
    "          print(f'Video available at https://www.bilibili.com/video/{video.id}')\n",
    "        elif video_ids[i][0] == 'Osf':\n",
    "          print(f'Video available at https://osf.io/{video.id}')\n",
    "      display(video)\n",
    "    tab_contents.append(out)\n",
    "  return tab_contents\n",
    "\n",
    "video_ids = [('Youtube', 'zXYODzMw_Vc'), ('Bilibili', 'BV1Wm421L7ax')]\n",
    "tab_contents = display_videos(video_ids, W=854, H=480)\n",
    "tabs = widgets.Tab()\n",
    "tabs.children = tab_contents\n",
    "for i in range(len(tab_contents)):\n",
    "  tabs.set_title(i, video_ids[i][0])\n",
    "display(tabs)"
   ]
  },
  {
   "cell_type": "code",
   "execution_count": null,
   "metadata": {
    "cellView": "form",
    "execution": {}
   },
   "outputs": [],
   "source": [
    "# @title Submit your feedback\n",
    "content_review(f\"{feedback_prefix}_iterated_binding_conclusion\")"
   ]
  },
  {
   "cell_type": "markdown",
   "metadata": {
    "execution": {}
   },
   "source": [
    "---\n",
    "# Summary\n",
    "\n",
    "*Estimated timing of tutorial: 1 hour*\n",
    "\n",
    "In this tutorial, we developed the toolbox of the main operations on the vector symbolic algebra. In particular, it includes:\n",
    "- similarity operation (|), which measures how similar the two vectors are (by calculating their dot product);\n",
    "- bundling (+), which creates new set-like objects using vector addition;\n",
    "- binding ($\\circledast$), which creates new combined representation of the two given objects using circular convolution;\n",
    "- unbinding (~), which allows to derive pure object from the binded representation by unbinding another one which stands in the pair;\n",
    "- cleanup, which tries to identify the most similar vector in the vocabulary, with multiple possible implementations.\n",
    "\n",
    "In the following tutorials, we will take a look at how we can use these tools to create more complicated structures and derive useful information from them."
   ]
  }
 ],
 "metadata": {
  "colab": {
   "collapsed_sections": [],
   "include_colab_link": true,
   "name": "W2D2_Tutorial1",
   "provenance": [],
   "toc_visible": true
  },
  "kernel": {
   "display_name": "Python 3",
   "language": "python",
   "name": "python3"
  },
  "kernelspec": {
   "display_name": "Python 3 (ipykernel)",
   "language": "python",
   "name": "python3"
  },
  "language_info": {
   "codemirror_mode": {
    "name": "ipython",
    "version": 3
   },
   "file_extension": ".py",
   "mimetype": "text/x-python",
   "name": "python",
   "nbconvert_exporter": "python",
   "pygments_lexer": "ipython3",
   "version": "3.9.19"
  }
 },
 "nbformat": 4,
 "nbformat_minor": 4
}
