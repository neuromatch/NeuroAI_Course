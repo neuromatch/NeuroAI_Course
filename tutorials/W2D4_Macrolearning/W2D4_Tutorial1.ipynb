{
 "cells": [
  {
   "cell_type": "markdown",
   "metadata": {
    "execution": {},
    "id": "view-in-github"
   },
   "source": [
    "<a href=\"https://colab.research.google.com/github/neuromatch/NeuroAI_Course/blob/main/tutorials/W2D4_Macrolearning/student/W2D4_Tutorial1.ipynb\" target=\"_parent\"><img src=\"https://colab.research.google.com/assets/colab-badge.svg\" alt=\"Open In Colab\"/></a> &nbsp; <a href=\"https://kaggle.com/kernels/welcome?src=https://raw.githubusercontent.com/neuromatch/NeuroAI_Course/blob/main/tutorials/W2D4_Macrolearning/student/W2D4_Tutorial1.ipynb\"  target=\"_parent\"><img src=\"https://kaggle.com/static/images/open-in-kaggle.svg\" alt=\"Open in Kaggle\"/></a>"
   ]
  },
  {
   "cell_type": "markdown",
   "metadata": {
    "execution": {}
   },
   "source": [
    "# Tutorial 1: The problem of changing data distributions\n",
    "\n",
    "**Week 2, Day 4: Macro-Learning**\n",
    "\n",
    "**By Neuromatch Academy**\n",
    "\n",
    "__Content creators:__ Hlib Solodzhuk, Ximeng Mao, Grace Lindsay\n",
    "\n",
    "__Content reviewers:__ Hlib Solodzhuk, Ximeng Mao, Grace Lindsay\n",
    "\n",
    "__Production editors:__ Konstantine Tsafatinos, Ella Batty, Spiros Chavlis, Samuele Bolotta, Hlib Solodzhuk\n",
    "\n",
    "<br>\n"
   ]
  },
  {
   "cell_type": "markdown",
   "metadata": {
    "execution": {}
   },
   "source": [
    "___\n",
    "\n",
    "\n",
    "# Tutorial Objectives\n",
    "\n",
    "*Estimated timing of tutorial: 35 minutes*\n",
    "\n",
    "In this tutorial, we will explore the problems that come from *distribution shifts*. Distribution shifts occur the testing data distribution strays from training data distribution; that is, when a model is evaluated on data that somehow differs from what it was trained on.\n",
    "\n",
    "There are many ways that testing data can differ from training data. Two broad categories of distribution shifts are: **covariate shift** and **concept shift**.\n",
    "\n",
    "In the first, the distribution of input features changes. For example, consider a dog/cat classification task where the model was trained to differentiate between real-photos of pets while the testing dataset consists fully of cartoon characters.\n",
    "\n",
    "The second, as it name suggests, is more of the conceptual change in the relationship between features and desired output. For example, the recommendation system may learn a users preferences, but then those preferences change.\n",
    "\n",
    "We will explore both types of shifts on a simple function which represents the relationship between day of the year and price for the fruits in the local market."
   ]
  },
  {
   "cell_type": "code",
   "execution_count": null,
   "metadata": {
    "cellView": "form",
    "execution": {}
   },
   "outputs": [],
   "source": [
    "# @title Tutorial slides\n",
    "# @markdown These are the slides for the videos in all tutorials today\n",
    "\n",
    "from IPython.display import IFrame\n",
    "link_id = \"vdcr6\"\n",
    "print(f\"If you want to download the slides: https://osf.io/download/{link_id}/\")\n",
    "IFrame(src=f\"https://mfr.ca-1.osf.io/render?url=https://osf.io/download/{link_id}/?direct%26mode=render\", width=854, height=480)"
   ]
  },
  {
   "cell_type": "markdown",
   "metadata": {
    "execution": {}
   },
   "source": [
    "---\n",
    "# Setup\n",
    "\n"
   ]
  },
  {
   "cell_type": "code",
   "execution_count": null,
   "metadata": {
    "cellView": "form",
    "execution": {}
   },
   "outputs": [],
   "source": [
    "# @title Install and import feedback gadget\n",
    "\n",
    "# !pip3 install vibecheck datatops --quiet\n",
    "\n",
    "# from vibecheck import DatatopsContentReviewContainer\n",
    "# def content_review(notebook_section: str):\n",
    "#     return DatatopsContentReviewContainer(\n",
    "#         \"\",  # No text prompt - leave this as is\n",
    "#         notebook_section,\n",
    "#         {\n",
    "#             \"url\": \"https://pmyvdlilci.execute-api.us-east-1.amazonaws.com/klab\",\n",
    "#             \"name\": \"sciencematch_sm\", # change the name of the course : neuromatch_dl, climatematch_ct, etc\n",
    "#             \"user_key\": \"y1x3mpx5\",\n",
    "#         },\n",
    "#     ).render()\n",
    "\n",
    "# feedback_prefix = \"W2D4_T1\""
   ]
  },
  {
   "cell_type": "code",
   "execution_count": null,
   "metadata": {
    "execution": {}
   },
   "outputs": [],
   "source": [
    "# Imports\n",
    "\n",
    "#working with data\n",
    "import numpy as np\n",
    "\n",
    "#plotting\n",
    "import matplotlib.pyplot as plt\n",
    "import logging\n",
    "\n",
    "#interactive display\n",
    "import ipywidgets as widgets\n",
    "\n",
    "#modeling\n",
    "from sklearn.neural_network import MLPRegressor\n",
    "from sklearn.model_selection import train_test_split"
   ]
  },
  {
   "cell_type": "code",
   "execution_count": null,
   "metadata": {
    "cellView": "form",
    "execution": {}
   },
   "outputs": [],
   "source": [
    "# @title Figure settings\n",
    "\n",
    "logging.getLogger('matplotlib.font_manager').disabled = True\n",
    "\n",
    "%matplotlib inline\n",
    "%config InlineBackend.figure_format = 'retina' # perfrom high definition rendering for images and plots\n",
    "plt.style.use(\"https://raw.githubusercontent.com/NeuromatchAcademy/course-content/main/nma.mplstyle\")"
   ]
  },
  {
   "cell_type": "code",
   "execution_count": null,
   "metadata": {
    "cellView": "form",
    "execution": {}
   },
   "outputs": [],
   "source": [
    "# @title Plotting functions\n",
    "\n",
    "def predict(start_month, end_month):\n",
    "    \"\"\"\n",
    "    Predicts the prices for a given date range and plots the true and predicted prices.\n",
    "\n",
    "    Inputs:\n",
    "    - start_month (str): The starting month for the prediction range.\n",
    "    - end_month (str): The ending month for the prediction range.\n",
    "\n",
    "    Raises:\n",
    "    - ValueError: If the specified start_month is after the end_month.\n",
    "    \"\"\"\n",
    "\n",
    "    #check for feasibility of prompt:)\n",
    "    if months.index(start_month) > months.index(end_month):\n",
    "        raise ValueError(\"Please enter valid month interval.\")\n",
    "\n",
    "    #find days and prices for the selected interval\n",
    "    selected_days = np.expand_dims(days[int(np.sum(months_durations[:months.index(start_month)])) : int(np.sum(months_durations[:months.index(end_month)+1]))], 1)\n",
    "    selected_prices = prices[int(np.sum(months_durations[:months.index(start_month)])) : int(np.sum(months_durations[:months.index(end_month)+1]))]\n",
    "\n",
    "    #normalize selected days\n",
    "    selected_days_norm = (selected_days - summer_days_mean) / summer_days_std\n",
    "\n",
    "    #evaluate MLP on normalized selected data\n",
    "    print(f\"R-squared value is: {model.score(selected_days_norm, selected_prices):.02f}.\")\n",
    "\n",
    "    #predict for selected dates\n",
    "    selected_prices_predictions = model.predict(selected_days_norm)\n",
    "\n",
    "\n",
    "    #plot true and predicted data\n",
    "    with plt.xkcd():\n",
    "      plt.plot(selected_days, selected_prices, label = \"True Data\")\n",
    "      plt.scatter(selected_days, selected_prices_predictions, label = f\"From {start_month} to {end_month} Predictions\", marker='o', color='r', zorder=2)\n",
    "      plt.xlabel('Day')\n",
    "      plt.ylabel('Price')\n",
    "      plt.axvspan(days[151], days[242], facecolor='gray', alpha=0.1, label = \"Training period\")  #add grey background for summer days to see training data\n",
    "      plt.xlim(np.min(selected_days), np.max(selected_days))\n",
    "      plt.legend()\n",
    "      plt.show()"
   ]
  },
  {
   "cell_type": "code",
   "execution_count": null,
   "metadata": {
    "cellView": "form",
    "execution": {}
   },
   "outputs": [],
   "source": [
    "# @title Helper functions\n",
    "\n",
    "months = [\"January\", \"February\", \"March\", \"April\", \"May\", \"June\", \"July\", \"August\", \"September\", \"October\", \"November\", \"December\"]\n",
    "\n",
    "months_durations = [31, 28, 31, 30, 31, 30, 31, 31, 30, 31, 30, 31]"
   ]
  },
  {
   "cell_type": "code",
   "execution_count": null,
   "metadata": {
    "cellView": "form",
    "execution": {}
   },
   "outputs": [],
   "source": [
    "# @title Video 1: Distribution shifts\n",
    "\n",
    "from ipywidgets import widgets\n",
    "from IPython.display import YouTubeVideo\n",
    "from IPython.display import IFrame\n",
    "from IPython.display import display\n",
    "\n",
    "class PlayVideo(IFrame):\n",
    "  def __init__(self, id, source, page=1, width=400, height=300, **kwargs):\n",
    "    self.id = id\n",
    "    if source == 'Bilibili':\n",
    "      src = f'https://player.bilibili.com/player.html?bvid={id}&page={page}'\n",
    "    elif source == 'Osf':\n",
    "      src = f'https://mfr.ca-1.osf.io/render?url=https://osf.io/download/{id}/?direct%26mode=render'\n",
    "    super(PlayVideo, self).__init__(src, width, height, **kwargs)\n",
    "\n",
    "def display_videos(video_ids, W=400, H=300, fs=1):\n",
    "  tab_contents = []\n",
    "  for i, video_id in enumerate(video_ids):\n",
    "    out = widgets.Output()\n",
    "    with out:\n",
    "      if video_ids[i][0] == 'Youtube':\n",
    "        video = YouTubeVideo(id=video_ids[i][1], width=W,\n",
    "                             height=H, fs=fs, rel=0)\n",
    "        print(f'Video available at https://youtube.com/watch?v={video.id}')\n",
    "      else:\n",
    "        video = PlayVideo(id=video_ids[i][1], source=video_ids[i][0], width=W,\n",
    "                          height=H, fs=fs, autoplay=False)\n",
    "        if video_ids[i][0] == 'Bilibili':\n",
    "          print(f'Video available at https://www.bilibili.com/video/{video.id}')\n",
    "        elif video_ids[i][0] == 'Osf':\n",
    "          print(f'Video available at https://osf.io/{video.id}')\n",
    "      display(video)\n",
    "    tab_contents.append(out)\n",
    "  return tab_contents\n",
    "\n",
    "video_ids = [('Youtube', 'cFCRTjhlZg0')]\n",
    "tab_contents = display_videos(video_ids, W=854, H=480)\n",
    "tabs = widgets.Tab()\n",
    "tabs.children = tab_contents\n",
    "for i in range(len(tab_contents)):\n",
    "  tabs.set_title(i, video_ids[i][0])\n",
    "display(tabs)"
   ]
  },
  {
   "cell_type": "code",
   "execution_count": null,
   "metadata": {
    "cellView": "form",
    "execution": {}
   },
   "outputs": [],
   "source": [
    "# @title Submit your feedback\n",
    "# content_review(f\"{feedback_prefix}_distribution_shifts\")"
   ]
  },
  {
   "cell_type": "markdown",
   "metadata": {
    "execution": {}
   },
   "source": [
    "---\n",
    "\n",
    "# Section 1: Covariate shift\n",
    "\n",
    "In this section we are going to discuss case of covariate shift in distribution - when the distribution of features (usually denoted by $\\mathbf{x}$) differs in training and testing data."
   ]
  },
  {
   "cell_type": "markdown",
   "metadata": {
    "execution": {}
   },
   "source": [
    "## Coding Exercise 1: Fitting pricing data to MLP\n",
    "\n",
    "In this exercise we are going to train a Multi-Layer Perceptron (fully-connected neural network with non-linear ReLU activation functions) to predict prices for fruits.\n",
    "\n",
    "As was mentioned in the video, we will model the price of fruits with the following function:\n",
    "\n",
    "$$f(x) = A x^{2} + B sin(\\pi x + \\phi) + C$$\n",
    "\n",
    "meaning that we have quadratic annual behaviour (with summer months being at the bottom of the parabola) as well as bi-weekly seasonality introduced by $sin(\\pi x)$ term (with top values being the days where there is supply of fresh fruits to the market). Variables $A, B, \\phi \\:\\: \\text{and} \\:\\: C$ allow us to tune the day-price relation in different cases (for example, we will observe the role of $\\phi$ in the second section of the tutorial). For this particular one, let us take $A = 0.005$, $B = 0.1$, $\\phi = 0$ and $C = 1$.\n",
    "\n",
    "At first, let's take a look at the data - we will plot it.\n"
   ]
  },
  {
   "cell_type": "code",
   "execution_count": null,
   "metadata": {
    "cellView": "form",
    "execution": {},
    "pycharm": {
     "name": "#%%\n"
    }
   },
   "outputs": [],
   "source": [
    "#define variables\n",
    "A = .005\n",
    "B = 0.1\n",
    "phi = 0\n",
    "C = 1\n",
    "\n",
    "#define days (observe that those are not 1, ..., 365 but proxy ones to make model function neat)\n",
    "days = np.arange(-26, 26 + 1/7, 1/7) #defined as fractions of a week\n",
    "\n",
    "###################################################################\n",
    "## Fill out the following then remove\n",
    "raise NotImplementedError(\"Student exercise: need to complete days-prices relation formula\")\n",
    "###################################################################\n",
    "prices = ... * ...**2 + ... * np.sin(np.pi * ... + ...) + ...\n",
    "\n",
    "#plot relation between days and prices\n",
    "with plt.xkcd():\n",
    "  plt.plot(days, prices)\n",
    "  plt.xlabel('Day')\n",
    "  plt.ylabel('Price')\n",
    "  plt.show()"
   ]
  },
  {
   "cell_type": "code",
   "execution_count": null,
   "metadata": {
    "execution": {}
   },
   "outputs": [],
   "source": [
    "# to_remove solution\n",
    "\n",
    "#define variables\n",
    "A = .005\n",
    "B = 0.1\n",
    "phi = 0\n",
    "C = 1\n",
    "\n",
    "#define days (observe that those are not 1, ..., 365 but proxy ones to make model function neat)\n",
    "days = np.arange(-26, 26 + 1/7, 1/7) #defined as fractions of a week\n",
    "\n",
    "prices = A * days**2 + B * np.sin(np.pi * days + phi) + C\n",
    "\n",
    "#plot relation between days and prices\n",
    "with plt.xkcd():\n",
    "  plt.plot(days, prices)\n",
    "  plt.xlabel('Day')\n",
    "  plt.ylabel('Price')\n",
    "  plt.show()"
   ]
  },
  {
   "cell_type": "markdown",
   "metadata": {
    "execution": {}
   },
   "source": [
    "Let's make sure that we have indeed have 365 days and 26 local maxima (which equals the number of weeks divided by two as we ahve supply bi-weekly)."
   ]
  },
  {
   "cell_type": "code",
   "execution_count": null,
   "metadata": {
    "execution": {}
   },
   "outputs": [],
   "source": [
    "print(f\"The number of days is {days.shape[0]}.\")"
   ]
  },
  {
   "cell_type": "code",
   "execution_count": null,
   "metadata": {
    "execution": {}
   },
   "outputs": [],
   "source": [
    "print(f\"The number of peaks is {np.sum((np.diff(prices)[:-1] > 0) & (np.diff(prices)[1:] < 0))}.\")"
   ]
  },
  {
   "cell_type": "markdown",
   "metadata": {
    "execution": {}
   },
   "source": [
    "**Now, we are ready to train the model to predict the price of the fruits.** First we will assume we have only been to the markey during summer and so only have that data to train in. For this, we need to take data only about summer months and feed it into MLP.\n",
    "\n",
    "As usual, the data is going to be separated into 2 distinct classes: train & test. And we will measure its performormance with the R-squared metric. We will also normalize the data to provide better learning stability for the model.\n",
    "\n",
    "The MLP consists of 2 hidden layers with 100 neurons in each. We use `LBFGS` as solver for this partiuclar scenario as it performs better, compared to `Adam` or `SGD`, when the number of data points is limited."
   ]
  },
  {
   "cell_type": "code",
   "execution_count": null,
   "metadata": {
    "execution": {}
   },
   "outputs": [],
   "source": [
    "#take only summer data\n",
    "summer_days = np.expand_dims(days[151:243], 1)\n",
    "summer_prices = prices[151:243]\n",
    "\n",
    "#divide data into train and test sets\n",
    "summer_days_train, summer_days_test, summer_prices_train, summer_prices_test = train_test_split(summer_days, summer_prices, random_state = 42)\n",
    "\n",
    "###################################################################\n",
    "## Fill out the following then remove\n",
    "raise NotImplementedError(\"Student exercise: need to normalized days and to fit model with it\")\n",
    "###################################################################\n",
    "\n",
    "#apply normalization for days\n",
    "summer_days_mean, summer_days_std = np.mean(...), np.std(...)\n",
    "summer_days_train_norm = (summer_days_train - ...) / ...\n",
    "summer_days_test_norm = (summer_days_test - ...) / ...\n",
    "\n",
    "#define MLP\n",
    "model = MLPRegressor(hidden_layer_sizes=(100, 100), max_iter=10000, random_state = 42, solver = \"lbfgs\") # LBFGS is better to use when there is small amount of data\n",
    "\n",
    "#train MLP\n",
    "model.fit(..., ...)\n",
    "\n",
    "#evaluate MLP on test data\n",
    "print(f\"R-squared value is: {model.score(summer_days_test_norm, summer_prices_test):.02f}.\")"
   ]
  },
  {
   "cell_type": "code",
   "execution_count": null,
   "metadata": {
    "execution": {}
   },
   "outputs": [],
   "source": [
    "# to_remove solution\n",
    "\n",
    "#take only summer data\n",
    "summer_days = np.expand_dims(days[151:243], 1)\n",
    "summer_prices = prices[151:243]\n",
    "\n",
    "#divide data into train and test sets\n",
    "summer_days_train, summer_days_test, summer_prices_train, summer_prices_test = train_test_split(summer_days, summer_prices, random_state = 42)\n",
    "\n",
    "#apply normalization for days\n",
    "summer_days_mean, summer_days_std = np.mean(summer_days), np.std(summer_days)\n",
    "summer_days_train_norm = (summer_days_train - summer_days_mean) / summer_days_std\n",
    "summer_days_test_norm = (summer_days_test - summer_days_mean) / summer_days_std\n",
    "\n",
    "#define MLP\n",
    "model = MLPRegressor(hidden_layer_sizes=(100, 100), max_iter=10000, random_state = 42, solver = \"lbfgs\") # LBFGS is better to use when there is small amount of data\n",
    "\n",
    "#train MLP\n",
    "model.fit(summer_days_train_norm, summer_prices_train)\n",
    "\n",
    "#evaluate MLP on test data\n",
    "print(f\"R-squared value is: {model.score(summer_days_test_norm, summer_prices_test):.02f}.\")"
   ]
  },
  {
   "cell_type": "markdown",
   "metadata": {
    "execution": {}
   },
   "source": [
    "Let's explore the predictions of the model visually."
   ]
  },
  {
   "cell_type": "code",
   "execution_count": null,
   "metadata": {
    "cellView": "form",
    "execution": {}
   },
   "outputs": [],
   "source": [
    "# @markdown Make sure you execute this cell to observe the plot!\n",
    "\n",
    "#predict for test set\n",
    "summer_prices_test_predictions = model.predict(summer_days_test_norm)\n",
    "\n",
    "with plt.xkcd():\n",
    "  plt.plot(summer_days, summer_prices, label = \"True Data\")\n",
    "  plt.scatter(summer_days_test, summer_prices_test_predictions, label = \"Test Predictions\", marker='o', color='g', zorder=2)\n",
    "  plt.xlabel('Day')\n",
    "  plt.ylabel('Price')\n",
    "  plt.legend()\n",
    "  plt.show()"
   ]
  },
  {
   "cell_type": "markdown",
   "metadata": {
    "execution": {}
   },
   "source": [
    "Now that we've learned about prices during the summer, can we predict what prices will be in autumn? Let's see how well our summer-trained model can do."
   ]
  },
  {
   "cell_type": "code",
   "execution_count": null,
   "metadata": {
    "execution": {}
   },
   "outputs": [],
   "source": [
    "#take only autumn data\n",
    "autumn_days = np.expand_dims(days[243:334], 1)\n",
    "autumn_prices = prices[243:334]\n",
    "\n",
    "#apply normalization (pay attention to the fact that we use summer metrics as the model was trained on them!)\n",
    "autumn_days_norm = (autumn_days - summer_days_mean) / summer_days_std\n",
    "\n",
    "#evaluate MLP on normalized autumn data\n",
    "print(f\"R-squared value is: {model.score(autumn_days_norm, autumn_prices):.02f}.\")"
   ]
  },
  {
   "cell_type": "markdown",
   "metadata": {
    "execution": {}
   },
   "source": [
    "The R-squared value dropped significantly; let's observe what is going on visually."
   ]
  },
  {
   "cell_type": "code",
   "execution_count": null,
   "metadata": {
    "cellView": "form",
    "execution": {}
   },
   "outputs": [],
   "source": [
    "# @markdown Make sure you execute this cell to observe the plot!\n",
    "\n",
    "#predict for test set\n",
    "autumn_prices_predictions = model.predict(autumn_days_norm)\n",
    "\n",
    "with plt.xkcd():\n",
    "  plt.plot(autumn_days, autumn_prices, label = \"True Data\")\n",
    "  plt.scatter(autumn_days, autumn_prices_predictions, label = \"Autumn Predictions\", marker='o', color='r', zorder=2)\n",
    "  plt.xlabel('Day')\n",
    "  plt.ylabel('Price')\n",
    "  plt.legend()\n",
    "  plt.show()"
   ]
  },
  {
   "cell_type": "markdown",
   "metadata": {
    "execution": {}
   },
   "source": [
    "### Coding Exercise 1 Discussion\n",
    "\n",
    "1. How would you qualitatively evaluate the model performance on autumn data? Does it capture the annual trend? Does it capture weekly trend?\n"
   ]
  },
  {
   "cell_type": "code",
   "execution_count": null,
   "metadata": {
    "execution": {}
   },
   "outputs": [],
   "source": [
    "#to_remove explanation\n",
    "\n",
    "\"\"\"\n",
    "Discussion: How would you qualitatively evaluate the model performance on autumn data? Does it capture the annual trend? Does it capture weekly trend?\n",
    "\n",
    "Model predictions are completely invariant to the weekly seasonality of the data, though it somewhat captures the increasing trend.\n",
    "Thus, definitely, it can't be used for making quality predictions on the daily basis.\n",
    "\"\"\";"
   ]
  },
  {
   "cell_type": "code",
   "execution_count": null,
   "metadata": {
    "cellView": "form",
    "execution": {}
   },
   "outputs": [],
   "source": [
    "# @title Submit your feedback\n",
    "# content_review(f\"{feedback_prefix}_fitting_pricing_data_to_mlp\")"
   ]
  },
  {
   "cell_type": "markdown",
   "metadata": {
    "execution": {}
   },
   "source": [
    "## Interactive Demo 1: Covariate shift impact on predictability power\n",
    "\n",
    "In this interactive demo, you are going to explore how well the model generalizes to other months using two dropdown menus for selecting start and end months.\n",
    "\n",
    "!N.B.: Note that for summer months we will have some training data included in the predictions evaluation too."
   ]
  },
  {
   "cell_type": "code",
   "execution_count": null,
   "metadata": {
    "cellView": "form",
    "execution": {}
   },
   "outputs": [],
   "source": [
    "# @markdown Make sure you execute this cell to enable the widget!\n",
    "\n",
    "@widgets.interact\n",
    "def interactive_predict(start_month = widgets.Dropdown(description = \"Start Month\", options = months), end_month = widgets.Dropdown(description = \"End Month\", options = months)):\n",
    "    predict(start_month, end_month)"
   ]
  },
  {
   "cell_type": "markdown",
   "metadata": {
    "execution": {}
   },
   "source": [
    "### Interactive Demo 1 Discussion\n",
    "\n",
    "1. Does the power of covariate shift impact the model performance? What happens on the borders of the training period, does the model still capture the fraction of dynamics right before/after it?"
   ]
  },
  {
   "cell_type": "code",
   "execution_count": null,
   "metadata": {
    "execution": {}
   },
   "outputs": [],
   "source": [
    "#to_remove explanation\n",
    "\n",
    "\"\"\"\n",
    "Discussion: Does the power of covariate shift impact the model performance? What happens on the borders of the training period, does model still capture the fraction of dynamics right before/after it?\n",
    "\n",
    "Indeed, the bigger the power of covariate shift (the more distinct the days are), the worse performance we observe. In both border-cases model performs poorly, what is more - even on the fraction of training data near these regions we can observe that model is going to lose the desired dynamics.\n",
    "\"\"\";"
   ]
  },
  {
   "cell_type": "code",
   "execution_count": null,
   "metadata": {
    "cellView": "form",
    "execution": {}
   },
   "outputs": [],
   "source": [
    "# @title Submit your feedback\n",
    "# content_review(f\"{feedback_prefix}_covariate_shift_impact_on_predictability_power\")"
   ]
  },
  {
   "cell_type": "markdown",
   "metadata": {
    "execution": {}
   },
   "source": [
    "---\n",
    "\n",
    "# Section 2: Concept shift\n",
    "\n",
    "Estimated timing to here from start of tutorial: 20 minutes\n",
    "\n",
    "In this section we are going to explore another case of distribution shift, which is different from covariate one, in its nature - concept shift."
   ]
  },
  {
   "cell_type": "markdown",
   "metadata": {
    "execution": {}
   },
   "source": [
    "## Coding Exercise 2: Change in day of supply\n",
    "\n",
    "We saw how going from summer to autumn introduces covariate shifts, but what would lead to a concept shift in our fruit price relationship? One possibility: a change in the day of the week when fresh fruits are delivered. Let us take a look at the modeling equation again:\n",
    "\n",
    "$$f(x) = A x^{2} + B sin(\\pi x + \\phi) + C$$\n",
    "\n",
    "Which variable, do you think, we need to change, so that now we would receive fresh fruits, let's say, 2 days later than it was before?\n",
    "<details>\n",
    "<summary>Answer</summary>\n",
    "<br>\n",
    "Yep, indeed, it is all about sinusoid phase shift - we only need to change $\\phi$ value.\n",
    "</details>\n",
    "\n",
    "Let us take a look how well model generalizes to this unexpected change as well."
   ]
  },
  {
   "cell_type": "code",
   "execution_count": null,
   "metadata": {
    "execution": {}
   },
   "outputs": [],
   "source": [
    "shifted_phi = - 2 * np.pi / 7\n",
    "shifted_prices = A * days**2 + B * np.sin(np.pi*days + shifted_phi) + C\n",
    "\n",
    "#plot relation between days, prices & shifted prices for June\n",
    "with plt.xkcd():\n",
    "  plt.plot(days[151:181], prices[151:181], label = \"Original Data\")\n",
    "  plt.plot(days[151:181], shifted_prices[151:181], label = \"Shifted Data\")\n",
    "  plt.xlabel('Day')\n",
    "  plt.ylabel('Price')\n",
    "  plt.legend()\n",
    "  plt.show()"
   ]
  },
  {
   "cell_type": "code",
   "execution_count": null,
   "metadata": {
    "execution": {}
   },
   "outputs": [],
   "source": [
    "#take only summer shifted data\n",
    "summer_days = np.expand_dims(days[151:243], 1)\n",
    "summer_prices_shifted = shifted_prices[151:243]\n",
    "\n",
    "#apply normalization (pay attention to the fact that we use summer metrics as the model was trained on them!)\n",
    "summer_days_norm = (summer_days - summer_days_mean) / summer_days_std\n",
    "\n",
    "###################################################################\n",
    "## Fill out the following then remove\n",
    "raise NotImplementedError(\"Student exercise: check r-squared values for original and shifted prices\")\n",
    "###################################################################\n",
    "\n",
    "#evaluate MLP on normalized original & shifted data\n",
    "print(f\"R-squared value for original prices is: {model.score(..., ...):.02f}.\")\n",
    "print(f\"R-squared value for shifted prices is: {model.score(..., ...):.02f}.\")"
   ]
  },
  {
   "cell_type": "code",
   "execution_count": null,
   "metadata": {
    "execution": {}
   },
   "outputs": [],
   "source": [
    "# to_remove solution\n",
    "\n",
    "#take only summer shifted data\n",
    "summer_days = np.expand_dims(days[151:243], 1)\n",
    "summer_prices_shifted = shifted_prices[151:243]\n",
    "\n",
    "#apply normalization (pay attention to the fact that we use summer metrics as the model was trained on them!)\n",
    "summer_days_norm = (summer_days - summer_days_mean) / summer_days_std\n",
    "\n",
    "#evaluate MLP on normalized original & shifted data\n",
    "print(f\"R-squared value for original prices is: {model.score(summer_days_norm, summer_prices):.02f}.\")\n",
    "print(f\"R-squared value for shifted prices is: {model.score(summer_days_norm, summer_prices_shifted):.02f}.\")"
   ]
  },
  {
   "cell_type": "code",
   "execution_count": null,
   "metadata": {
    "cellView": "form",
    "execution": {}
   },
   "outputs": [],
   "source": [
    "# @markdown Make sure you execute this cell to observe the plot!\n",
    "\n",
    "#predict for summer days\n",
    "summer_prices_predictions = model.predict(summer_days_norm)\n",
    "\n",
    "with plt.xkcd():\n",
    "  plt.plot(summer_days, summer_prices_shifted, label = \"Shifted Data\")\n",
    "  plt.scatter(summer_days, summer_prices_predictions, label = \"Summer Predictions (Based on Original Model)\", marker='o', color='r', zorder=2)\n",
    "  plt.xlabel('Day')\n",
    "  plt.ylabel('Price')\n",
    "  plt.legend()\n",
    "  plt.show()"
   ]
  },
  {
   "cell_type": "markdown",
   "metadata": {
    "execution": {}
   },
   "source": [
    "Indeed, the model predictions are capturing the original phase, not the phase shifted function."
   ]
  },
  {
   "cell_type": "markdown",
   "metadata": {
    "execution": {}
   },
   "source": [
    "### Coding Exercise 2 Discussion\n",
    "\n",
    "1. Why do you think R-squared value is still higher for this particular example of concept shift in comparison to the covariate one?"
   ]
  },
  {
   "cell_type": "code",
   "execution_count": null,
   "metadata": {
    "execution": {}
   },
   "outputs": [],
   "source": [
    "#to_remove explanation\n",
    "\n",
    "\"\"\"\n",
    "Discussion: Why do you think R-squared value is still higher for this particular example of concept shift in comparison to the covariate one?\n",
    "\n",
    "In this example, concept shift preserves the annual and weekly trends (we can see that predicitions oscillate the same way as the shifted function), thus R-squared value is relatively high.\n",
    "\"\"\";"
   ]
  },
  {
   "cell_type": "code",
   "execution_count": null,
   "metadata": {
    "cellView": "form",
    "execution": {}
   },
   "outputs": [],
   "source": [
    "# @title Submit your feedback\n",
    "# content_review(f\"{feedback_prefix}_change_in_day_of_supply\")"
   ]
  },
  {
   "cell_type": "markdown",
   "metadata": {
    "execution": {}
   },
   "source": [
    "---\n",
    "\n",
    "## Think! 2: Examples of concept shift\n",
    "\n",
    "What other examples of concept shift could you come up with in the context of the \"fruits prices\" task? What variables would these shifts impact?\n",
    "\n",
    "Take 2 minutes to think, then discuss as a group."
   ]
  },
  {
   "cell_type": "code",
   "execution_count": null,
   "metadata": {
    "cellView": "form",
    "execution": {}
   },
   "outputs": [],
   "source": [
    "# @title Submit your feedback\n",
    "# content_review(f\"{feedback_prefix}_examples_of_concept_shift\")"
   ]
  },
  {
   "cell_type": "markdown",
   "metadata": {
    "execution": {}
   },
   "source": [
    "---\n",
    "# Summary\n",
    "\n",
    "*Estimated timing of tutorial: 35 minutes*\n",
    "\n",
    "Here we learned:\n",
    "\n",
    "1. About covariate and concept shifts as two different types of data distribution shifts\n",
    "\n",
    "2. How such distribution shifts negatively impact model performance.\n",
    "\n",
    "During the next tutorials we are going to address this question of generalization - what are the techniques and methods to deal with poor generalization performance due to distribution shifts."
   ]
  }
 ],
 "metadata": {
  "colab": {
   "collapsed_sections": [],
   "include_colab_link": true,
   "name": "W2D4_Tutorial1",
   "provenance": [],
   "toc_visible": true
  },
  "kernel": {
   "display_name": "Python 3",
   "language": "python",
   "name": "python3"
  },
  "kernelspec": {
   "display_name": "Python 3 (ipykernel)",
   "language": "python",
   "name": "python3"
  },
  "language_info": {
   "codemirror_mode": {
    "name": "ipython",
    "version": 3
   },
   "file_extension": ".py",
   "mimetype": "text/x-python",
   "name": "python",
   "nbconvert_exporter": "python",
   "pygments_lexer": "ipython3",
   "version": "3.9.19"
  }
 },
 "nbformat": 4,
 "nbformat_minor": 4
}
