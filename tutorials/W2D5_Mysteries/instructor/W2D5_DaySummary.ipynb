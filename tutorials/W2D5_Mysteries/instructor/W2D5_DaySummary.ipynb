{
 "cells": [
  {
   "cell_type": "markdown",
   "id": "297e781a-d640-4ce9-bb8f-75d028022b9a",
   "metadata": {
    "execution": {}
   },
   "source": [
    "# W2D4 Day Summary"
   ]
  },
  {
   "cell_type": "code",
   "execution_count": null,
   "id": "66e6d0d1-a8b7-4747-bf30-13b5acb0445a",
   "metadata": {
    "cellView": "form",
    "execution": {},
    "jp-MarkdownHeadingCollapsed": true
   },
   "outputs": [],
   "source": [
    "# @title Install dependencies\n",
    "#!pip install numpy Pillow matplotlib torch torchvision transformers gradio sentencepiece protobuf\n",
    "#!pip install git+https://github.com/Belval/TextRecognitionDataGenerator#egg=trdg"
   ]
  }
 ],
 "metadata": {
  "colab": {
   "collapsed_sections": [],
   "include_colab_link": true,
   "name": "W2D5_DaySummary",
   "toc_visible": true
  },
  "kernel": {
   "display_name": "Python 3",
   "language": "python",
   "name": "python3"
  },
  "kernelspec": {
   "display_name": "Python 3 (ipykernel)",
   "language": "python",
   "name": "python3"
  },
  "language_info": {
   "codemirror_mode": {
    "name": "ipython",
    "version": 3
   },
   "file_extension": ".py",
   "mimetype": "text/x-python",
   "name": "python",
   "nbconvert_exporter": "python",
   "pygments_lexer": "ipython3",
   "version": "3.9.19"
  }
 },
 "nbformat": 4,
 "nbformat_minor": 5
}
