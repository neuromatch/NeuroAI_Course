{
 "cells": [
  {
   "cell_type": "markdown",
   "id": "71691b02-1caf-4678-aa9c-d271dd7d3d57",
   "metadata": {
    "execution": {}
   },
   "source": [
    "# W2D4 Intro"
   ]
  },
  {
   "cell_type": "code",
   "execution_count": null,
   "id": "7caa77ae-ed03-4fcb-82d2-5fab70e5d18a",
   "metadata": {
    "cellView": "form",
    "execution": {}
   },
   "outputs": [],
   "source": [
    "# @title Install dependencies\n",
    "#!pip install numpy Pillow matplotlib torch torchvision transformers gradio sentencepiece protobuf\n",
    "#!pip install git+https://github.com/Belval/TextRecognitionDataGenerator#egg=trdg"
   ]
  }
 ],
 "metadata": {
  "colab": {
   "collapsed_sections": [],
   "include_colab_link": true,
   "name": "W2D5_Intro",
   "toc_visible": true
  },
  "kernel": {
   "display_name": "Python 3",
   "language": "python",
   "name": "python3"
  },
  "kernelspec": {
   "display_name": "Python 3 (ipykernel)",
   "language": "python",
   "name": "python3"
  },
  "language_info": {
   "codemirror_mode": {
    "name": "ipython",
    "version": 3
   },
   "file_extension": ".py",
   "mimetype": "text/x-python",
   "name": "python",
   "nbconvert_exporter": "python",
   "pygments_lexer": "ipython3",
   "version": "3.9.19"
  }
 },
 "nbformat": 4,
 "nbformat_minor": 5
}
