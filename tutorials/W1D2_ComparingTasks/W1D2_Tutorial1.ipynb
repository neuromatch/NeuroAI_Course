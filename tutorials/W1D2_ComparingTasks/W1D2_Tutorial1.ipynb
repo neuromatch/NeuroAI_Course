{
 "cells": [
  {
   "cell_type": "markdown",
   "metadata": {
    "execution": {}
   },
   "source": [
    "<a href=\"https://colab.research.google.com/github/neuromatch/NeuroAI_Course/blob/main/tutorials/W1D2_ComparingTasks/student/W1D2_Tutorial1.ipynb\" target=\"_blank\"><img alt=\"Open In Colab\" src=\"https://colab.research.google.com/assets/colab-badge.svg\"/></a>   <a href=\"https://kaggle.com/kernels/welcome?src=https://raw.githubusercontent.com/neuromatch/NeuroAI_Course/main/tutorials/W1D2_ComparingTasks/student/W1D2_Tutorial1.ipynb\" target=\"_blank\"><img alt=\"Open in Kaggle\" src=\"https://kaggle.com/static/images/open-in-kaggle.svg\"/></a>"
   ]
  },
  {
   "cell_type": "markdown",
   "metadata": {
    "execution": {}
   },
   "source": [
    "# Tutorial 1: Task definition, application, relations and impacts on generalization\n",
    "\n",
    "**Week 1, Day 2: Comparing Tasks**\n",
    "\n",
    "**By Neuromatch Academy**\n",
    "\n",
    "__Content creators:__ Deying Song, Leila Wehbe\n",
    "\n",
    "__Content reviewers:__ Samuele Bolotta, Hlib Solodzhuk, RyeongKyung Yoon, Lily Chamakura, Yizhou Chen, Ruiyi Zhang, Patrick Mineault\n",
    "\n",
    "__Production editors:__ Konstantine Tsafatinos, Ella Batty, Spiros Chavlis, Samuele Bolotta, Hlib Solodzhuk, Patrick Mineault\n"
   ]
  },
  {
   "cell_type": "markdown",
   "metadata": {
    "execution": {}
   },
   "source": [
    "___\n",
    "\n",
    "\n",
    "# Tutorial Objectives\n",
    "\n",
    "*Estimated timing of tutorial: 90 minutes*\n",
    "\n",
    "In this tutorial, we'll explore how task specification affects generalization. We will use the same base architecture (a convolutional neural network or CNN) to perform different tasks with different outputs. We will explore the number of training points and number of epochs needed to train these networks. Additionally, we will explore how well representations learned for a given task generalize, and whether they can be used to solve the other tasks.\n",
    "\n",
    "Today's learning objectives are:\n",
    "\n",
    "1. Formulate different tasks in terms of cost functions.\n",
    "2. Train a network to accomplish these tasks and compare the performance of these networks.\n",
    "3. Measure how well different representations generalize\n",
    "\n",
    "Let's get started.\n"
   ]
  },
  {
   "cell_type": "code",
   "execution_count": null,
   "metadata": {
    "cellView": "form",
    "execution": {},
    "executionInfo": {
     "elapsed": 172,
     "status": "ok",
     "timestamp": 1718208610982,
     "user": {
      "displayName": "Leila Wehbe",
      "userId": "09974289515413278669"
     },
     "user_tz": 240
    },
    "tags": [
     "remove-input"
    ]
   },
   "outputs": [],
   "source": [
    "# @title Tutorial slides\n",
    "# @markdown These are the slides for the videos in all tutorials today\n",
    "\n",
    "from IPython.display import IFrame\n",
    "from ipywidgets import widgets\n",
    "out = widgets.Output()\n",
    "\n",
    "link_id = \"x4y79\"\n",
    "\n",
    "with out:\n",
    "    print(f\"If you want to download the slides: https://osf.io/download/{link_id}/\")\n",
    "    display(IFrame(src=f\"https://mfr.ca-1.osf.io/render?url=https://osf.io/{link_id}/?direct%26mode=render%26action=download%26mode=render\", width=730, height=410))\n",
    "display(out)"
   ]
  },
  {
   "cell_type": "markdown",
   "metadata": {
    "execution": {}
   },
   "source": [
    "---\n",
    "# Setup\n",
    "\n"
   ]
  },
  {
   "cell_type": "code",
   "execution_count": null,
   "metadata": {
    "cellView": "form",
    "execution": {},
    "executionInfo": {
     "elapsed": 183983,
     "status": "ok",
     "timestamp": 1718208795199,
     "user": {
      "displayName": "Leila Wehbe",
      "userId": "09974289515413278669"
     },
     "user_tz": 240
    },
    "tags": [
     "hide-input"
    ]
   },
   "outputs": [],
   "source": [
    "# @title Install and import feedback gadget\n",
    "\n",
    "!pip install vibecheck numpy matplotlib torch torchvision tqdm ipywidgets memory-profiler requests scikit-learn torchmetrics --quiet\n",
    "\n",
    "\n",
    "from vibecheck import DatatopsContentReviewContainer\n",
    "def content_review(notebook_section: str):\n",
    "    return DatatopsContentReviewContainer(\n",
    "        \"\",  # No text prompt\n",
    "        notebook_section,\n",
    "        {\n",
    "            \"url\": \"https://pmyvdlilci.execute-api.us-east-1.amazonaws.com/klab\",\n",
    "            \"name\": \"neuromatch_neuroai\",\n",
    "            \"user_key\": \"wb2cxze8\",\n",
    "        },\n",
    "    ).render()\n",
    "\n",
    "feedback_prefix = \"W1D2_T1\""
   ]
  },
  {
   "cell_type": "code",
   "execution_count": null,
   "metadata": {
    "cellView": "form",
    "execution": {},
    "executionInfo": {
     "elapsed": 5196,
     "status": "ok",
     "timestamp": 1718208800392,
     "user": {
      "displayName": "Leila Wehbe",
      "userId": "09974289515413278669"
     },
     "user_tz": 240
    },
    "tags": [
     "hide-input"
    ]
   },
   "outputs": [],
   "source": [
    "# @title Import dependencies\n",
    "\n",
    "# Import standard library dependencies\n",
    "import os\n",
    "import time\n",
    "import gc\n",
    "import logging\n",
    "from pathlib import Path\n",
    "import zipfile\n",
    "import random\n",
    "import contextlib\n",
    "import io\n",
    "\n",
    "# Import third-party libraries\n",
    "import numpy as np\n",
    "import matplotlib.pyplot as plt\n",
    "import torch\n",
    "import torch.nn as nn\n",
    "import torch.optim as optim\n",
    "import torch.nn.functional as F\n",
    "import torchvision\n",
    "import torchvision.transforms as transforms\n",
    "from tqdm.notebook import tqdm\n",
    "from ipywidgets import Layout\n",
    "from memory_profiler import profile\n",
    "import requests\n",
    "from sklearn.metrics import confusion_matrix\n",
    "from torchmetrics import Accuracy\n",
    "from torch.utils.data import DataLoader\n",
    "import vibecheck\n",
    "import torch\n",
    "import torch.nn as nn\n",
    "import torch.nn.functional as F\n",
    "from torch.utils.data import DataLoader, SubsetRandomSampler\n",
    "from pathlib import Path\n",
    "import time\n",
    "from tqdm import tqdm"
   ]
  },
  {
   "cell_type": "code",
   "execution_count": null,
   "metadata": {
    "cellView": "form",
    "execution": {}
   },
   "outputs": [],
   "source": [
    "# @title Figure settings\n",
    "\n",
    "logging.getLogger('matplotlib.font_manager').disabled = True\n",
    "\n",
    "%matplotlib inline\n",
    "%config InlineBackend.figure_format = 'retina' # perfrom high definition rendering for images and plots\n",
    "plt.style.use(\"https://raw.githubusercontent.com/NeuromatchAcademy/course-content/main/nma.mplstyle\")"
   ]
  },
  {
   "cell_type": "code",
   "execution_count": null,
   "metadata": {
    "cellView": "form",
    "execution": {}
   },
   "outputs": [],
   "source": [
    "# @title Set device (GPU or CPU)\n",
    "\n",
    "def set_device():\n",
    "    \"\"\"\n",
    "    Determines and sets the computational device for PyTorch operations based on the availability of a CUDA-capable GPU.\n",
    "\n",
    "    Outputs:\n",
    "    - device (str): The device that PyTorch will use for computations ('cuda' or 'cpu'). This string can be directly used\n",
    "    in PyTorch operations to specify the device.\n",
    "    \"\"\"\n",
    "\n",
    "    device = \"cuda\" if torch.cuda.is_available() else \"cpu\"\n",
    "    if device != \"cuda\":\n",
    "        print(\"GPU is not enabled in this notebook. \\n\"\n",
    "              \"If you want to enable it, in the menu under `Runtime` -> \\n\"\n",
    "              \"`Hardware accelerator.` and select `GPU` from the dropdown menu\")\n",
    "    else:\n",
    "        print(\"GPU is enabled in this notebook. \\n\"\n",
    "              \"If you want to disable it, in the menu under `Runtime` -> \\n\"\n",
    "              \"`Hardware accelerator.` and select `None` from the dropdown menu\")\n",
    "\n",
    "    return device\n",
    "\n",
    "device = set_device()"
   ]
  },
  {
   "cell_type": "code",
   "execution_count": null,
   "metadata": {
    "cellView": "form",
    "execution": {},
    "executionInfo": {
     "elapsed": 187,
     "status": "ok",
     "timestamp": 1718208800782,
     "user": {
      "displayName": "Leila Wehbe",
      "userId": "09974289515413278669"
     },
     "user_tz": 240
    },
    "tags": [
     "hide-input"
    ]
   },
   "outputs": [],
   "source": [
    "# @title Helper functions\n",
    "\n",
    "\n",
    "\n",
    "class BottleneckLayer(nn.Module):\n",
    "    def __init__(self, M):\n",
    "        super(BottleneckLayer, self).__init__()\n",
    "        self.fc = nn.Linear(LATENT_DIM, M)\n",
    "\n",
    "    def forward(self, x):\n",
    "        x = F.relu(self.fc(x))\n",
    "        return x\n",
    "\n",
    "class ConvNeuralNetDecoder(nn.Module):\n",
    "    def __init__(self, M):\n",
    "        super(ConvNeuralNetDecoder, self).__init__()\n",
    "        self.fc3 = nn.Linear(M, LATENT_DIM)\n",
    "        self.fc2 = nn.Linear(84, 120)\n",
    "        self.fc1 = nn.Linear(120, 16 * 5 * 5)\n",
    "\n",
    "        self.convT2 = nn.ConvTranspose2d(16, 6, 5, stride=2, padding=0, output_padding=1)\n",
    "        self.convT1 = nn.ConvTranspose2d(6, 1, 5, stride=2, padding=0, output_padding=1)\n",
    "\n",
    "    def forward(self, x):\n",
    "        x = F.relu(self.fc3(x))\n",
    "        x = F.relu(self.fc2(x))\n",
    "        x = F.relu(self.fc1(x))\n",
    "\n",
    "        x = x.view(-1, 16, 5, 5)\n",
    "\n",
    "        x = F.relu(self.convT2(x))\n",
    "        x = self.convT1(x)\n",
    "\n",
    "        return x\n",
    "\n",
    "def get_random_sample_dataloader(dataset, batch_size, M):\n",
    "    indices = torch.randperm(len(dataset))[:M]\n",
    "    sampler = SubsetRandomSampler(indices)\n",
    "    sampled_loader = DataLoader(dataset, batch_size=batch_size, sampler=sampler, pin_memory=True)\n",
    "\n",
    "    return sampled_loader\n",
    "\n",
    "def get_random_sample_train_val(train_dataset, val_dataset, batch_size, N_train_data):\n",
    "\n",
    "    sampled_train_loader = get_random_sample_dataloader(train_dataset, batch_size, N_train_data)\n",
    "\n",
    "    N_val_data = int(N_train_data / 9.0)\n",
    "    if N_val_data < 30:\n",
    "        N_val_data = 30\n",
    "    sampled_val_loader = get_random_sample_dataloader(val_dataset, batch_size, N_val_data)\n",
    "\n",
    "    return sampled_train_loader, sampled_val_loader\n",
    "\n",
    "class Accuracy:\n",
    "    def __init__(self, task='multiclass', num_classes=10):\n",
    "        assert task == 'multiclass', \"Only supports `multiclass` task accuracy!\"\n",
    "        self.num_classes = num_classes\n",
    "\n",
    "    def __call__(self, predicted, target):\n",
    "        correct = predicted.eq(target.view_as(predicted)).sum().item()\n",
    "        return correct / predicted.size(0)\n",
    "\n",
    "def save_model(model, task_name, N_train_data, epoch, train_loss, val_loss):\n",
    "    MODEL_PATH = Path(\"models\")\n",
    "    MODEL_PATH.mkdir(parents=True, exist_ok=True)\n",
    "\n",
    "    MODEL_NAME = f\"ConvNet_{task_name}_{N_train_data}_epoch_{epoch}.pth\"\n",
    "    MODEL_SAVE_PATH = MODEL_PATH / MODEL_NAME\n",
    "\n",
    "    print(f\"Saving the model: {MODEL_SAVE_PATH}\")\n",
    "\n",
    "    checkpoint = {\n",
    "        'model_state_dict': model.state_dict(),\n",
    "        'train_loss': train_loss,\n",
    "        'val_loss': val_loss\n",
    "    }\n",
    "\n",
    "    torch.save(obj=checkpoint, f=MODEL_SAVE_PATH)\n",
    "\n",
    "def train(model, train_dataloader, val_dataloader, test_dataloader, cost_fn, optimizer, epochs_max, acc_flag, triplet_flag, task_name, N_train_data):\n",
    "    tstart = time.time()\n",
    "    accuracy = Accuracy(task='multiclass', num_classes=10)\n",
    "\n",
    "    epoch = 0\n",
    "    val_cost_last = 100000.0\n",
    "    val_cost_current = 100000.0\n",
    "\n",
    "    my_epoch = []\n",
    "    my_train_cost = []\n",
    "    my_test_cost = []\n",
    "\n",
    "    train_losses = []\n",
    "    val_losses = []\n",
    "\n",
    "    if triplet_flag:\n",
    "        for epoch in tqdm(range(1, epochs_max + 1), desc=\"Training epochs\", unit=\"epoch\"):\n",
    "            my_epoch.append(epoch)\n",
    "\n",
    "            train_cost = 0.0\n",
    "            for batch_idx, (anchor_img, positive_img, negative_img) in enumerate(train_dataloader):\n",
    "                model.train()\n",
    "                anchor_img, positive_img, negative_img = anchor_img.cuda(), positive_img.cuda(), negative_img.cuda()\n",
    "                anchor_reconstruct = model(anchor_img)\n",
    "                positive_reconstruct = model(positive_img)\n",
    "                negative_reconstruct = model(negative_img)\n",
    "                cost = cost_fn(anchor_reconstruct, positive_reconstruct, negative_reconstruct)\n",
    "                train_cost += cost.item()\n",
    "                optimizer.zero_grad()\n",
    "                cost.backward()\n",
    "                optimizer.step()\n",
    "            train_cost /= len(train_dataloader)\n",
    "            train_losses.append(train_cost)\n",
    "            my_train_cost.append(train_cost)\n",
    "\n",
    "            val_cost = 0.0\n",
    "            model.eval()\n",
    "            with torch.no_grad():\n",
    "                for batch_idx, (anchor_img, positive_img, negative_img) in enumerate(val_dataloader):\n",
    "                    anchor_img, positive_img, negative_img = anchor_img.cuda(), positive_img.cuda(), negative_img.cuda()\n",
    "                    anchor_reconstruct = model(anchor_img)\n",
    "                    positive_reconstruct = model(positive_img)\n",
    "                    negative_reconstruct = model(negative_img)\n",
    "                    cost = cost_fn(anchor_reconstruct, positive_reconstruct, negative_reconstruct)\n",
    "                    val_cost += cost.item()\n",
    "                val_cost /= len(val_dataloader)\n",
    "                val_cost_last = val_cost_current\n",
    "                val_cost_current = val_cost\n",
    "                val_losses.append(val_cost)\n",
    "\n",
    "            test_cost = 0.0\n",
    "            model.eval()\n",
    "            with torch.no_grad():\n",
    "                for batch_idx, (anchor_img, positive_img, negative_img) in enumerate(test_dataloader):\n",
    "                    anchor_img, positive_img, negative_img = anchor_img.cuda(), positive_img.cuda(), negative_img.cuda()\n",
    "                    anchor_reconstruct = model(anchor_img)\n",
    "                    positive_reconstruct = model(positive_img)\n",
    "                    negative_reconstruct = model(negative_img)\n",
    "                    cost = cost_fn(anchor_reconstruct, positive_reconstruct, negative_reconstruct)\n",
    "                    test_cost += cost.item()\n",
    "                test_cost /= len(test_dataloader)\n",
    "                my_test_cost.append(test_cost)\n",
    "\n",
    "            print(f\"Epoch: {epoch}| Train cost: {train_cost: .5f}| \" +\n",
    "                  f\"Val cost: {val_cost: .5f}| \" +\n",
    "                  f\"Test cost: {test_cost: .5f}|\")\n",
    "\n",
    "            save_model(model, task_name, N_train_data, epoch, train_cost, val_cost)\n",
    "\n",
    "    else:\n",
    "        for epoch in tqdm(range(1, epochs_max + 1), desc=\"Training epochs\", unit=\"epoch\"):\n",
    "            my_epoch.append(epoch)\n",
    "\n",
    "            train_cost, train_acc = 0.0, 0.0\n",
    "            for batch_idx, (X, y) in enumerate(train_dataloader):\n",
    "                model.train()\n",
    "\n",
    "                predictions = model(X)\n",
    "                cost = cost_fn(predictions, y)\n",
    "                train_cost += cost.item()\n",
    "                if acc_flag:\n",
    "                    _, predicted_classes = torch.max(predictions, 1)\n",
    "                    acc = accuracy(predicted_classes, y)\n",
    "                    train_acc += acc\n",
    "                optimizer.zero_grad()\n",
    "                cost.backward()\n",
    "                optimizer.step()\n",
    "            train_cost /= len(train_dataloader)\n",
    "            if acc_flag:\n",
    "                train_acc /= len(train_dataloader)\n",
    "            train_losses.append(train_cost)\n",
    "            my_train_cost.append(train_cost)\n",
    "\n",
    "            val_cost, val_acc = 0.0, 0.0\n",
    "            model.eval()\n",
    "            with torch.no_grad():\n",
    "                for batch_idx, (X, y) in enumerate(val_dataloader):\n",
    "\n",
    "                    predictions = model(X)\n",
    "                    cost = cost_fn(predictions, y)\n",
    "                    val_cost += cost.item()\n",
    "                    if acc_flag:\n",
    "                        _, predicted_classes = torch.max(predictions, 1)\n",
    "                        acc = accuracy(predicted_classes, y)\n",
    "                        val_acc += acc\n",
    "                val_cost /= len(val_dataloader)\n",
    "                val_cost_last = val_cost_current\n",
    "                val_cost_current = val_cost\n",
    "                if acc_flag:\n",
    "                    val_acc /= len(val_dataloader)\n",
    "            val_losses.append(val_cost)\n",
    "\n",
    "            test_cost, test_acc = 0.0, 0.0\n",
    "            model.eval()\n",
    "            with torch.no_grad():\n",
    "                for batch_idx, (X, y) in enumerate(test_dataloader):\n",
    "\n",
    "                    predictions = model(X)\n",
    "                    cost = cost_fn(predictions, y)\n",
    "                    test_cost += cost.item()\n",
    "                    if acc_flag:\n",
    "                        _, predicted_classes = torch.max(predictions, 1)\n",
    "                        acc = accuracy(predicted_classes, y)\n",
    "                        test_acc += acc\n",
    "                test_cost /= len(test_dataloader)\n",
    "                my_test_cost.append(test_cost)\n",
    "\n",
    "                if acc_flag:\n",
    "                    test_acc /= len(test_dataloader)\n",
    "\n",
    "            if acc_flag:\n",
    "                print(f\"Epoch: {epoch}| Train cost: {train_cost: .5f}| Train acc: {train_acc: .5f}| \" +\n",
    "                      f\"Val cost: {val_cost: .5f}| Val acc: {val_acc: .5f}| \" +\n",
    "                      f\"Test cost: {test_cost: .5f}| Test acc: {test_acc: .5f}\")\n",
    "            else:\n",
    "                print(f\"Epoch: {epoch}| Train cost: {train_cost: .5f}| \" +\n",
    "                      f\"Val cost: {val_cost: .5f}| \" +\n",
    "                      f\"Test cost: {test_cost: .5f}|\")\n",
    "\n",
    "            save_model(model, task_name, N_train_data, epoch, train_cost, val_cost)\n",
    "\n",
    "    elapsed = time.time() - tstart\n",
    "    print('Elapsed: %s' % elapsed)\n",
    "\n",
    "    loss_data = {'train_losses': train_losses, 'val_losses': val_losses}\n",
    "    torch.save(loss_data, 'loss_data.pth')\n",
    "\n",
    "    return my_epoch, my_train_cost, val_losses, my_test_cost\n",
    "\n",
    "def train_transfer(model, train_dataloader, val_dataloader, test_dataloader, cost_fn, optimizer, epochs_max, acc_flag, triplet_flag, task_name, N_train_data):\n",
    "    tstart = time.time()\n",
    "    accuracy = Accuracy(task='multiclass', num_classes=10)\n",
    "\n",
    "    epoch = 0\n",
    "    val_cost_last = 100000.0\n",
    "    val_cost_current = 100000.0\n",
    "\n",
    "    my_epoch = []\n",
    "    my_train_cost = []\n",
    "    my_test_cost = []\n",
    "\n",
    "    train_losses = []\n",
    "    val_losses = []\n",
    "\n",
    "    if triplet_flag:\n",
    "        for epoch in tqdm(range(1, epochs_max + 1), desc=\"Training epochs\", unit=\"epoch\"):\n",
    "            my_epoch.append(epoch)\n",
    "\n",
    "            train_cost = 0.0\n",
    "            for batch_idx, (anchor_img, positive_img, negative_img) in enumerate(train_dataloader):\n",
    "                model.train()\n",
    "                anchor_img, positive_img, negative_img = anchor_img.cuda(), positive_img.cuda(), negative_img.cuda()\n",
    "                anchor_reconstruct = model(anchor_img)\n",
    "                positive_reconstruct = model(positive_img)\n",
    "                negative_reconstruct = model(negative_img)\n",
    "                cost = cost_fn(anchor_reconstruct, positive_reconstruct, negative_reconstruct)\n",
    "                train_cost += cost.item()\n",
    "                optimizer.zero_grad()\n",
    "                cost.backward()\n",
    "                optimizer.step()\n",
    "            train_cost /= len(train_dataloader)\n",
    "            train_losses.append(train_cost)\n",
    "            my_train_cost.append(train_cost)\n",
    "\n",
    "            val_cost = 0.0\n",
    "            model.eval()\n",
    "            with torch.no_grad():\n",
    "                for batch_idx, (anchor_img, positive_img, negative_img) in enumerate(val_dataloader):\n",
    "                    anchor_img, positive_img, negative_img = anchor_img.cuda(), positive_img.cuda(), negative_img.cuda()\n",
    "                    anchor_reconstruct = model(anchor_img)\n",
    "                    positive_reconstruct = model(positive_img)\n",
    "                    negative_reconstruct = model(negative_img)\n",
    "                    cost = cost_fn(anchor_reconstruct, positive_reconstruct, negative_reconstruct)\n",
    "                    val_cost += cost.item()\n",
    "                val_cost /= len(val_dataloader)\n",
    "                val_cost_last = val_cost_current\n",
    "                val_cost_current = val_cost\n",
    "                val_losses.append(val_cost)\n",
    "\n",
    "            test_cost = 0.0\n",
    "            model.eval()\n",
    "            with torch.no_grad():\n",
    "                for batch_idx, (anchor_img, positive_img, negative_img) in enumerate(test_dataloader):\n",
    "                    anchor_img, positive_img, negative_img = anchor_img.cuda(), positive_img.cuda(), negative_img.cuda()\n",
    "                    anchor_reconstruct = model(anchor_img)\n",
    "                    positive_reconstruct = model(positive_img)\n",
    "                    negative_reconstruct = model(negative_img)\n",
    "                    cost = cost_fn(anchor_reconstruct, positive_reconstruct, negative_reconstruct)\n",
    "                    test_cost += cost.item()\n",
    "                test_cost /= len(test_dataloader)\n",
    "                my_test_cost.append(test_cost)\n",
    "\n",
    "            print(f\"Epoch: {epoch}| Train cost: {train_cost: .5f}| \" +\n",
    "                  f\"Val cost: {val_cost: .5f}| \" +\n",
    "                  f\"Test cost: {test_cost: .5f}|\")\n",
    "\n",
    "            save_model(model, task_name, N_train_data, epoch, train_cost, val_cost)\n",
    "\n",
    "    else:\n",
    "        for epoch in tqdm(range(1, epochs_max + 1), desc=\"Training epochs\", unit=\"epoch\"):\n",
    "            my_epoch.append(epoch)\n",
    "\n",
    "            train_cost, train_acc = 0.0, 0.0\n",
    "            for batch_idx, (X, y) in enumerate(train_dataloader):\n",
    "                model.train()\n",
    "\n",
    "                predictions = model(X)\n",
    "                cost = cost_fn(predictions, y)\n",
    "                train_cost += cost.item()\n",
    "                if acc_flag:\n",
    "                    _, predicted_classes = torch.max(predictions, 1)\n",
    "                    acc = accuracy(predicted_classes, y)\n",
    "                    train_acc += acc\n",
    "                optimizer.zero_grad()\n",
    "                cost.backward()\n",
    "                optimizer.step()\n",
    "            train_cost /= len(train_dataloader)\n",
    "            if acc_flag:\n",
    "                train_acc /= len(train_dataloader)\n",
    "            train_losses.append(train_cost)\n",
    "            my_train_cost.append(train_cost)\n",
    "\n",
    "            val_cost, val_acc = 0.0, 0.0\n",
    "            model.eval()\n",
    "            with torch.no_grad():\n",
    "                for batch_idx, (X, y) in enumerate(val_dataloader):\n",
    "\n",
    "                    predictions = model(X)\n",
    "                    cost = cost_fn(predictions, y)\n",
    "                    val_cost += cost.item()\n",
    "                    if acc_flag:\n",
    "                        _, predicted_classes = torch.max(predictions, 1)\n",
    "                        acc = accuracy(predicted_classes, y)\n",
    "                        val_acc += acc\n",
    "                val_cost /= len(val_dataloader)\n",
    "                val_cost_last = val_cost_current\n",
    "                val_cost_current = val_cost\n",
    "                if acc_flag:\n",
    "                    val_acc /= len(val_dataloader)\n",
    "            val_losses.append(val_cost)\n",
    "\n",
    "            test_cost, test_acc = 0.0, 0.0\n",
    "            model.eval()\n",
    "            with torch.no_grad():\n",
    "                for batch_idx, (X, y) in enumerate(test_dataloader):\n",
    "\n",
    "                    predictions = model(X)\n",
    "                    cost = cost_fn(predictions, y)\n",
    "                    test_cost += cost.item()\n",
    "                    if acc_flag:\n",
    "                        _, predicted_classes = torch.max(predictions, 1)\n",
    "                        acc = accuracy(predicted_classes, y)\n",
    "                        test_acc += acc\n",
    "                test_cost /= len(test_dataloader)\n",
    "                my_test_cost.append(test_cost)\n",
    "\n",
    "                if acc_flag:\n",
    "                    test_acc /= len(test_dataloader)\n",
    "\n",
    "            if acc_flag:\n",
    "                print(f\"Epoch: {epoch}| Train cost: {train_cost: .5f}| Train acc: {train_acc: .5f}| \" +\n",
    "                      f\"Val cost: {val_cost: .5f}| Val acc: {val_acc: .5f}| \" +\n",
    "                      f\"Test cost: {test_cost: .5f}| Test acc: {test_acc: .5f}\")\n",
    "            else:\n",
    "                print(f\"Epoch: {epoch}| Train cost: {train_cost: .5f}| \" +\n",
    "                      f\"Val cost: {val_cost: .5f}| \" +\n",
    "                      f\"Test cost: {test_cost: .5f}|\")\n",
    "\n",
    "            save_model(model, task_name, N_train_data, epoch, train_cost, val_cost)\n",
    "\n",
    "    elapsed = time.time() - tstart\n",
    "    print('Elapsed: %s' % elapsed)\n",
    "\n",
    "    loss_data = {'train_losses': train_losses, 'val_losses': val_losses}\n",
    "    torch.save(loss_data, 'loss_data.pth')\n",
    "\n",
    "    return my_epoch, my_train_cost, val_losses, my_test_cost"
   ]
  },
  {
   "cell_type": "code",
   "execution_count": null,
   "metadata": {
    "cellView": "form",
    "execution": {}
   },
   "outputs": [],
   "source": [
    "# @title Plotting functions\n",
    "\n",
    "def plot_reconstructions(original_images, reconstructed_images, N_train_data, epochs):\n",
    "    fig = plt.figure(figsize=(10, 5))\n",
    "    rows, cols = 2, 6\n",
    "    image_count = 0\n",
    "    for i in range(1, rows * cols, 2):\n",
    "        fig.add_subplot(rows, cols, i)\n",
    "        plt.imshow(np.squeeze(original_images[image_count]), cmap='gray')\n",
    "        plt.title(f\"Original {image_count+1}\", fontsize=8)\n",
    "        plt.axis('off')\n",
    "\n",
    "        fig.add_subplot(rows, cols, i + 1)\n",
    "        plt.imshow(np.squeeze(reconstructed_images[image_count]), cmap='gray')\n",
    "        plt.title(f\"Reconstructed {image_count+1}\", fontsize=8)\n",
    "        plt.axis('off')\n",
    "\n",
    "        image_count += 1\n",
    "    fig.suptitle(f\"Training for {epochs} epochs with {N_train_data} points\")\n",
    "    plt.show()\n",
    "\n",
    "def cost_classification(output, target):\n",
    "    criterion = nn.CrossEntropyLoss()\n",
    "    target = target.to(torch.int64)\n",
    "    cost = criterion(output, target)\n",
    "    return cost\n",
    "\n",
    "def cost_regression(output, target):\n",
    "    criterion = nn.MSELoss()\n",
    "    cost = criterion(output, target)\n",
    "    return cost\n",
    "\n",
    "def cost_autoencoder(output, target):\n",
    "    criterion = nn.MSELoss()\n",
    "    output_flat = output.view(output.size(0), -1)\n",
    "    target_flat = target.view(target.size(0), -1)\n",
    "    cost = criterion(output_flat, target_flat)\n",
    "    return cost"
   ]
  },
  {
   "cell_type": "code",
   "execution_count": null,
   "metadata": {
    "cellView": "form",
    "execution": {}
   },
   "outputs": [],
   "source": [
    "# @title Data retrieval\n",
    "\n",
    "import os\n",
    "import requests\n",
    "import hashlib\n",
    "import zipfile\n",
    "\n",
    "def download_file(fname, url, expected_md5):\n",
    "    \"\"\"\n",
    "    Downloads a file from the given URL and saves it locally.\n",
    "    \"\"\"\n",
    "    if not os.path.isfile(fname):\n",
    "        try:\n",
    "            r = requests.get(url)\n",
    "        except requests.ConnectionError:\n",
    "            print(\"!!! Failed to download data !!!\")\n",
    "            return\n",
    "        if r.status_code != requests.codes.ok:\n",
    "            print(\"!!! Failed to download data !!!\")\n",
    "            return\n",
    "        if hashlib.md5(r.content).hexdigest() != expected_md5:\n",
    "            print(\"!!! Data download appears corrupted !!!\")\n",
    "            return\n",
    "        with open(fname, \"wb\") as fid:\n",
    "            fid.write(r.content)\n",
    "\n",
    "def extract_zip(zip_fname):\n",
    "    \"\"\"\n",
    "    Extracts a ZIP file to the current directory.\n",
    "    \"\"\"\n",
    "    with zipfile.ZipFile(zip_fname, 'r') as zip_ref:\n",
    "        zip_ref.extractall(\".\")\n",
    "\n",
    "# Details for the zip files to be downloaded and extracted\n",
    "zip_files = [\n",
    "    {\n",
    "        \"fname\": \"models.zip\",\n",
    "        \"url\": \"https://osf.io/dms2n/download\",\n",
    "        \"expected_md5\": \"2c88be8804ae546da6c6985226bc98e7\"\n",
    "    }\n",
    "]\n",
    "\n",
    "# Process zip files: download and extract\n",
    "for zip_file in zip_files:\n",
    "    download_file(zip_file[\"fname\"], zip_file[\"url\"], zip_file[\"expected_md5\"])\n",
    "    extract_zip(zip_file[\"fname\"])"
   ]
  },
  {
   "cell_type": "code",
   "execution_count": null,
   "metadata": {
    "cellView": "form",
    "execution": {},
    "executionInfo": {
     "elapsed": 2,
     "status": "ok",
     "timestamp": 1718208800782,
     "user": {
      "displayName": "Leila Wehbe",
      "userId": "09974289515413278669"
     },
     "user_tz": 240
    }
   },
   "outputs": [],
   "source": [
    "# @title Set random seed\n",
    "\n",
    "def set_seed(seed=None, seed_torch=True):\n",
    "  if seed is None:\n",
    "    seed = np.random.choice(2 ** 32)\n",
    "  random.seed(seed)\n",
    "  np.random.seed(seed)\n",
    "  if seed_torch:\n",
    "    torch.manual_seed(seed)\n",
    "    torch.cuda.manual_seed_all(seed)\n",
    "    torch.cuda.manual_seed(seed)\n",
    "    torch.backends.cudnn.benchmark = False\n",
    "    torch.backends.cudnn.deterministic = True\n",
    "\n",
    "set_seed(seed = 42)"
   ]
  },
  {
   "cell_type": "markdown",
   "metadata": {
    "execution": {}
   },
   "source": [
    "---\n",
    "# Section 1: Formalize different tasks as cost functions and train the same architecture to achieve these tasks"
   ]
  },
  {
   "cell_type": "code",
   "execution_count": null,
   "metadata": {
    "cellView": "form",
    "execution": {}
   },
   "outputs": [],
   "source": [
    "# @title Tutorial Video\n",
    "\n",
    "from ipywidgets import widgets\n",
    "from IPython.display import YouTubeVideo\n",
    "from IPython.display import IFrame\n",
    "from IPython.display import display\n",
    "\n",
    "\n",
    "class PlayVideo(IFrame):\n",
    "  def __init__(self, id, source, page=1, width=400, height=300, **kwargs):\n",
    "    self.id = id\n",
    "    if source == 'Bilibili':\n",
    "      src = f'https://player.bilibili.com/player.html?bvid={id}&page={page}'\n",
    "    elif source == 'Osf':\n",
    "      src = f'https://mfr.ca-1.osf.io/render?url=https://osf.io/download/{id}/?direct%26mode=render'\n",
    "    super(PlayVideo, self).__init__(src, width, height, **kwargs)\n",
    "\n",
    "\n",
    "def display_videos(video_ids, W=400, H=300, fs=1):\n",
    "  tab_contents = []\n",
    "  for i, video_id in enumerate(video_ids):\n",
    "    out = widgets.Output()\n",
    "    with out:\n",
    "      if video_ids[i][0] == 'Youtube':\n",
    "        video = YouTubeVideo(id=video_ids[i][1], width=W,\n",
    "                             height=H, fs=fs, rel=0)\n",
    "        print(f'Video available at https://youtube.com/watch?v={video.id}')\n",
    "      else:\n",
    "        video = PlayVideo(id=video_ids[i][1], source=video_ids[i][0], width=W,\n",
    "                          height=H, fs=fs, autoplay=False)\n",
    "        if video_ids[i][0] == 'Bilibili':\n",
    "          print(f'Video available at https://www.bilibili.com/video/{video.id}')\n",
    "        elif video_ids[i][0] == 'Osf':\n",
    "          print(f'Video available at https://osf.io/{video.id}')\n",
    "      display(video)\n",
    "    tab_contents.append(out)\n",
    "  return tab_contents\n",
    "\n",
    "\n",
    "video_ids = [('Youtube', 'HxovwyQTi0o'), ('Bilibili', 'BV1Ri421e7mR')]\n",
    "tab_contents = display_videos(video_ids, W=854, H=480)\n",
    "tabs = widgets.Tab()\n",
    "tabs.children = tab_contents\n",
    "for i in range(len(tab_contents)):\n",
    "  tabs.set_title(i, video_ids[i][0])\n",
    "display(tabs)"
   ]
  },
  {
   "cell_type": "code",
   "execution_count": null,
   "metadata": {
    "cellView": "form",
    "execution": {}
   },
   "outputs": [],
   "source": [
    "# @title Submit your feedback\n",
    "content_review(f\"{feedback_prefix}_Tutorial_Video\")"
   ]
  },
  {
   "cell_type": "markdown",
   "metadata": {
    "execution": {}
   },
   "source": [
    "## Review of CNNs"
   ]
  },
  {
   "cell_type": "markdown",
   "metadata": {
    "execution": {}
   },
   "source": [
    "In this tutorial, we will use a simple Convolutional Neural Network (CNN) architecture and a subset of the MNIST dataset, which consists of images of handwritten digits. We will use the same base architecture and training datasets to accomplish different tasks by creating various output layers and training them with different objective functions.\n",
    "\n",
    "A Convolutional Neural Network (CNN) is a deep learning algorithm designed to process input images, assign importance (learnable weights and biases) to various features within the images, and distinguish between different objects. Unlike pure feedforward neural networks that flatten the input into a one-dimensional array, CNNs preserve the spatial hierarchy of the input images. This makes them particularly effective for processing data with a grid-like structure, such as images. A CNN architecture is engineered to automatically and adaptively learn spatial hierarchies of features, ranging from low-level to high-level patterns.\n",
    "\n",
    "The core components of CNNs are convolutional layers, pooling layers, and fully connected layers. A schematic of a CNN is shown below.\n",
    "\n",
    "- Convolutional layers apply convolution operations to the input and pass the results to the next layer. This enables the network to be deep with fewer parameters, enhancing the learning of feature hierarchies.\n",
    "- Pooling layers reduce the dimensions of the data by combining the outputs of neuron clusters at one layer into a single neuron in the next layer.\n",
    "- Fully connected layers connect every neuron in one layer to every neuron in the next layer and are typically used at the end of the network to make class predictions.\n",
    "\n",
    "Due to their ability to capture the spatial and temporal dependencies in images through the application of relevant filters, CNNs are extensively used in image and video recognition, recommender systems, image classification, medical image analysis, and natural language processing."
   ]
  },
  {
   "cell_type": "markdown",
   "metadata": {
    "execution": {}
   },
   "source": [
    "![LeNet.png](data:image/png;base64,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)"
   ]
  },
  {
   "cell_type": "markdown",
   "metadata": {
    "execution": {}
   },
   "source": [
    "Here we'll replicate the structure of LeNet up to the fully connected `fc2` layer. The latent representation in this layer is 84 dimensional. We'll add various decoder heads and bottleneck layers to this core, train on different objectives, and see how the representations change."
   ]
  },
  {
   "cell_type": "code",
   "execution_count": null,
   "metadata": {
    "execution": {},
    "executionInfo": {
     "elapsed": 3,
     "status": "ok",
     "timestamp": 1718208800783,
     "user": {
      "displayName": "Leila Wehbe",
      "userId": "09974289515413278669"
     },
     "user_tz": 240
    }
   },
   "outputs": [],
   "source": [
    "LATENT_DIM = 84\n",
    "\n",
    "class ConvNeuralNet(nn.Module):\n",
    "\n",
    "    def __init__(self):\n",
    "        super(ConvNeuralNet, self).__init__()\n",
    "        self.conv1 = nn.Conv2d(1, 6, 5)\n",
    "        self.conv2 = nn.Conv2d(6, 16, 5)\n",
    "        self.fc1 = nn.Linear(16 * 5 * 5, 120)\n",
    "        self.fc2 = nn.Linear(120, LATENT_DIM)\n",
    "\n",
    "    def forward(self, x):\n",
    "        x = F.max_pool2d(F.relu(self.conv1(x)), (2, 2))\n",
    "        x = F.max_pool2d(F.relu(self.conv2(x)), 2)\n",
    "        x = torch.flatten(x, 1)\n",
    "        x = F.relu(self.fc1(x))\n",
    "        x = F.relu(self.fc2(x))\n",
    "        return x"
   ]
  },
  {
   "cell_type": "markdown",
   "metadata": {
    "execution": {}
   },
   "source": [
    "### Preparing the data"
   ]
  },
  {
   "cell_type": "code",
   "execution_count": null,
   "metadata": {
    "execution": {},
    "executionInfo": {
     "elapsed": 4069,
     "status": "ok",
     "timestamp": 1718208804850,
     "user": {
      "displayName": "Leila Wehbe",
      "userId": "09974289515413278669"
     },
     "user_tz": 240
    }
   },
   "outputs": [],
   "source": [
    "with contextlib.redirect_stdout(io.StringIO()):\n",
    "\n",
    "    # Define a transformation pipeline for the MNIST dataset\n",
    "    mnist_transform = transforms.Compose([\n",
    "        transforms.Resize((32, 32)),  # Resize the images to 32x32 pixels\n",
    "        transforms.ToTensor(),  # Convert images to PyTorch tensors\n",
    "        transforms.Normalize(mean=(0.1307,), std=(0.3081,))  # Normalize the images with mean and standard deviation\n",
    "    ])\n",
    "\n",
    "    # Load the MNIST training dataset with transformations applied\n",
    "    train_val_dataset = torchvision.datasets.MNIST(\n",
    "        root='./data',  # Directory to store/load the data\n",
    "        train=True,  # Specify to load the training set\n",
    "        transform=mnist_transform,  # Apply the transformation pipeline defined earlier\n",
    "        download=True  # Download the dataset if it's not already present\n",
    "    )\n",
    "\n",
    "    # Load the MNIST test dataset with transformations applied\n",
    "    test_dataset = torchvision.datasets.MNIST(\n",
    "        root='./data',  # Directory to store/load the data\n",
    "        train=False,  # Specify to load the test set\n",
    "        transform=mnist_transform,  # Apply the transformation pipeline defined earlier\n",
    "        download=True  # Download the dataset if it's not already present\n",
    "    )\n",
    "\n",
    "    # Split the training dataset into training and validation sets\n",
    "    train_size = int(0.9 * len(train_val_dataset))  # Calculate the size of the training set (90% of the original)\n",
    "    val_size = len(train_val_dataset) - train_size  # Calculate the size of the validation set (remaining 10%)\n",
    "    train_dataset, val_dataset = torch.utils.data.random_split(\n",
    "        dataset=train_val_dataset,  # Original training dataset to split\n",
    "        lengths=[train_size, val_size]  # Lengths of the resulting splits\n",
    "    )\n",
    "\n",
    "    # Split the test dataset into two halves: original and transfer sets\n",
    "    test_size_original = int(0.5 * len(test_dataset))  # Calculate the size of the original test set (50% of the original)\n",
    "    test_size_transfer = len(test_dataset) - test_size_original  # Calculate the size of the transfer test set (remaining 50%)\n",
    "    test_dataset_original, test_dataset_transfer = torch.utils.data.random_split(\n",
    "        dataset=test_dataset,  # Original test dataset to split\n",
    "        lengths=[test_size_original, test_size_transfer]  # Lengths of the resulting splits\n",
    "    )\n",
    "\n",
    "    # Display the training dataset object\n",
    "    train_dataset"
   ]
  },
  {
   "cell_type": "markdown",
   "metadata": {
    "execution": {}
   },
   "source": [
    "### Visualizing some samples from the dataset"
   ]
  },
  {
   "cell_type": "code",
   "execution_count": null,
   "metadata": {
    "execution": {},
    "executionInfo": {
     "elapsed": 3195,
     "status": "ok",
     "timestamp": 1718208808042,
     "user": {
      "displayName": "Leila Wehbe",
      "userId": "09974289515413278669"
     },
     "user_tz": 240
    }
   },
   "outputs": [],
   "source": [
    "# Retrieve the class names (labels) from the training dataset\n",
    "class_names = train_dataset.dataset.classes\n",
    "\n",
    "# Set a manual seed for PyTorch to ensure reproducibility of results\n",
    "torch.manual_seed(10)\n",
    "\n",
    "# Create a figure for displaying the images\n",
    "fig = plt.figure(figsize=(8, 4))  # Set the figure size to 8x4 inches\n",
    "rows, cols = 2, 5  # Define the number of rows and columns for the subplot grid\n",
    "\n",
    "# Define the mean and standard deviation used for normalization\n",
    "mean = 0.1307\n",
    "std = 0.3081\n",
    "\n",
    "# Loop to display a grid of sample images from the training dataset\n",
    "for i in range(1, (rows*cols) + 1):\n",
    "    rand_ind = torch.randint(0, len(train_dataset), size=[1]).item()\n",
    "    img, label = train_dataset[rand_ind]\n",
    "    img_tensor = img * std + mean\n",
    "    img_tensor = img_tensor / 2 + 0.5\n",
    "    img_np = np.squeeze(img_tensor.numpy())\n",
    "    fig.add_subplot(rows, cols, i)\n",
    "    plt.imshow(img_np, cmap='gray')\n",
    "    plt.title(f\"{class_names[label]}\")\n",
    "    plt.axis(False)\n",
    "    plt.tight_layout()"
   ]
  },
  {
   "cell_type": "markdown",
   "metadata": {
    "execution": {}
   },
   "source": [
    "### Preparing the data loaders"
   ]
  },
  {
   "cell_type": "code",
   "execution_count": null,
   "metadata": {
    "execution": {},
    "executionInfo": {
     "elapsed": 7,
     "status": "ok",
     "timestamp": 1718208808042,
     "user": {
      "displayName": "Leila Wehbe",
      "userId": "09974289515413278669"
     },
     "user_tz": 240
    }
   },
   "outputs": [],
   "source": [
    "batch_size = 32\n",
    "\n",
    "# Create a DataLoader for the training dataset\n",
    "train_loader = torch.utils.data.DataLoader(\n",
    "    dataset=train_dataset,  # The dataset to load data from\n",
    "    batch_size=batch_size,  # The number of samples per batch\n",
    "    shuffle=True  # Shuffle the data at every epoch\n",
    ")\n",
    "\n",
    "# Create a DataLoader for the validation dataset\n",
    "val_loader = torch.utils.data.DataLoader(\n",
    "    dataset=val_dataset,  # The dataset to load data from\n",
    "    batch_size=batch_size,  # The number of samples per batch\n",
    "    shuffle=True  # Shuffle the data at every epoch\n",
    ")\n",
    "\n",
    "# Create a DataLoader for the original test dataset\n",
    "test_loader_original = torch.utils.data.DataLoader(\n",
    "    dataset=test_dataset_original,  # The dataset to load data from\n",
    "    batch_size=batch_size,  # The number of samples per batch\n",
    "    shuffle=True  # Shuffle the data at every epoch\n",
    ")\n",
    "\n",
    "# Create a DataLoader for the transfer test dataset\n",
    "test_loader_transfer = torch.utils.data.DataLoader(\n",
    "    dataset=test_dataset_transfer,  # The dataset to load data from\n",
    "    batch_size=batch_size,  # The number of samples per batch\n",
    "    shuffle=True  # Shuffle the data at every epoch\n",
    ")"
   ]
  },
  {
   "cell_type": "code",
   "execution_count": null,
   "metadata": {
    "execution": {},
    "executionInfo": {
     "elapsed": 6,
     "status": "ok",
     "timestamp": 1718208808042,
     "user": {
      "displayName": "Leila Wehbe",
      "userId": "09974289515413278669"
     },
     "user_tz": 240
    }
   },
   "outputs": [],
   "source": [
    "# Defining epochs and batch size\n",
    "epochs_max = 20\n",
    "batch_size = 32"
   ]
  },
  {
   "cell_type": "markdown",
   "metadata": {
    "execution": {}
   },
   "source": [
    "## Section 1.1: Classification\n",
    "\n",
    "In this task, we'll train the CNN to classify digits into one of 10 different classes."
   ]
  },
  {
   "cell_type": "markdown",
   "metadata": {
    "execution": {}
   },
   "source": [
    "### Code exercise 1: Cost Function"
   ]
  },
  {
   "cell_type": "markdown",
   "metadata": {
    "execution": {}
   },
   "source": [
    "#### Training\n",
    "\n",
    "In this task, we aim to classify hand-written digits from images, where each digit ranges from 0 to 9. To achieve this, we add a classification head to the CNN.\n",
    "\n",
    "We introduce an output layer Y with 10 nodes, each representing one of the possible digits. The output layer uses the softmax activation function to produce probability scores for each class:\n",
    "\n",
    "$$p(y=j|x) = \\frac{e^{\\mu_j}}{\\sum_{k=1}^{10} e^{\\mu_k}}$$\n",
    "\n",
    "where $\\mu_j = \\text{CNN}_j(x)$ is the output of the $j^{th}$ node in the output layer."
   ]
  },
  {
   "cell_type": "code",
   "execution_count": null,
   "metadata": {
    "execution": {},
    "executionInfo": {
     "elapsed": 6,
     "status": "ok",
     "timestamp": 1718208808042,
     "user": {
      "displayName": "Leila Wehbe",
      "userId": "09974289515413278669"
     },
     "user_tz": 240
    }
   },
   "outputs": [],
   "source": [
    "class ClassificationOutputLayer(nn.Module):\n",
    "\n",
    "    def __init__(self):\n",
    "        super(ClassificationOutputLayer, self).__init__()\n",
    "        self.fc = nn.Linear(LATENT_DIM, 10)\n",
    "\n",
    "    def forward(self, x):\n",
    "        x = F.softmax(self.fc(x), dim=1)\n",
    "\n",
    "        return x"
   ]
  },
  {
   "cell_type": "markdown",
   "metadata": {
    "execution": {}
   },
   "source": [
    "Thus, the network outputs a probability distribution over the 10 possible classes for each input image.\n",
    "\n",
    "#### Cost Function\n",
    "\n",
    "To train the network effectively, we implement a cost function based on the cross-entropy. The loss function is:\n",
    "\n",
    "$$\\mathcal{L} = -\\frac{1}{N} \\sum_{i=1}^{N} \\sum_{j=1}^{10} y_{ij} \\log(p(y_{ij}|x_i))$$\n",
    "\n",
    "where:\n",
    "\n",
    "* $N$ is the number of samples\n",
    "* $y_{ij}$ is the true label for the $i^{th}$ sample, encoded as a one-hot vector\n",
    "* $p(y_{ij}|x_i)$ is the predicted probability of the $j^{th}$ class for the $i^{th}$ sample."
   ]
  },
  {
   "cell_type": "code",
   "execution_count": null,
   "metadata": {
    "execution": {},
    "executionInfo": {
     "elapsed": 7,
     "status": "ok",
     "timestamp": 1718208808043,
     "user": {
      "displayName": "Leila Wehbe",
      "userId": "09974289515413278669"
     },
     "user_tz": 240
    }
   },
   "outputs": [],
   "source": [
    "############################################################\n",
    "raise NotImplementedError(\"Student exercise: Calculate the loss using the criterion\")\n",
    "############################################################\n",
    "\n",
    "def cost_classification(output, target):\n",
    "    criterion = nn.CrossEntropyLoss()\n",
    "    target = target.to(torch.int64)\n",
    "    cost = ...\n",
    "    return cost"
   ]
  },
  {
   "cell_type": "code",
   "execution_count": null,
   "metadata": {
    "execution": {},
    "executionInfo": {
     "elapsed": 6,
     "status": "ok",
     "timestamp": 1718208808043,
     "user": {
      "displayName": "Leila Wehbe",
      "userId": "09974289515413278669"
     },
     "user_tz": 240
    }
   },
   "outputs": [],
   "source": [
    "# to_remove solution\n",
    "\n",
    "def cost_classification(output, target):\n",
    "    criterion = nn.CrossEntropyLoss()\n",
    "    target = target.to(torch.int64)\n",
    "    cost = criterion(output, target)\n",
    "    return cost"
   ]
  },
  {
   "cell_type": "markdown",
   "metadata": {
    "execution": {}
   },
   "source": [
    "By implementing this cost function, the model is trained to minimize the difference between the predicted probability distributions and the actual one-hot encoded targets."
   ]
  },
  {
   "cell_type": "code",
   "execution_count": null,
   "metadata": {
    "cellView": "form",
    "execution": {}
   },
   "outputs": [],
   "source": [
    "# @title Submit your feedback\n",
    "content_review(f\"{feedback_prefix}_Cost_Function\")"
   ]
  },
  {
   "cell_type": "markdown",
   "metadata": {
    "execution": {}
   },
   "source": [
    "### Defining the model\n",
    "\n",
    "We define a CNN model with a classification head to classify the digits."
   ]
  },
  {
   "cell_type": "code",
   "execution_count": null,
   "metadata": {
    "execution": {},
    "executionInfo": {
     "elapsed": 6,
     "status": "ok",
     "timestamp": 1718208808043,
     "user": {
      "displayName": "Leila Wehbe",
      "userId": "09974289515413278669"
     },
     "user_tz": 240
    }
   },
   "outputs": [],
   "source": [
    "class ClassificationConvNet(nn.Module):\n",
    "\n",
    "    def __init__(self, ConvNet, Output):\n",
    "        super(ClassificationConvNet, self).__init__()\n",
    "        self.ConvNet = ConvNet\n",
    "        self.Output = Output\n",
    "\n",
    "    def forward(self, x):\n",
    "        conv_intermediate = self.ConvNet(x)\n",
    "        output = self.Output(conv_intermediate)\n",
    "\n",
    "        return output"
   ]
  },
  {
   "cell_type": "markdown",
   "metadata": {
    "execution": {}
   },
   "source": [
    "Here, ConvNet represents the convolutional part of the network responsible for feature extraction, while Output is the classification output layer described earlier. \n",
    "\n",
    "### Training on varying datapoints\n",
    "\n",
    "We conduct training experiments with this model on varying dataset sizes (10, 100, 1000, 10000). This approach helps us understand how the model's performance scales with the amount of training data available (sample complexity). Larger datasets typically improve the model's ability to generalize to the test set."
   ]
  },
  {
   "cell_type": "code",
   "execution_count": null,
   "metadata": {
    "execution": {},
    "executionInfo": {
     "elapsed": 160722,
     "status": "ok",
     "timestamp": 1718208968759,
     "user": {
      "displayName": "Leila Wehbe",
      "userId": "09974289515413278669"
     },
     "user_tz": 240
    }
   },
   "outputs": [],
   "source": [
    "set_seed(42)\n",
    "\n",
    "# Usage example for classification task\n",
    "training_points = np.array([10, 100, 1000, 10000])\n",
    "task_name_classification = \"classification\"\n",
    "acc_flag_classification = True\n",
    "triplet_flag_classification = False\n",
    "epochs_max_classification = 10\n",
    "\n",
    "my_epoch_Classification = []\n",
    "my_train_cost_Classification = [] # Add a list to store training costs\n",
    "my_val_cost_Classification = [] # Add a list to store val costs\n",
    "my_test_cost_Classification = [] # Add a list to store test costs\n",
    "conf_matrices = [] # List to store confusion matrices\n",
    "\n",
    "for N_train_data in training_points:\n",
    "    model = ClassificationConvNet(ConvNeuralNet(), ClassificationOutputLayer()).to(device)\n",
    "\n",
    "    sampled_train_loader, sampled_val_loader = get_random_sample_train_val(train_dataset, val_dataset, batch_size, N_train_data)\n",
    "    optimizer = torch.optim.Adam(params=model.parameters(), lr=0.001)\n",
    "\n",
    "    # Update the train function call to get training costs\n",
    "    my_epoch, my_train_cost, my_val_cost, my_test_cost = train(\n",
    "        model,\n",
    "        sampled_train_loader,\n",
    "        sampled_val_loader,\n",
    "        test_loader_original,\n",
    "        cost_classification,\n",
    "        optimizer,\n",
    "        epochs_max_classification,\n",
    "        acc_flag_classification,\n",
    "        triplet_flag_classification,\n",
    "        task_name_classification,\n",
    "        N_train_data\n",
    "    )\n",
    "\n",
    "    my_epoch_Classification.append(my_epoch)\n",
    "    my_train_cost_Classification.append(my_train_cost)\n",
    "    my_val_cost_Classification.append(my_val_cost)\n",
    "    my_test_cost_Classification.append(my_test_cost)\n",
    "\n",
    "    # Compute predictions and confusion matrix for the validation set\n",
    "    all_preds = []\n",
    "    all_labels = []\n",
    "    model.eval()\n",
    "    with torch.no_grad():\n",
    "        for batch_idx, (X, y) in enumerate(sampled_val_loader):\n",
    "            X, y = X.to(device), y.to(device)\n",
    "            predictions = model(X)\n",
    "            _, predicted_classes = torch.max(predictions, 1)\n",
    "            all_preds.extend(predicted_classes.cpu().numpy())\n",
    "            all_labels.extend(y.cpu().numpy())\n",
    "\n",
    "    # Compute confusion matrix\n",
    "    conf_matrix = confusion_matrix(all_labels, all_preds)\n",
    "    conf_matrices.append((N_train_data, conf_matrix))  # Store the confusion matrix with the number of training points"
   ]
  },
  {
   "cell_type": "markdown",
   "metadata": {
    "execution": {}
   },
   "source": [
    "### Test performance\n",
    "\n",
    "The test performance of the model is evaluated by plotting the test cost across training epochs for different sample sizes. "
   ]
  },
  {
   "cell_type": "code",
   "execution_count": null,
   "metadata": {
    "execution": {},
    "executionInfo": {
     "elapsed": 1975,
     "status": "ok",
     "timestamp": 1718210554892,
     "user": {
      "displayName": "Leila Wehbe",
      "userId": "09974289515413278669"
     },
     "user_tz": 240
    }
   },
   "outputs": [],
   "source": [
    "# Create a single plot for all training costs with a logarithmic scale\n",
    "with plt.xkcd():\n",
    "    plt.figure(figsize=(8, 6))  # Set the figure size\n",
    "\n",
    "    for i, n in enumerate(training_points):\n",
    "        epochs = my_epoch_Classification[i]\n",
    "        test_cost = my_test_cost_Classification[i]\n",
    "        plt.plot(epochs, test_cost, marker='o', linestyle='-', label=f'{n} training points')\n",
    "\n",
    "    plt.xlabel('Epochs')\n",
    "    plt.ylabel('Test cost (log scale)')\n",
    "    plt.title('Test cost over epochs for different training points (classification)')\n",
    "    plt.yscale('log')\n",
    "    plt.legend()\n",
    "    plt.grid(True)\n",
    "    plt.show()"
   ]
  },
  {
   "cell_type": "markdown",
   "metadata": {
    "execution": {}
   },
   "source": [
    "### Discussion point 1"
   ]
  },
  {
   "cell_type": "markdown",
   "metadata": {
    "execution": {}
   },
   "source": [
    "Now that you have trained your network with different sample sizes, plot the performance on the test dataset for each network across epochs. How does sample size interact with number of training epochs?"
   ]
  },
  {
   "cell_type": "code",
   "execution_count": null,
   "metadata": {
    "execution": {}
   },
   "outputs": [],
   "source": [
    "# to_remove explanation\n",
    "\"\"\"\n",
    "At small sample sizes, the model learns very little. The limited data does not provide enough variability or information for the model to learn effectively.\n",
    "\n",
    "At sample sizes of 1000 Points, there is a noticeable improvement in the model's performance.\n",
    "\n",
    "At the largest sample size, it achieves good performance within a few epochs. Here, an epoch involves the model seeing 10,000 points, which significantly accelerates learning\n",
    "and leads to more accurate results due to the greater amount of data and variability provided.\n",
    "\"\"\""
   ]
  },
  {
   "cell_type": "code",
   "execution_count": null,
   "metadata": {
    "cellView": "form",
    "execution": {}
   },
   "outputs": [],
   "source": [
    "# @title Submit your feedback\n",
    "content_review(f\"{feedback_prefix}_Discussion_Point_1\")"
   ]
  },
  {
   "cell_type": "markdown",
   "metadata": {
    "execution": {}
   },
   "source": [
    "## Section 1.2: Regression\n",
    "\n",
    "After examining the use of network architecture for digit classification, we now transition to a regression task using the same architecture. We are going to pick a very simple output task that is not directly related to the classification or the identification of the digits. In this task, given an image of a handwritten digit, our objective is to predict the number of pixels that are 'ON' (i.e., pixel values greater than 0.5). This can be achieved by the network performing operations similar to the simple addition of pixels (though it might still take time and data for the network to find this simple solution). Thus, we don't expect that the network will learn rich representations that are useful for other tasks, such as classification.\n",
    "\n",
    "### Task objective\n",
    "\n",
    "This regression task, while relatively simple as it involves summing pixel values, serves to illustrate how well a Convolutional Neural Network (CNN) can adapt to learning a continuous output instead of discrete class labels. Note that we'll regress the normalized images.\n",
    "\n",
    "### Output layer\n",
    "\n",
    "The output layer for this regression task consists of a single node that predicts the number of 'ON' pixels in the image. This necessitates a different cost function compared to the classification task."
   ]
  },
  {
   "cell_type": "code",
   "execution_count": null,
   "metadata": {
    "execution": {},
    "executionInfo": {
     "elapsed": 4,
     "status": "ok",
     "timestamp": 1718208969924,
     "user": {
      "displayName": "Leila Wehbe",
      "userId": "09974289515413278669"
     },
     "user_tz": 240
    }
   },
   "outputs": [],
   "source": [
    "class RegressionOutputLayer(nn.Module):\n",
    "\n",
    "    def __init__(self):\n",
    "        super(RegressionOutputLayer, self).__init__()\n",
    "        self.fc = nn.Linear(LATENT_DIM, 1)\n",
    "\n",
    "    def forward(self, x):\n",
    "        x = self.fc(x)\n",
    "        return x"
   ]
  },
  {
   "cell_type": "markdown",
   "metadata": {
    "execution": {}
   },
   "source": [
    "Here, the `RegressionOutputLayer` outputs a single continuous value.\n",
    "\n",
    "### Code exercise 2: Cost function\n",
    "\n",
    "Here we implement the mean squared error loss, which measures the average squared difference between the predicted and actual values:\n",
    "\n",
    "$$\\mathcal{L} = \\frac{1}{N} \\sum_{i=1}^{N} (y_i - \\mu_i)^2$$\n",
    "\n",
    "where:\n",
    "\n",
    "- $N$ is the number of samples\n",
    "- $y_i$ is the true label for the $i^{th}$ sample, the number of on pixels\n",
    "- $\\mu_i = \\text{CNN}(x_i)$ is the output of the model for the $i^{th}$ sample"
   ]
  },
  {
   "cell_type": "code",
   "execution_count": null,
   "metadata": {
    "execution": {},
    "executionInfo": {
     "elapsed": 4,
     "status": "ok",
     "timestamp": 1718208969924,
     "user": {
      "displayName": "Leila Wehbe",
      "userId": "09974289515413278669"
     },
     "user_tz": 240
    }
   },
   "outputs": [],
   "source": [
    "############################################################\n",
    "# Hint for criterion: The criterion used for regression tasks is designed\n",
    "# to minimize the average squared difference between predicted and actual values.\n",
    "# Hint for cost: To compute the cost, apply the criterion function to\n",
    "# the predicted output and the actual target values, which will return the mean squared error loss.\n",
    "raise NotImplementedError(\"Student exercise\")\n",
    "############################################################\n",
    "\n",
    "def cost_regression(output, target):\n",
    "    criterion = ...\n",
    "    cost = ...\n",
    "    return cost"
   ]
  },
  {
   "cell_type": "code",
   "execution_count": null,
   "metadata": {
    "execution": {},
    "executionInfo": {
     "elapsed": 4,
     "status": "ok",
     "timestamp": 1718208969925,
     "user": {
      "displayName": "Leila Wehbe",
      "userId": "09974289515413278669"
     },
     "user_tz": 240
    }
   },
   "outputs": [],
   "source": [
    "# to_remove solution\n",
    "\n",
    "def cost_regression(output, target):\n",
    "    criterion = nn.MSELoss()\n",
    "    cost = criterion(output, target)\n",
    "    return cost"
   ]
  },
  {
   "cell_type": "code",
   "execution_count": null,
   "metadata": {
    "cellView": "form",
    "execution": {}
   },
   "outputs": [],
   "source": [
    "# @title Submit your feedback\n",
    "content_review(f\"{feedback_prefix}_Cost_Function_2\")"
   ]
  },
  {
   "cell_type": "markdown",
   "metadata": {
    "execution": {}
   },
   "source": [
    "This cost function computes the MSE loss between the predicted number of 'ON' pixels and the actual count, guiding the model to make accurate continuous predictions.\n",
    "\n",
    "### Training\n",
    "\n",
    "We train the network on varying dataset sizes (10, 100, 1000, 10000) to observe the impact of sample size on the model's performance."
   ]
  },
  {
   "cell_type": "code",
   "execution_count": null,
   "metadata": {
    "execution": {},
    "executionInfo": {
     "elapsed": 183,
     "status": "ok",
     "timestamp": 1718208970104,
     "user": {
      "displayName": "Leila Wehbe",
      "userId": "09974289515413278669"
     },
     "user_tz": 240
    }
   },
   "outputs": [],
   "source": [
    "class RegressionConvNet(nn.Module):\n",
    "\n",
    "    def __init__(self, ConvNet, Output):\n",
    "        super(RegressionConvNet, self).__init__()\n",
    "        self.ConvNet = ConvNet\n",
    "        self.Output = Output\n",
    "\n",
    "    def forward(self, x):\n",
    "        conv_intermediate = self.ConvNet(x)\n",
    "        output = self.Output(conv_intermediate)\n",
    "\n",
    "        return output"
   ]
  },
  {
   "cell_type": "markdown",
   "metadata": {
    "execution": {}
   },
   "source": [
    "The RegressionConvNet integrates the convolutional feature extraction network with the regression output layer.\n",
    "\n",
    "### Dataset preparation\n",
    "\n",
    "We adapt the MNIST dataset for the regression task by computing the number of 'ON' pixels for each image."
   ]
  },
  {
   "cell_type": "code",
   "execution_count": null,
   "metadata": {
    "execution": {},
    "executionInfo": {
     "elapsed": 6,
     "status": "ok",
     "timestamp": 1718208970104,
     "user": {
      "displayName": "Leila Wehbe",
      "userId": "09974289515413278669"
     },
     "user_tz": 240
    }
   },
   "outputs": [],
   "source": [
    "class RegressionMNIST(torch.utils.data.Dataset):\n",
    "    def __init__(self, mnist_dataset):\n",
    "        self.dataset = mnist_dataset.dataset\n",
    "\n",
    "    def __getitem__(self, index):\n",
    "        X, _ = self.dataset[index]\n",
    "        updated_label = torch.sum(X > 0.0).float() / X.shape[-1] ** 2 - 0.1307\n",
    "        return X, updated_label\n",
    "\n",
    "    def __len__(self):\n",
    "        return len(self.dataset)"
   ]
  },
  {
   "cell_type": "markdown",
   "metadata": {
    "execution": {}
   },
   "source": [
    "This custom dataset class transforms the images and computes the target values required for regression.\n",
    "\n",
    "### Model training and evaluation\n",
    "\n",
    "We initialize datasets and data loaders for the regression task, and define functions to evaluate models across different sample sizes."
   ]
  },
  {
   "cell_type": "code",
   "execution_count": null,
   "metadata": {
    "execution": {},
    "executionInfo": {
     "elapsed": 199703,
     "status": "ok",
     "timestamp": 1718209169802,
     "user": {
      "displayName": "Leila Wehbe",
      "userId": "09974289515413278669"
     },
     "user_tz": 240
    }
   },
   "outputs": [],
   "source": [
    "set_seed(42)\n",
    "\n",
    "training_points = np.array([10, 100, 1000, 10000])\n",
    "task_name_regression = \"regression\"\n",
    "acc_flag = False\n",
    "triplet_flag = False\n",
    "epochs_max_regression = 10\n",
    "\n",
    "my_epoch_Regression = []\n",
    "my_train_cost_Regression = []\n",
    "my_val_cost_Regression = []\n",
    "my_test_cost_Regression = []\n",
    "\n",
    "train_dataset_regression = RegressionMNIST(train_dataset)\n",
    "val_dataset_regression = RegressionMNIST(val_dataset)\n",
    "test_dataset_original_regression = RegressionMNIST(test_dataset_original)\n",
    "test_loader_original_regression = torch.utils.data.DataLoader(dataset = test_dataset_original_regression,\n",
    "                                           batch_size = batch_size,\n",
    "                                           shuffle = True)\n",
    "\n",
    "for N_train_data in training_points:\n",
    "    model = RegressionConvNet(ConvNeuralNet(), RegressionOutputLayer()).to(device)\n",
    "\n",
    "    sampled_train_loader, sampled_val_loader = get_random_sample_train_val(train_dataset_regression, val_dataset_regression, batch_size, N_train_data)\n",
    "    optimizer = torch.optim.Adam(params=model.parameters(), lr=0.001)\n",
    "\n",
    "    my_epoch, my_train_cost, my_val_cost, my_test_cost = train(model, sampled_train_loader, sampled_val_loader, test_loader_original_regression, cost_regression, optimizer, epochs_max_regression, acc_flag, triplet_flag, task_name_regression, N_train_data)\n",
    "    my_epoch_Regression.append(my_epoch)\n",
    "    my_train_cost_Regression.append(my_train_cost)  # Append the training costs\n",
    "    my_val_cost_Regression.append(my_val_cost)  # Append the val costs\n",
    "    my_test_cost_Regression.append(my_test_cost)  # Append the test costs"
   ]
  },
  {
   "cell_type": "markdown",
   "metadata": {
    "execution": {}
   },
   "source": [
    "### Discussion point 2\n",
    "\n",
    "Now that you have trained your network with different sample sizes, plot the test performance for each network across epochs. How does sample size interact with the number of training epochs?"
   ]
  },
  {
   "cell_type": "code",
   "execution_count": null,
   "metadata": {
    "execution": {},
    "executionInfo": {
     "elapsed": 2488,
     "status": "ok",
     "timestamp": 1718210592452,
     "user": {
      "displayName": "Leila Wehbe",
      "userId": "09974289515413278669"
     },
     "user_tz": 240
    }
   },
   "outputs": [],
   "source": [
    "# Create a single plot for all test costs with a logarithmic scale\n",
    "\n",
    "with plt.xkcd():\n",
    "    plt.figure(figsize=(8, 6))  #Set the figure size\n",
    "\n",
    "    for i, n in enumerate(training_points):\n",
    "        epochs = my_epoch_Regression[i]\n",
    "        test_cost = my_test_cost_Regression[i]\n",
    "        plt.plot(epochs, test_cost, marker='o', linestyle='-', label=f'{n} training points')\n",
    "\n",
    "    plt.xlabel('Epochs')\n",
    "    plt.ylabel('Test cost (log scale)')\n",
    "    plt.title('Test cost over epochs for different training points (regression)')\n",
    "    plt.yscale('log')\n",
    "    plt.legend()\n",
    "    plt.grid(True)\n",
    "    plt.show()"
   ]
  },
  {
   "cell_type": "code",
   "execution_count": null,
   "metadata": {
    "execution": {}
   },
   "outputs": [],
   "source": [
    "#to_remove explanation\n",
    "\"\"\"\n",
    "This is a very easy task, and the model learns quickly, with a final error, below .005.\n",
    "Training is less stable for smaller batch sizes, but the model hovers around a similar\n",
    "baseline error value.\n",
    "\"\"\""
   ]
  },
  {
   "cell_type": "code",
   "execution_count": null,
   "metadata": {
    "cellView": "form",
    "execution": {}
   },
   "outputs": [],
   "source": [
    "# @title Submit your feedback\n",
    "content_review(f\"{feedback_prefix}_Discussion_Point_2\")"
   ]
  },
  {
   "cell_type": "markdown",
   "metadata": {
    "execution": {}
   },
   "source": [
    "## Section 1.3: Auto-encoder\n",
    "\n",
    "Now, we extend our network architecture to an unsupervised learning task. Specifically, we aim to develop an autoencoder capable of compressing an image of a handwritten digit into a lower-dimensional representation of size $M$ and then reconstructing the original image with minimal error.\n",
    "\n",
    "### Autoencoder architecture\n",
    "\n",
    "An autoencoder consists of three main components: an encoder, a bottleneck layer, and a decoder. The encoder compresses the input into a smaller representation, the bottleneck layer holds this compressed representation, and the decoder reconstructs the original image from this representation."
   ]
  },
  {
   "cell_type": "code",
   "execution_count": null,
   "metadata": {
    "execution": {},
    "executionInfo": {
     "elapsed": 6,
     "status": "ok",
     "timestamp": 1718209171272,
     "user": {
      "displayName": "Leila Wehbe",
      "userId": "09974289515413278669"
     },
     "user_tz": 240
    }
   },
   "outputs": [],
   "source": [
    "class Autoencoder(nn.Module):\n",
    "\n",
    "    def __init__(self, encoder, bottleneck, decoder):\n",
    "        super(Autoencoder, self).__init__()\n",
    "        self.encoder = encoder\n",
    "        self.bottleneck = bottleneck\n",
    "        self.decoder = decoder\n",
    "\n",
    "    def forward(self, x):\n",
    "        encoded = self.encoder(x)\n",
    "        bottlenecked = self.bottleneck(encoded)\n",
    "        decoded = self.decoder(bottlenecked)\n",
    "        return decoded"
   ]
  },
  {
   "cell_type": "markdown",
   "metadata": {
    "execution": {}
   },
   "source": [
    "In our architecture:\n",
    "\n",
    "* The encoder will be a CNN\n",
    "* The bottleneck layer will be a fully connected layer of size $M$.\n",
    "* The decoder layer will be a deconvolutional neural network, which does the operations of a CNN in reverse: it goes from a dense representation to a low-resolution image, and then upsamples that image in subsequence layers.\n",
    "\n",
    "### Code exercise 3: Cost Function\n",
    "\n",
    "We'll use Mean Squared Error (MSE) loss for the autoencoder. This loss function measures the average squared difference between the original and reconstructed images, guiding the network to minimize the reconstruction error."
   ]
  },
  {
   "cell_type": "code",
   "execution_count": null,
   "metadata": {
    "execution": {},
    "executionInfo": {
     "elapsed": 6,
     "status": "ok",
     "timestamp": 1718209171272,
     "user": {
      "displayName": "Leila Wehbe",
      "userId": "09974289515413278669"
     },
     "user_tz": 240
    }
   },
   "outputs": [],
   "source": [
    "############################################################\n",
    "# Hint for output_flat: To flatten the output tensor for comparison, reshape it to\n",
    "# have a size of (batch_size, -1) where batch_size is the number of samples.\n",
    "# Hint for target_flat: Similarly, flatten the target tensor to match the shape\n",
    "# of the flattened output tensor, ensuring it has a size of (batch_size, -1).\n",
    "raise NotImplementedError(\"Student exercise\")\n",
    "############################################################\n",
    "\n",
    "def cost_autoencoder(output, target):\n",
    "    criterion = nn.MSELoss()\n",
    "    output_flat = ...\n",
    "    target_flat = ...\n",
    "    cost = criterion(output_flat, target_flat)\n",
    "    return cost"
   ]
  },
  {
   "cell_type": "code",
   "execution_count": null,
   "metadata": {
    "execution": {},
    "executionInfo": {
     "elapsed": 5,
     "status": "ok",
     "timestamp": 1718209171272,
     "user": {
      "displayName": "Leila Wehbe",
      "userId": "09974289515413278669"
     },
     "user_tz": 240
    }
   },
   "outputs": [],
   "source": [
    "#to_remove solution\n",
    "def cost_autoencoder(output, target):\n",
    "    criterion = nn.MSELoss()\n",
    "    output_flat = output.view(output.size(0), -1)\n",
    "    target_flat = target.view(target.size(0), -1)\n",
    "    cost = criterion(output_flat, target_flat)\n",
    "    return cost"
   ]
  },
  {
   "cell_type": "code",
   "execution_count": null,
   "metadata": {
    "cellView": "form",
    "execution": {}
   },
   "outputs": [],
   "source": [
    "# @title Submit your feedback\n",
    "content_review(f\"{feedback_prefix}_Cost_Function_3\")"
   ]
  },
  {
   "cell_type": "markdown",
   "metadata": {
    "execution": {}
   },
   "source": [
    "### Dataset\n",
    "\n",
    "This custom dataset class prepares the MNIST images for the autoencoder task, applying necessary transformations and using the images themselves as targets for reconstruction."
   ]
  },
  {
   "cell_type": "code",
   "execution_count": null,
   "metadata": {
    "execution": {},
    "executionInfo": {
     "elapsed": 5,
     "status": "ok",
     "timestamp": 1718209171272,
     "user": {
      "displayName": "Leila Wehbe",
      "userId": "09974289515413278669"
     },
     "user_tz": 240
    }
   },
   "outputs": [],
   "source": [
    "class AutoencoderMNIST(torch.utils.data.Dataset):\n",
    "    def __init__(self, mnist_dataset):\n",
    "        self.dataset = mnist_dataset\n",
    "\n",
    "    def __getitem__(self, index):\n",
    "        X, y = self.dataset[index]\n",
    "        return X, X\n",
    "\n",
    "    def __len__(self):\n",
    "        return len(self.dataset)"
   ]
  },
  {
   "cell_type": "markdown",
   "metadata": {
    "execution": {}
   },
   "source": [
    "### Model training and evaluation\n",
    "\n",
    "We train separate autoencoder networks on different dataset sizes (10, 100, 1000, 10000) to analyze how the amount of data influences the model's performance. The training continues until the validation performance ceases to improve, and test performance is recorded at each epoch.\n",
    "\n",
    "Note: we also plot here some of the original validation images and how they were reconstructed by each network after 10 iterations."
   ]
  },
  {
   "cell_type": "code",
   "execution_count": null,
   "metadata": {
    "execution": {},
    "executionInfo": {
     "elapsed": 168488,
     "status": "ok",
     "timestamp": 1718209378567,
     "user": {
      "displayName": "Leila Wehbe",
      "userId": "09974289515413278669"
     },
     "user_tz": 240
    }
   },
   "outputs": [],
   "source": [
    "set_seed(42)\n",
    "\n",
    "# Define constants for autoencoder task\n",
    "training_points = np.array([10, 100, 1000, 10000])\n",
    "task_name_autoencoder = \"autoencoder\"\n",
    "\n",
    "# Size of the bottleneck. We'll keep this consistent across experiments.\n",
    "M = 16\n",
    "acc_flag_autoencoder = False\n",
    "triplet_flag_autoencoder = False\n",
    "epochs_max_autoencoder = 10\n",
    "\n",
    "train_dataset_autoencoder = AutoencoderMNIST(train_dataset)\n",
    "val_dataset_autoencoder = AutoencoderMNIST(val_dataset)\n",
    "test_dataset_original_autoencoder = AutoencoderMNIST(test_dataset_original)\n",
    "test_loader_original_autoencoder = torch.utils.data.DataLoader(\n",
    "    dataset=test_dataset_original_autoencoder,\n",
    "    batch_size=batch_size,\n",
    "    shuffle=True\n",
    ")\n",
    "\n",
    "my_epoch_Autoencoder = []\n",
    "my_train_cost_Autoencoder = []\n",
    "my_val_cost_Autoencoder = []\n",
    "my_test_cost_Autoencoder = []\n",
    "reconstructions = []\n",
    "\n",
    "for N_train_data in training_points:\n",
    "    model = Autoencoder(ConvNeuralNet(), BottleneckLayer(M), ConvNeuralNetDecoder(M)).to(device)\n",
    "\n",
    "    sampled_train_loader, sampled_val_loader = get_random_sample_train_val(\n",
    "        train_dataset_autoencoder,\n",
    "        val_dataset_autoencoder,\n",
    "        batch_size,\n",
    "        N_train_data\n",
    "    )\n",
    "    optimizer = torch.optim.Adam(params=model.parameters(), lr=0.001)\n",
    "\n",
    "    my_epoch, my_train_cost, my_val_cost, my_test_cost = train(\n",
    "        model,\n",
    "        sampled_train_loader,\n",
    "        sampled_val_loader,\n",
    "        test_loader_original_autoencoder,\n",
    "        cost_autoencoder,\n",
    "        optimizer,\n",
    "        epochs_max_autoencoder,\n",
    "        acc_flag_autoencoder,\n",
    "        triplet_flag_autoencoder,\n",
    "        task_name_autoencoder,\n",
    "        N_train_data\n",
    "    )\n",
    "    my_epoch_Autoencoder.append(my_epoch)\n",
    "    my_train_cost_Autoencoder.append(my_train_cost)\n",
    "    my_val_cost_Autoencoder.append(my_val_cost)\n",
    "    my_test_cost_Autoencoder.append(my_test_cost)\n",
    "\n",
    "    original_images = []\n",
    "    reconstructed_images = []\n",
    "    model.eval()\n",
    "    with torch.no_grad():\n",
    "        for batch_idx, (X, _) in enumerate(sampled_val_loader):\n",
    "            if batch_idx == 0:\n",
    "                outputs = model(X)\n",
    "                orig = X.numpy()\n",
    "                original_images.extend(orig)\n",
    "                recon = outputs.numpy()\n",
    "                reconstructed_images.extend(recon)\n",
    "                plot_reconstructions(original_images, reconstructed_images, N_train_data, epochs_max_autoencoder)\n",
    "                break\n",
    "\n",
    "    reconstructions.append((N_train_data, original_images, reconstructed_images))"
   ]
  },
  {
   "cell_type": "markdown",
   "metadata": {
    "execution": {}
   },
   "source": [
    "### Discussion point 3"
   ]
  },
  {
   "cell_type": "markdown",
   "metadata": {
    "execution": {}
   },
   "source": [
    "- Plot the performance of the network across epochs. What's the relationship between sample size and iteration complexity?\n",
    "- What do you think of the images plotted above? Does the autoencoding task require more or less data than the two previous tasks (classification of digit and regression of number of ON pixels)?\n"
   ]
  },
  {
   "cell_type": "code",
   "execution_count": null,
   "metadata": {
    "execution": {},
    "executionInfo": {
     "elapsed": 1773,
     "status": "ok",
     "timestamp": 1718210609824,
     "user": {
      "displayName": "Leila Wehbe",
      "userId": "09974289515413278669"
     },
     "user_tz": 240
    }
   },
   "outputs": [],
   "source": [
    "# Create a single plot for all test costs with a logarithmic scale\n",
    "\n",
    "with plt.xkcd():\n",
    "    plt.figure(figsize=(8, 6))  # Set the figure size\n",
    "\n",
    "    for i, n in enumerate(training_points):\n",
    "        epochs = my_epoch_Autoencoder[i]\n",
    "        test_cost = my_test_cost_Autoencoder[i]\n",
    "        plt.plot(epochs, test_cost, marker='o', linestyle='-', label=f'{n} training points')\n",
    "\n",
    "    plt.xlabel('Epochs')\n",
    "    plt.ylabel('Test cost (log scale)')\n",
    "    plt.title('Test cost over epochs for different training points (autoencoder)')\n",
    "    plt.yscale('log')\n",
    "    plt.legend()\n",
    "    plt.grid(True)\n",
    "    plt.show()"
   ]
  },
  {
   "cell_type": "code",
   "execution_count": null,
   "metadata": {
    "execution": {}
   },
   "outputs": [],
   "source": [
    "#to_remove explanation\n",
    "\"\"\"\n",
    "- The model requires more data to train effectively. With a limited dataset, the model lacks\n",
    "the necessary information to learn the underlying patterns and generalize well to new data.\n",
    "- Even with a dataset of 1,000 training points, the model has still not quite learning the task.\n",
    "This suggests that the current training strategy or model architecture might need adjustment\n",
    "to fully use the available data and improve performance.\n",
    "\"\"\""
   ]
  },
  {
   "cell_type": "code",
   "execution_count": null,
   "metadata": {
    "cellView": "form",
    "execution": {}
   },
   "outputs": [],
   "source": [
    "# @title Submit your feedback\n",
    "content_review(f\"{feedback_prefix}_Discussion_Point_3\")"
   ]
  },
  {
   "cell_type": "markdown",
   "metadata": {
    "execution": {}
   },
   "source": [
    "## Section 1.4: Self-supervised - Inpainting\n",
    "\n",
    "In this section, we tackle a self-supervised task using the same architecture. Given an image of a handwritten digit with a patch of size $N×N$ masked out, the objective is to reconstruct the image by accurately predicting the pixel values in the masked region. Thus, the network must use the surrounding context to effectively \"inpaint\" the missing portion.\n",
    "\n",
    "### Task objective\n",
    "\n",
    "The task is to build an autoencoder that can fill in missing parts of an image, a process known as inpainting. This involves training the model to reconstruct the entire image. Implicitely, the model will predict and reconstruct the obstructed regions of the image using the contextual information from the unobstructed parts.\n",
    "\n",
    "Important note: this is a simplified inpainting task and not how inpainting is usually define. Usually, the region to be inpainted is provided as part of the input.\n",
    "\n",
    "### Random masking\n",
    "\n",
    "First, we implement a function to randomly mask a part of the image. This function will be used to generate the training data for our inpainting task."
   ]
  },
  {
   "cell_type": "code",
   "execution_count": null,
   "metadata": {
    "execution": {},
    "executionInfo": {
     "elapsed": 2,
     "status": "ok",
     "timestamp": 1718209379977,
     "user": {
      "displayName": "Leila Wehbe",
      "userId": "09974289515413278669"
     },
     "user_tz": 240
    }
   },
   "outputs": [],
   "source": [
    "def random_mask(images, mask_size=8):\n",
    "    \"\"\"\n",
    "    Randomly mask an N x N patch in a batch of images.\n",
    "\n",
    "    Parameters:\n",
    "    - images: A batch of images as a PyTorch tensor, shape (batch_size, channels, height, width)\n",
    "    - mask_size: Size of the square mask (N)\n",
    "\n",
    "    Returns:\n",
    "    - A new batch of images with the masked portions zeroed out.\n",
    "    \"\"\"\n",
    "    # Clone the images to avoid modifying the original data\n",
    "    obstructed_images = images.clone()\n",
    "\n",
    "    batch_size, height, width = images.size()\n",
    "\n",
    "    for i in range(batch_size):\n",
    "        # Choose a random location for the mask\n",
    "        y = np.random.randint(0, height - mask_size)\n",
    "        x = np.random.randint(0, width - mask_size)\n",
    "\n",
    "        # Apply the mask by setting the pixel values to 0 (or another value)\n",
    "        obstructed_images[i, y:y + mask_size, x:x + mask_size] = 0\n",
    "\n",
    "    return obstructed_images"
   ]
  },
  {
   "cell_type": "markdown",
   "metadata": {
    "execution": {}
   },
   "source": [
    "Here's one example of a masked image."
   ]
  },
  {
   "cell_type": "code",
   "execution_count": null,
   "metadata": {
    "execution": {}
   },
   "outputs": [],
   "source": [
    "plt.figure(figsize=(4, 2))\n",
    "ind = 12\n",
    "img, label = train_dataset[ind]\n",
    "plt.subplot(121)\n",
    "plt.imshow(img.numpy().squeeze(), cmap='gray')\n",
    "plt.title(f\"Original\")\n",
    "plt.axis(False)\n",
    "plt.tight_layout()\n",
    "plt.subplot(122)\n",
    "img_masked = random_mask(img, mask_size=12)\n",
    "plt.imshow(img_masked.numpy().squeeze(), cmap='gray')\n",
    "plt.title(f\"Masked\")\n",
    "plt.axis(False)\n",
    "plt.tight_layout()"
   ]
  },
  {
   "cell_type": "markdown",
   "metadata": {
    "execution": {}
   },
   "source": [
    "This function randomly places a N×N mask in each image by setting the pixel values within this region to zero.\n",
    "\n",
    "### Autoencoder and cost function\n",
    "\n",
    "We re-use the same autoencoder architecture as in the previous sections, with an encoder, bottleneck layer, and decoder. We also use the Mean Squared Error (MSE) loss, as it measures the reconstruction error between the predicted and actual pixel values."
   ]
  },
  {
   "cell_type": "markdown",
   "metadata": {
    "execution": {}
   },
   "source": [
    "### Dataset\n",
    "\n",
    "This custom dataset class prepares the MNIST images for the inpainting task, applying necessary transformations and adding random masking to create the training data."
   ]
  },
  {
   "cell_type": "code",
   "execution_count": null,
   "metadata": {
    "execution": {},
    "executionInfo": {
     "elapsed": 4,
     "status": "ok",
     "timestamp": 1718209379979,
     "user": {
      "displayName": "Leila Wehbe",
      "userId": "09974289515413278669"
     },
     "user_tz": 240
    }
   },
   "outputs": [],
   "source": [
    "class InpaintingMNIST(torch.utils.data.Dataset):\n",
    "    def __init__(self, mnist_dataset):\n",
    "        self.dataset = mnist_dataset\n",
    "\n",
    "    def __getitem__(self, index):\n",
    "        X, y = self.dataset[index]\n",
    "        obstructed = random_mask(X, mask_size=8)\n",
    "        return obstructed, X\n",
    "\n",
    "    def __len__(self):\n",
    "        return len(self.dataset)"
   ]
  },
  {
   "cell_type": "markdown",
   "metadata": {
    "execution": {}
   },
   "source": [
    "### Model training and evaluation\n",
    "\n",
    "We train the autoencoder on different dataset sizes (10, 100, 1000, 10000) to evaluate how the sample size affects the model's performance. Training continues until validation performance stops improving, and test performance is recorded at each epoch. "
   ]
  },
  {
   "cell_type": "code",
   "execution_count": null,
   "metadata": {
    "execution": {},
    "executionInfo": {
     "elapsed": 64228,
     "status": "ok",
     "timestamp": 1718209620094,
     "user": {
      "displayName": "Leila Wehbe",
      "userId": "09974289515413278669"
     },
     "user_tz": 240
    }
   },
   "outputs": [],
   "source": [
    "# Define constants\n",
    "set_seed(42)\n",
    "\n",
    "training_points = np.array([10, 100, 1000, 10000])\n",
    "task_name_inpainting = \"inpainting\"\n",
    "\n",
    "acc_flag_inpainting = False\n",
    "triplet_flag_inpainting = False\n",
    "epochs_max_inpainting = 10\n",
    "\n",
    "my_epoch_Inpainting = []\n",
    "my_train_cost_Inpainting = []\n",
    "my_val_cost_Inpainting = []\n",
    "my_test_cost_Inpainting = []\n",
    "reconstructions_inpainting = []\n",
    "\n",
    "# Create inpainting versions of the training, validation, and test datasets\n",
    "train_dataset_inpainting = InpaintingMNIST(train_dataset)\n",
    "val_dataset_inpainting = InpaintingMNIST(val_dataset)\n",
    "test_dataset_original_inpainting = InpaintingMNIST(test_dataset_original)\n",
    "\n",
    "# Create a data loader for the inpainting test dataset\n",
    "test_loader_original_inpainting = torch.utils.data.DataLoader(\n",
    "    dataset=test_dataset_original_inpainting,\n",
    "    batch_size=batch_size,\n",
    "    shuffle=True\n",
    ")\n",
    "\n",
    "for N_train_data in training_points:\n",
    "    model = Autoencoder(ConvNeuralNet(), BottleneckLayer(M), ConvNeuralNetDecoder(M)).to(device)\n",
    "\n",
    "    sampled_train_loader, sampled_val_loader = get_random_sample_train_val(\n",
    "        train_dataset_inpainting,\n",
    "        val_dataset_inpainting,\n",
    "        batch_size,\n",
    "        N_train_data\n",
    "    )\n",
    "    optimizer = torch.optim.Adam(params=model.parameters(), lr=0.001)\n",
    "\n",
    "    # Update the train function call to get training costs\n",
    "    my_epoch, my_train_cost, my_val_cost, my_test_cost = train(\n",
    "        model,\n",
    "        sampled_train_loader,\n",
    "        sampled_val_loader,\n",
    "        test_loader_original_inpainting,\n",
    "        cost_autoencoder,\n",
    "        optimizer,\n",
    "        epochs_max_inpainting,\n",
    "        acc_flag_inpainting,\n",
    "        triplet_flag_inpainting,\n",
    "        task_name_inpainting,\n",
    "        N_train_data\n",
    "    )\n",
    "\n",
    "    my_epoch_Inpainting.append(my_epoch)\n",
    "    my_train_cost_Inpainting.append(my_train_cost)\n",
    "    my_val_cost_Inpainting.append(my_val_cost)\n",
    "    my_test_cost_Inpainting.append(my_test_cost)\n",
    "    original_images = []\n",
    "    reconstructed_images = []\n",
    "    model.eval()\n",
    "    with torch.no_grad():\n",
    "      for batch_idx, (X, _) in enumerate(sampled_val_loader):\n",
    "          if batch_idx == 0:  # Only visualize the first batch for simplicity\n",
    "              outputs = model(X)\n",
    "              orig = X.numpy()\n",
    "              original_images.extend(orig)\n",
    "              recon = outputs.numpy()\n",
    "              reconstructed_images.extend(recon)\n",
    "              fig = plt.figure(figsize=(8, 4))\n",
    "              rows, cols = 2, 6\n",
    "              image_count = 1\n",
    "              for i in range(1,(rows*cols),2 ):\n",
    "                  fig.add_subplot(rows, cols, i)\n",
    "                  plt.imshow(np.squeeze(orig[image_count]), cmap='gray')\n",
    "                  fig.add_subplot(rows, cols, i+1)\n",
    "                  plt.imshow(np.squeeze(recon[image_count]), cmap='gray')\n",
    "                  image_count+=1\n",
    "              break\n",
    "              plt.suptitle(\"Training for 10 epochs with {} points\".format(N_train_data))\n",
    "\n",
    "    reconstructions_inpainting.append((N_train_data, original_images, reconstructed_images))"
   ]
  },
  {
   "cell_type": "markdown",
   "metadata": {
    "execution": {}
   },
   "source": [
    "### Discussion point 4"
   ]
  },
  {
   "cell_type": "markdown",
   "metadata": {
    "execution": {}
   },
   "source": [
    "- Plot the performance of the model on the test dataset for each network across epochs. What's the relationship between sample size and number of training epochs?\n",
    "- How do these compare with the other examples above?"
   ]
  },
  {
   "cell_type": "code",
   "execution_count": null,
   "metadata": {
    "execution": {},
    "executionInfo": {
     "elapsed": 1019,
     "status": "ok",
     "timestamp": 1718210627109,
     "user": {
      "displayName": "Leila Wehbe",
      "userId": "09974289515413278669"
     },
     "user_tz": 240
    }
   },
   "outputs": [],
   "source": [
    "# Create a single plot for all test costs with a logarithmic scale\n",
    "with plt.xkcd():\n",
    "    plt.figure(figsize=(8, 6))  # Set the figure size\n",
    "\n",
    "    for i, n in enumerate(training_points):\n",
    "        epochs = my_epoch_Inpainting[i]\n",
    "        test_cost = my_test_cost_Inpainting[i]\n",
    "        plt.plot(epochs, test_cost, marker='o', linestyle='-', label=f'{n} training points')\n",
    "\n",
    "    plt.xlabel('Epochs')\n",
    "    plt.ylabel('Test cost (log scale)')\n",
    "    plt.title('Test cost over epochs for different training points (inpainting)')\n",
    "    plt.yscale('log')\n",
    "    plt.legend()\n",
    "    plt.grid(True)\n",
    "    plt.show()"
   ]
  },
  {
   "cell_type": "code",
   "execution_count": null,
   "metadata": {
    "execution": {}
   },
   "outputs": [],
   "source": [
    "# to_remove explanation\n",
    "\"\"\"\n",
    "- Inpainting, similar to autoencoding, necessitates a substantial amount of data for effective training.\n",
    "- Even after 10,000 examples and 10 epochs, the network is still learning. The multiple masked images\n",
    "  generated from the same image means the network keeps learning from the same images.\n",
    "\"\"\""
   ]
  },
  {
   "cell_type": "code",
   "execution_count": null,
   "metadata": {
    "cellView": "form",
    "execution": {}
   },
   "outputs": [],
   "source": [
    "# @title Submit your feedback\n",
    "content_review(f\"{feedback_prefix}_Discussion_Point_5\")"
   ]
  },
  {
   "cell_type": "markdown",
   "metadata": {
    "execution": {}
   },
   "source": [
    "---\n",
    "# Section 2: Generalization of representations\n",
    "\n",
    "In the first part of this tutorial, we focused on training different networks on different tasks, measuring how fast these networks learned in terms of training samples and training epochs. Here, we shift our attention to how well these representations generalize across different tasks. \n",
    "\n",
    "## Section 2.1: Transfer\n",
    "\n",
    "### Taskonomy\n",
    "\n",
    "Humans can perform a wide range of tasks. The representations within this system must be general enough to handle multiple tasks, yet specific enough to accommodate differing requirements. We assess the ability of the representations we have learned to perform different tasks by testing generalization from one model to another.\n",
    "\n",
    "### Transfer learning\n",
    "\n",
    "We'll measure the ability of a representation learned for one task to transfer to other tasks. For each of the four tasks, we'll use the network trained for the highest number of training points and epochs. A new test set will be provided for each task. To test generalization, we follow these steps:\n",
    "\n",
    "1. Create a new network for the destination task using the same architecture as in part 1.\n",
    "2. Copy the weights for the first N layers from the source network.\n",
    "3. Fix these copied weights so they do not change during training.\n",
    "4. Train the remaining layers on the destination network.\n",
    "\n",
    "After training, we'll compare the new performance to the original performance to assess transfer performance between each pair of networks. \n",
    "\n",
    "Because we have N=4 different models, we could measure $2*(N-1)*(N-2)=12$ transfer directions. In the interest of time, we'll concentrate on measuring 3 transfer performances from the last 3 models to the classification model.\n",
    "\n",
    "### Copy weights\n",
    "\n",
    "We start by defining a function to copy the weights and freeze the layers from the source model to the destination model."
   ]
  },
  {
   "cell_type": "code",
   "execution_count": null,
   "metadata": {
    "execution": {},
    "executionInfo": {
     "elapsed": 2,
     "status": "ok",
     "timestamp": 1718209621274,
     "user": {
      "displayName": "Leila Wehbe",
      "userId": "09974289515413278669"
     },
     "user_tz": 240
    }
   },
   "outputs": [],
   "source": [
    "def copy_and_freeze_layers(source_model, destination_model, N):\n",
    "    \"\"\"\n",
    "    Copies the weights of the first N layers from the source model to the\n",
    "    destination model and freezes them.\n",
    "\n",
    "    Parameters:\n",
    "    - source_model: The model from which weights are copied.\n",
    "    - destination_model: The model to which weights are copied and trained.\n",
    "    - N: The number of layers to transfer and freeze.\n",
    "\n",
    "    Note: This function assumes the first N layers are directly accessible and\n",
    "    does not handle nested modules automatically.\n",
    "    \"\"\"\n",
    "\n",
    "    # Ensure both models are in the same mode (train/eval).\n",
    "    source_model.eval()\n",
    "    destination_model.train()\n",
    "\n",
    "    # Counter to track the number of transferred layers\n",
    "    transferred_layers = 0\n",
    "\n",
    "    source_dict = source_model.state_dict()\n",
    "    dest_dict = destination_model.state_dict()\n",
    "\n",
    "    # Variables to map between layers\n",
    "    source_prefix = list(source_dict.keys())[0]\n",
    "    source_prefix = source_prefix[:source_prefix.find('.')]\n",
    "    source_dict_names = [s[s.find('.')+1:] for s in list(source_dict.keys())]\n",
    "    dest_prefix = list(dest_dict.keys())[0]\n",
    "    dest_prefix = dest_prefix[:dest_prefix.find('.')]\n",
    "    dest_dict_names = [s[s.find('.')+1:] for s in list(dest_dict.keys())]\n",
    "    print(dest_dict_names)\n",
    "\n",
    "    # Transfer layers by matching keys\n",
    "    for name in source_dict_names:\n",
    "        if name in dest_dict_names and transferred_layers < N:\n",
    "            try:\n",
    "                dest_dict[dest_prefix+'.'+name].copy_(source_dict[source_prefix+'.'+name])\n",
    "                transferred_layers += 1\n",
    "                print(f\"Copied {name}\")\n",
    "            except Exception as e:\n",
    "                print(f\"Could not copy {name}: {e}\")\n",
    "\n",
    "    # Load the updated state dictionary back to the destination model\n",
    "    destination_model.load_state_dict(dest_dict)\n",
    "    print(transferred_layers)\n",
    "    # Freeze the transferred layers\n",
    "    for name, param in destination_model.named_parameters():\n",
    "        if name[name.find('.')+1:] in source_dict_names and transferred_layers > 0:\n",
    "            print('froze ',name)\n",
    "            param.requires_grad = False\n",
    "            transferred_layers -= 1\n",
    "\n",
    "    print(f\"Copied and froze {N} layers.\")"
   ]
  },
  {
   "cell_type": "markdown",
   "metadata": {
    "execution": {}
   },
   "source": [
    "## Transfer example 1: regression to classification\n",
    "\n"
   ]
  },
  {
   "cell_type": "markdown",
   "metadata": {
    "execution": {}
   },
   "source": [
    "We first copy the weights from a regression network to a classification network and freeze them."
   ]
  },
  {
   "cell_type": "code",
   "execution_count": null,
   "metadata": {
    "execution": {},
    "executionInfo": {
     "elapsed": 0,
     "status": "ok",
     "timestamp": 1718209621291,
     "user": {
      "displayName": "Leila Wehbe",
      "userId": "09974289515413278669"
     },
     "user_tz": 240
    }
   },
   "outputs": [],
   "source": [
    "MODEL_NAME_SOURCE = \"models/ConvNet_regression_10000_epoch_10.pth\"\n",
    "model_source = RegressionConvNet(ConvNeuralNet(), RegressionOutputLayer())\n",
    "\n",
    "# Load the checkpoint\n",
    "checkpoint = torch.load(MODEL_NAME_SOURCE)\n",
    "\n",
    "# Extract the state dictionary from the checkpoint\n",
    "model_state_dict = checkpoint['model_state_dict']\n",
    "\n",
    "# Load the state dictionary into the model\n",
    "model_source.load_state_dict(model_state_dict)\n",
    "\n",
    "# Define the destination model\n",
    "model_destination = ClassificationConvNet(ConvNeuralNet(), ClassificationOutputLayer())\n",
    "\n",
    "# Number of layers to transfer and freeze\n",
    "N = 8\n",
    "\n",
    "# Transfer and freeze layers\n",
    "copy_and_freeze_layers(model_source, model_destination, N)"
   ]
  },
  {
   "cell_type": "markdown",
   "metadata": {
    "execution": {}
   },
   "source": [
    "#### Training\n",
    "\n",
    "We train the destination network on the classification task with the transferred weights."
   ]
  },
  {
   "cell_type": "code",
   "execution_count": null,
   "metadata": {
    "execution": {},
    "executionInfo": {
     "elapsed": 72190,
     "status": "ok",
     "timestamp": 1718209693462,
     "user": {
      "displayName": "Leila Wehbe",
      "userId": "09974289515413278669"
     },
     "user_tz": 240
    }
   },
   "outputs": [],
   "source": [
    "set_seed(42)\n",
    "\n",
    "batch_size = 64  # Define your batch size\n",
    "\n",
    "test_loader_transfer = torch.utils.data.DataLoader(dataset = test_dataset_transfer,\n",
    "                                           batch_size = batch_size,\n",
    "                                           shuffle = True)\n",
    "sampled_train_loader, sampled_val_loader = get_random_sample_train_val(train_dataset, val_dataset, batch_size, N_train_data)\n",
    "\n",
    "# Optimizer\n",
    "optimizer = optim.Adam(params=model_destination.parameters(), lr=0.001)\n",
    "\n",
    "# Training parameters\n",
    "N_train_data = 10000\n",
    "task_name = \"regression_classification\"\n",
    "epochs_max = 10  # Number of epochs\n",
    "acc_flag = False  # Whether to calculate accuracy\n",
    "triplet_flag = False  # Whether to use triplet loss\n",
    "\n",
    "# Call the train_transfer function\n",
    "my_epoch_transfer1, my_train_cost_transfer1, my_val_cost_transfer1, my_test_cost_transfer1 = train_transfer(\n",
    "    model_destination,\n",
    "    sampled_train_loader,\n",
    "    sampled_val_loader,\n",
    "    test_loader_transfer,\n",
    "    cost_classification,\n",
    "    optimizer,\n",
    "    epochs_max,\n",
    "    acc_flag,\n",
    "    triplet_flag,\n",
    "    task_name,\n",
    "    N_train_data\n",
    ")"
   ]
  },
  {
   "cell_type": "markdown",
   "metadata": {
    "execution": {}
   },
   "source": [
    "We compare the performance of the transferred model with the original network."
   ]
  },
  {
   "cell_type": "code",
   "execution_count": null,
   "metadata": {
    "execution": {},
    "executionInfo": {
     "elapsed": 1484,
     "status": "ok",
     "timestamp": 1718210650543,
     "user": {
      "displayName": "Leila Wehbe",
      "userId": "09974289515413278669"
     },
     "user_tz": 240
    }
   },
   "outputs": [],
   "source": [
    "# Create a single plot for all training costs with a logarithmic scale\n",
    "with plt.xkcd():\n",
    "    plt.figure(figsize=(8, 6))  # Set the figure size\n",
    "\n",
    "    epochs = my_epoch_Classification[-1]\n",
    "    epochs_transfer_1 = my_epoch_transfer1\n",
    "    test_cost = my_test_cost_Classification[-1]\n",
    "    test_cost_1 = my_test_cost_transfer1\n",
    "\n",
    "    # Plot the autoencoder training cost\n",
    "    plt.plot(epochs, test_cost, marker='o', linestyle='-', label='Original Classifier (10000 training points)')\n",
    "\n",
    "    # Plot the classification_autoencoder training cost\n",
    "    plt.plot(epochs_transfer_1, test_cost_1, marker='x', linestyle='-', label='Regression to Classification (10000 training points)')\n",
    "\n",
    "    # Set the labels and title\n",
    "    plt.xlabel('Epochs')\n",
    "    plt.ylabel('Test cost (log scale)')\n",
    "    plt.title('Test cost over epochs')\n",
    "    plt.yscale('log')  # Set the y-axis to a logarithmic scale\n",
    "\n",
    "    # Add the legend and grid\n",
    "    plt.legend()\n",
    "    plt.grid(True)\n",
    "\n",
    "    # Show the plot\n",
    "    plt.show()"
   ]
  },
  {
   "cell_type": "markdown",
   "metadata": {
    "execution": {}
   },
   "source": [
    "### Discussion point 5\n",
    "\n",
    "What did the regression model learn? What does its performance on the classification task after fine-tuning indicate?"
   ]
  },
  {
   "cell_type": "code",
   "execution_count": null,
   "metadata": {
    "execution": {}
   },
   "outputs": [],
   "source": [
    "# to_remove explanation\n",
    "\"\"\"\n",
    "The regression model has learned a representation of visual stimuli which is not useful\n",
    "for classification. There is no positive transfer between the regression model and the\n",
    "classification model.\n",
    "\"\"\""
   ]
  },
  {
   "cell_type": "code",
   "execution_count": null,
   "metadata": {
    "cellView": "form",
    "execution": {}
   },
   "outputs": [],
   "source": [
    "# @title Submit your feedback\n",
    "content_review(f\"{feedback_prefix}_Discussion_Point_5\")"
   ]
  },
  {
   "cell_type": "markdown",
   "metadata": {
    "execution": {}
   },
   "source": [
    "## Transfer example 2: autoencoder to classification"
   ]
  },
  {
   "cell_type": "markdown",
   "metadata": {
    "execution": {}
   },
   "source": [
    "Now we do the same, but we transfer the weights of the network to predict the total number of on pixels to the autoencoder task. How well do you think this will work?"
   ]
  },
  {
   "cell_type": "code",
   "execution_count": null,
   "metadata": {
    "execution": {},
    "executionInfo": {
     "elapsed": 0,
     "status": "ok",
     "timestamp": 1718209694545,
     "user": {
      "displayName": "Leila Wehbe",
      "userId": "09974289515413278669"
     },
     "user_tz": 240
    }
   },
   "outputs": [],
   "source": [
    "MODEL_NAME_SOURCE = \"models/ConvNet_autoencoder_10000_epoch_10.pth\"\n",
    "model_source = Autoencoder(ConvNeuralNet(), BottleneckLayer(M), ConvNeuralNetDecoder(M))\n",
    "\n",
    "# Load the checkpoint\n",
    "checkpoint = torch.load(MODEL_NAME_SOURCE)\n",
    "\n",
    "# Extract the state dictionary from the checkpoint\n",
    "model_state_dict = checkpoint['model_state_dict']\n",
    "\n",
    "# Load the state dictionary into the model\n",
    "model_source.load_state_dict(model_state_dict)\n",
    "\n",
    "# Define the destination model\n",
    "\n",
    "model_destination = ClassificationConvNet(ConvNeuralNet(), ClassificationOutputLayer())\n",
    "\n",
    "# Number of layers to transfer and freeze\n",
    "N = 8\n",
    "\n",
    "# Transfer and freeze layers\n",
    "copy_and_freeze_layers(model_source, model_destination, N)"
   ]
  },
  {
   "cell_type": "code",
   "execution_count": null,
   "metadata": {
    "execution": {},
    "executionInfo": {
     "elapsed": 72995,
     "status": "ok",
     "timestamp": 1718209767523,
     "user": {
      "displayName": "Leila Wehbe",
      "userId": "09974289515413278669"
     },
     "user_tz": 240
    }
   },
   "outputs": [],
   "source": [
    "set_seed(42)\n",
    "\n",
    "batch_size = 64  # Define your batch size\n",
    "\n",
    "test_loader_transfer = torch.utils.data.DataLoader(dataset = test_dataset_transfer,\n",
    "                                           batch_size = batch_size,\n",
    "                                           shuffle = True)\n",
    "sampled_train_loader, sampled_val_loader = get_random_sample_train_val(train_dataset, val_dataset, batch_size, N_train_data)\n",
    "\n",
    "# Optimizer\n",
    "optimizer = optim.Adam(params=model_destination.parameters(), lr=0.001)\n",
    "\n",
    "# Training parameters\n",
    "N_train_data = 10000\n",
    "task_name = \"autoencoder_classification\"\n",
    "epochs_max = 10  # Number of epochs\n",
    "acc_flag = False  # Whether to calculate accuracy\n",
    "triplet_flag = False  # Whether to use triplet loss\n",
    "\n",
    "# Call the train_transfer function\n",
    "my_epoch_transfer2, my_train_cost_transfer2, my_val_cost_transfer2, my_test_cost_transfer2 = train_transfer(\n",
    "    model_destination,\n",
    "    sampled_train_loader,\n",
    "    sampled_val_loader,\n",
    "    test_loader_transfer,\n",
    "    cost_classification,\n",
    "    optimizer,\n",
    "    epochs_max,\n",
    "    acc_flag,\n",
    "    triplet_flag,\n",
    "    task_name,\n",
    "    N_train_data\n",
    ")"
   ]
  },
  {
   "cell_type": "markdown",
   "metadata": {
    "execution": {}
   },
   "source": [
    "We compare the performance of the transferred model with the original network. "
   ]
  },
  {
   "cell_type": "code",
   "execution_count": null,
   "metadata": {
    "execution": {},
    "executionInfo": {
     "elapsed": 1969,
     "status": "ok",
     "timestamp": 1718210668696,
     "user": {
      "displayName": "Leila Wehbe",
      "userId": "09974289515413278669"
     },
     "user_tz": 240
    }
   },
   "outputs": [],
   "source": [
    "# Create a single plot for all training costs with a logarithmic scale\n",
    "with plt.xkcd():\n",
    "    plt.figure(figsize=(8, 6))  # Set the figure size\n",
    "\n",
    "    epochs = my_epoch_Classification[-1]\n",
    "    epochs_transfer_1 = my_epoch_transfer1\n",
    "    epochs_transfer_2 = my_epoch_transfer2\n",
    "    test_cost = my_test_cost_Classification[-1]\n",
    "    test_cost_1 = my_test_cost_transfer1\n",
    "    test_cost_2 = my_test_cost_transfer2\n",
    "\n",
    "    # Plot the autoencoder training cost\n",
    "    plt.plot(epochs, test_cost, marker='o', linestyle='-', label='Original Classifier (10000 training points)')\n",
    "\n",
    "    # Plot the classification_autoencoder training cost\n",
    "    plt.plot(epochs_transfer_1, test_cost_1, marker='x', linestyle='-', label='Regression to Classification (10000 training points)')\n",
    "\n",
    "# Plot the classification_autoencoder training cost\n",
    "    plt.plot(epochs_transfer_2, test_cost_2, marker='x', linestyle='-', label='Autoencoder to Classification (10000 training points)')\n",
    "\n",
    "    # Set the labels and title\n",
    "    plt.xlabel('Epochs')\n",
    "    plt.ylabel('Test cost (log scale)')\n",
    "    plt.title('Test cost over epochs')\n",
    "    plt.yscale('log')  # Set the y-axis to a logarithmic scale\n",
    "\n",
    "    # Add the legend and grid\n",
    "    plt.legend()\n",
    "    plt.grid(True)\n",
    "\n",
    "    # Show the plot\n",
    "    plt.show()"
   ]
  },
  {
   "cell_type": "markdown",
   "metadata": {
    "execution": {}
   },
   "source": [
    "### Discussion point 6\n",
    "\n",
    "How well does the representation learned on the autoencoder transfer to classification?"
   ]
  },
  {
   "cell_type": "code",
   "execution_count": null,
   "metadata": {
    "execution": {}
   },
   "outputs": [],
   "source": [
    "# to_remove explanation\n",
    "\"\"\"\n",
    "The representations learned by the autoencoder transfer somewhat to the classification\n",
    "task, far more than in the simple regression task.\n",
    "\"\"\""
   ]
  },
  {
   "cell_type": "code",
   "execution_count": null,
   "metadata": {
    "cellView": "form",
    "execution": {}
   },
   "outputs": [],
   "source": [
    "# @title Submit your feedback\n",
    "content_review(f\"{feedback_prefix}_Discussion_Point_6\")"
   ]
  },
  {
   "cell_type": "markdown",
   "metadata": {
    "execution": {}
   },
   "source": [
    "## Transfer example 3: inpainting to classification\n",
    "\n",
    "Finally, we'll transfer the weights of the inpainting network to the classification network. How well do you think this will work?"
   ]
  },
  {
   "cell_type": "code",
   "execution_count": null,
   "metadata": {
    "execution": {}
   },
   "outputs": [],
   "source": [
    "MODEL_NAME_SOURCE = \"models/ConvNet_inpainting_10000_epoch_10.pth\"\n",
    "M = 16\n",
    "model_source = Autoencoder(ConvNeuralNet(), BottleneckLayer(M), ConvNeuralNetDecoder(M))\n",
    "\n",
    "# Load the checkpoint\n",
    "checkpoint = torch.load(MODEL_NAME_SOURCE)\n",
    "\n",
    "# Extract the state dictionary from the checkpoint\n",
    "model_state_dict = checkpoint['model_state_dict']\n",
    "\n",
    "# Load the state dictionary into the model\n",
    "model_source.load_state_dict(model_state_dict)\n",
    "\n",
    "# Define the destination model\n",
    "\n",
    "model_destination = ClassificationConvNet(ConvNeuralNet(), ClassificationOutputLayer())\n",
    "\n",
    "# Number of layers to transfer and freeze\n",
    "N = 8\n",
    "\n",
    "# Transfer and freeze layers\n",
    "copy_and_freeze_layers(model_source, model_destination, N)"
   ]
  },
  {
   "cell_type": "code",
   "execution_count": null,
   "metadata": {
    "execution": {}
   },
   "outputs": [],
   "source": [
    "set_seed(42)\n",
    "\n",
    "batch_size = 64  # Define your batch size\n",
    "\n",
    "test_loader_transfer = torch.utils.data.DataLoader(dataset = test_dataset_transfer,\n",
    "                                           batch_size = batch_size,\n",
    "                                           shuffle = True)\n",
    "sampled_train_loader, sampled_val_loader = get_random_sample_train_val(train_dataset, val_dataset, batch_size, N_train_data)\n",
    "\n",
    "# Optimizer\n",
    "optimizer = optim.Adam(params=model_destination.parameters(), lr=0.001)\n",
    "\n",
    "# Training parameters\n",
    "N_train_data = 10000\n",
    "task_name = \"inpainting_classification\"\n",
    "epochs_max = 10  # Number of epochs\n",
    "acc_flag = False  # Whether to calculate accuracy\n",
    "triplet_flag = False  # Whether to use triplet loss\n",
    "\n",
    "# Call the train_transfer function\n",
    "my_epoch_transfer3, my_train_cost_transfer3, my_val_cost_transfer3, my_test_cost_transfer3 = train_transfer(\n",
    "    model_destination,\n",
    "    sampled_train_loader,\n",
    "    sampled_val_loader,\n",
    "    test_loader_transfer,\n",
    "    cost_classification,\n",
    "    optimizer,\n",
    "    epochs_max,\n",
    "    acc_flag,\n",
    "    triplet_flag,\n",
    "    task_name,\n",
    "    N_train_data\n",
    ")"
   ]
  },
  {
   "cell_type": "code",
   "execution_count": null,
   "metadata": {
    "execution": {}
   },
   "outputs": [],
   "source": [
    "# Create a single plot for all training costs with a logarithmic scale\n",
    "with plt.xkcd():\n",
    "    plt.figure(figsize=(8, 6))  # Set the figure size\n",
    "\n",
    "    epochs = my_epoch_Classification[-1]\n",
    "    epochs_transfer_1 = my_epoch_transfer1\n",
    "    epochs_transfer_2 = my_epoch_transfer2\n",
    "    epochs_transfer_3 = my_epoch_transfer3\n",
    "    test_cost = my_test_cost_Classification[-1]\n",
    "    test_cost_1 = my_test_cost_transfer1\n",
    "    test_cost_2 = my_test_cost_transfer2\n",
    "    test_cost_3 = my_test_cost_transfer3\n",
    "\n",
    "    plt.plot(epochs, test_cost, marker='o', linestyle='-', label='Original Classifier (10000 training points)')\n",
    "    plt.plot(epochs_transfer_1, test_cost_1, marker='x', linestyle='-', label='Regression to Classification (10000 training points)')\n",
    "    plt.plot(epochs_transfer_2, test_cost_2, marker='x', linestyle='-', label='Autoencoder to Classification (10000 training points)')\n",
    "    plt.plot(epochs_transfer_3, test_cost_3, marker='x', linestyle='-', label='Inpainting to Classification (10000 training points)')\n",
    "\n",
    "    # Set the labels and title\n",
    "    plt.xlabel('Epochs')\n",
    "    plt.ylabel('Test cost (log scale)')\n",
    "    plt.title('Test cost over epochs')\n",
    "    plt.yscale('log')  # Set the y-axis to a logarithmic scale\n",
    "\n",
    "    # Add the legend and grid\n",
    "    plt.legend()\n",
    "    plt.grid(True)\n",
    "\n",
    "    # Show the plot\n",
    "    plt.show()"
   ]
  },
  {
   "cell_type": "markdown",
   "metadata": {
    "execution": {}
   },
   "source": [
    "### Discussion point 7\n",
    "\n",
    "What does the test loss across these three networks (regression, autoencoder, inpainting) tell us about the representations learned by the networks?"
   ]
  },
  {
   "cell_type": "code",
   "execution_count": null,
   "metadata": {
    "execution": {}
   },
   "outputs": [],
   "source": [
    "# to_remove explanation\n",
    "\"\"\"\n",
    "We see that the representations learned by the regression model transfered the worst,\n",
    "while the autoencoder and inpainting tasks transferred almost on par.\n",
    "\n",
    "Interestingly, the regression model performed best *on its task*, which was very simple,\n",
    "but transfered the worst. Unsupervised tasks based on finding good representations of the\n",
    "data or finding regularities in the data can be useful for transfer learning.\n",
    "\"\"\""
   ]
  },
  {
   "cell_type": "code",
   "execution_count": null,
   "metadata": {
    "cellView": "form",
    "execution": {}
   },
   "outputs": [],
   "source": [
    "# @title Submit your feedback\n",
    "content_review(f\"{feedback_prefix}_Discussion_Point_7\")"
   ]
  },
  {
   "cell_type": "markdown",
   "metadata": {
    "execution": {}
   },
   "source": [
    "### Bonus discussion point 8\n",
    "\n",
    "\n",
    "How would you find out if the representations learned by the networks are similar or different, apart from their performance on downstream tasks?"
   ]
  },
  {
   "cell_type": "code",
   "execution_count": null,
   "metadata": {
    "execution": {}
   },
   "outputs": [],
   "source": [
    "# to_remove explanation\n",
    "\"\"\"\n",
    "In Day 3, we'll learn several ways of comparing networks at the level of architecture,\n",
    "but also at the level of representations. We'll learn about several tools to give us\n",
    "insight into what networks are learning.\n",
    "\"\"\""
   ]
  },
  {
   "cell_type": "code",
   "execution_count": null,
   "metadata": {
    "cellView": "form",
    "execution": {}
   },
   "outputs": [],
   "source": [
    "# @title Submit your feedback\n",
    "content_review(f\"{feedback_prefix}_Discussion_Point_8\")"
   ]
  },
  {
   "cell_type": "markdown",
   "metadata": {
    "execution": {}
   },
   "source": [
    "---\n",
    "# Summary"
   ]
  },
  {
   "cell_type": "markdown",
   "metadata": {
    "execution": {}
   },
   "source": [
    "In this tutorial, we've explored the concept of generalization of representation in AI. We trained a network on several distinct tasks, including classification, regression, autoencoding, and inpainting. We explored well a network trained on one task transfers to another. We found that richer tasks, including inpainting and autoencoding, lead to more useful representations for downstream tasks like classification."
   ]
  }
 ],
 "metadata": {
  "accelerator": "GPU",
  "colab": {
   "collapsed_sections": [],
   "gpuType": "T4",
   "include_colab_link": true,
   "name": "W1D2_Tutorial1",
   "provenance": [],
   "toc_visible": true
  },
  "kernel": {
   "display_name": "Python 3",
   "language": "python",
   "name": "python3"
  },
  "kernelspec": {
   "display_name": "Python 3 (ipykernel)",
   "language": "python",
   "name": "python3"
  },
  "language_info": {
   "codemirror_mode": {
    "name": "ipython",
    "version": 3
   },
   "file_extension": ".py",
   "mimetype": "text/x-python",
   "name": "python",
   "nbconvert_exporter": "python",
   "pygments_lexer": "ipython3",
   "version": "3.9.19"
  }
 },
 "nbformat": 4,
 "nbformat_minor": 4
}
